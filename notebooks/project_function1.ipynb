{
 "cells": [
  {
   "cell_type": "code",
   "execution_count": null,
   "id": "009081a5",
   "metadata": {},
   "outputs": [],
   "source": [
    "# Mel's functions\n",
    "\n",
    "import pandas as pd\n",
    "import numpy as np"
   ]
  },
  {
   "cell_type": "code",
   "execution_count": null,
   "id": "45c7a6f0",
   "metadata": {},
   "outputs": [],
   "source": [
    "def negative(df, high, cols):\n",
    "    '''\n",
    "    A funtion to create a negative value for the items that are reverse scored.\n",
    "    Takes the value and creates it as a negative\n",
    "    \n",
    "    Arguments:\n",
    "    df - a dataframe (required)\n",
    "    cols - the columns to be used (required)\n",
    "    '''\n",
    "    df[cols] = 0-df[cols]\n",
    "    return df"
   ]
  },
  {
   "cell_type": "code",
   "execution_count": null,
   "id": "d8fb9de4",
   "metadata": {},
   "outputs": [],
   "source": [
    "def sumcol(df, col1, col2, col3, col4, col5, col6, col7, col8, col9, col10):\n",
    "    '''\n",
    "    A funtion to sum the value of the total score of a trait\n",
    "    Takes all values and sums them\n",
    "    \n",
    "    Arguments:\n",
    "    df - a dataframe (required)\n",
    "    col1-col10 - The colums that need to be summed (required)\n",
    "    '''\n",
    "    return df[col1]+df[col2]+df[col3]+df[col4]+df[col5]+df[col6]+df[col7]+df[col8]+df[col9]+df[col10]"
   ]
  },
  {
   "cell_type": "code",
   "execution_count": null,
   "id": "73f8fd06",
   "metadata": {},
   "outputs": [],
   "source": [
    "def agegroup(df, upper, lower):\n",
    "    '''\n",
    "    A function to group ages together from the dataframe.\n",
    "    It takes all the values from the age groups wanted creates a new data frame with just those.\n",
    "    \n",
    "    Arguments:\n",
    "    df - a dataframe (required)\n",
    "    upper - The upper age limit of group (does not include this number) (required)\n",
    "    lower - the lower age limit of this group (required)\n",
    "    '''\n",
    "    df2 = df[df.age < upper]\n",
    "    df2 = df2[df2.age >= lower]\n",
    "    return df2"
   ]
  },
  {
   "cell_type": "code",
   "execution_count": null,
   "id": "ff4239c9",
   "metadata": {},
   "outputs": [],
   "source": []
  }
 ],
 "metadata": {
  "kernelspec": {
   "display_name": "Python 3 (ipykernel)",
   "language": "python",
   "name": "python3"
  }
 },
 "nbformat": 4,
 "nbformat_minor": 5
}
