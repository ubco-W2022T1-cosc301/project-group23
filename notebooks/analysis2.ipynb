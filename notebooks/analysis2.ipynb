{
 "cells": [
  {
   "cell_type": "markdown",
   "metadata": {},
   "source": [
    "# Ella Serber"
   ]
  },
  {
   "cell_type": "markdown",
   "metadata": {},
   "source": [
    "## Research question/interests\n",
    "My primary research question asks: Is there a relationship between gender and personality traits?\n",
    "    \n",
    " Hypothesis 1: There is a significant relationship between gender and personality traits. \n",
    "\n",
    "My secondary research question asks: How do scores between men and women differ on the 5 personality traits?\n",
    "    \n",
    "Hypothesis 2: Based on extant research, on average, women will show higher scores than men on Extraversion,          Agreeableness, and Neuroticism and there are will be no significant gender differences for Conscientiousness or Openness."
   ]
  },
  {
   "cell_type": "code",
   "execution_count": null,
   "metadata": {},
   "outputs": [],
   "source": [
    "import pandas as pd\n",
    "import numpy as np\n",
    "import seaborn as sb\n",
    "from random import randint\n",
    "import matplotlib.pyplot as plt"
   ]
  },
  {
   "cell_type": "code",
   "execution_count": null,
   "metadata": {},
   "outputs": [],
   "source": [
    "dat_1 = pd.read_csv(\"../data/raw/data.csv\", sep='\\t')\n",
    "dat_1"
   ]
  },
  {
   "cell_type": "markdown",
   "metadata": {},
   "source": [
    "## EDA"
   ]
  },
  {
   "cell_type": "code",
   "execution_count": null,
   "metadata": {},
   "outputs": [],
   "source": [
    "dat_1.shape\n",
    "#Gives number of rows and columns"
   ]
  },
  {
   "cell_type": "code",
   "execution_count": null,
   "metadata": {},
   "outputs": [],
   "source": [
    "dat_1.columns\n",
    "#Gives all column names"
   ]
  },
  {
   "cell_type": "code",
   "execution_count": null,
   "metadata": {},
   "outputs": [],
   "source": [
    "dat_1.head(5)\n",
    "#Gives shortened dataframe for specified number of rows "
   ]
  },
  {
   "cell_type": "code",
   "execution_count": null,
   "metadata": {},
   "outputs": [],
   "source": [
    "dat_1.nunique(axis=0)\n",
    "#Gives number of unique values for each column"
   ]
  },
  {
   "cell_type": "code",
   "execution_count": null,
   "metadata": {},
   "outputs": [],
   "source": [
    "dat_1.describe().apply(lambda s: s.apply(lambda x: format(x, 'f')))\n",
    "#Descriptive stats for dataframe \n",
    "#Issues with age (why is mean 50767?)"
   ]
  },
  {
   "cell_type": "code",
   "execution_count": null,
   "metadata": {},
   "outputs": [],
   "source": [
    "dat_1.age.unique()\n",
    "#Gives each unique value for a column\n",
    "#Not sure why there is a \"99999999\" value"
   ]
  },
  {
   "cell_type": "code",
   "execution_count": null,
   "metadata": {},
   "outputs": [],
   "source": [
    "dat_2 = dat_1.copy().drop(['engnat','hand','source', 'country', 'race', 'age'], axis=1)\n",
    "print(dat_2)\n",
    "#Drop unwanted columns"
   ]
  },
  {
   "cell_type": "code",
   "execution_count": null,
   "metadata": {},
   "outputs": [],
   "source": [
    "pd.isnull(dat_2).values.any()\n",
    "#No missing values"
   ]
  },
  {
   "cell_type": "code",
   "execution_count": null,
   "metadata": {},
   "outputs": [],
   "source": [
    "np.isnan(dat_2).values.any()\n",
    "#No NaN values"
   ]
  },
  {
   "cell_type": "code",
   "execution_count": null,
   "metadata": {},
   "outputs": [],
   "source": [
    "dat_2.loc[dat['E1'] == 0]\n",
    "#How to do this for all columns at once? I.e., check for \"0\" in all columns"
   ]
  },
  {
   "cell_type": "code",
   "execution_count": null,
   "metadata": {},
   "outputs": [],
   "source": [
    "pd.unique(dat[\"gender\"])\n",
    "\n",
    "#Need to remove gender = 0 (missing) and gender = 3 (other)\n",
    "\n",
    "dat_2.loc[dat['gender'] == 0]\n",
    "dat_2.loc[dat['gender'] == 3]\n",
    "#Want to drop these rows (without entering each manually) "
   ]
  },
  {
   "cell_type": "markdown",
   "metadata": {},
   "source": [
    "### Reverse Scoring"
   ]
  },
  {
   "cell_type": "code",
   "execution_count": null,
   "metadata": {},
   "outputs": [],
   "source": [
    "#Reverse Scored Items: E2, E4, E6, E8, E10, N1, N3, N5, N6, N7, N8, N9, N10, A1, A3, A5, A7, C2, C4, C6, C8, O2, O4, O6\n",
    "\n",
    "def reverseScoring(df, high, cols):\n",
    "    df[cols] = high - df[cols]\n",
    "    return df\n",
    "\n",
    "dat = reverseScoring(dat_2, 6, cols=[\"E2\", \"E4\", \"E6\", \"E8\", \"E10\", \"N1\", \"N3\", \"N5\", \"N6\", \"N7\", \"N8\", \"N9\", \"N10\", \"A1\", \"A3\", \"A5\", \"A7\", \"C2\", \"C4\", \"C6\", \"C8\", \"O2\", \"O4\", \"O6\"])\n",
    "dat"
   ]
  },
  {
   "cell_type": "markdown",
   "metadata": {},
   "source": [
    "### Factor scores"
   ]
  },
  {
   "cell_type": "code",
   "execution_count": null,
   "metadata": {},
   "outputs": [],
   "source": [
    "dat[\"E_Tot\"] = dat[\"E1\"]+dat[\"E2\"]+dat[\"E3\"]+dat[\"E4\"]+dat[\"E5\"]+dat[\"E6\"]+dat[\"E7\"]+dat[\"E8\"]+dat[\"E9\"]+dat[\"E10\"]\n",
    "dat[\"N_Tot\"] = dat[\"N1\"]+dat[\"N2\"]+dat[\"N3\"]+dat[\"N4\"]+dat[\"N5\"]+dat[\"N6\"]+dat[\"N7\"]+dat[\"N8\"]+dat[\"N9\"]+dat[\"N10\"]\n",
    "dat[\"A_Tot\"] = dat[\"A1\"]+dat[\"A2\"]+dat[\"A3\"]+dat[\"A4\"]+dat[\"A5\"]+dat[\"A6\"]+dat[\"A7\"]+dat[\"A8\"]+dat[\"A9\"]+dat[\"A10\"]\n",
    "dat[\"C_Tot\"] = dat[\"C1\"]+dat[\"C2\"]+dat[\"C3\"]+dat[\"C4\"]+dat[\"C5\"]+dat[\"C6\"]+dat[\"C7\"]+dat[\"C8\"]+dat[\"C9\"]+dat[\"C10\"]\n",
    "dat[\"O_Tot\"] = dat[\"O1\"]+dat[\"O2\"]+dat[\"O3\"]+dat[\"O4\"]+dat[\"O5\"]+dat[\"O6\"]+dat[\"O7\"]+dat[\"O8\"]+dat[\"O9\"]+dat[\"O10\"]"
   ]
  },
  {
   "cell_type": "code",
   "execution_count": null,
   "metadata": {},
   "outputs": [],
   "source": [
    "print(dat.E1.describe())\n",
    "print(dat.E_Tot.describe())\n",
    "#descriptive stats for one column "
   ]
  },
  {
   "cell_type": "markdown",
   "metadata": {},
   "source": [
    "## Subsets"
   ]
  },
  {
   "cell_type": "code",
   "execution_count": null,
   "metadata": {},
   "outputs": [],
   "source": [
    "dat_reduced_g1 = dat[[\"gender\", \"E_Tot\", \"N_Tot\", \"A_Tot\", \"C_Tot\", \"O_Tot\"]]\n",
    "values = [0,3]\n",
    "dat_reduced_g = dat_reduced_g1[dat_reduced_g1.gender.isin(values) == False]\n",
    "dat_reduced = dat[[\"E_Tot\", \"N_Tot\", \"A_Tot\", \"C_Tot\", \"O_Tot\"]]"
   ]
  },
  {
   "cell_type": "code",
   "execution_count": null,
   "metadata": {},
   "outputs": [],
   "source": [
    "values = [0, 3, 1]\n",
    "dat_f = dat_reduced_g[dat_reduced_g.gender.isin(values) == False]\n",
    "dat_f"
   ]
  },
  {
   "cell_type": "code",
   "execution_count": null,
   "metadata": {},
   "outputs": [],
   "source": [
    "values = [0, 3, 2]\n",
    "dat_m = dat_reduced_g[dat_reduced_g.gender.isin(values) == False]\n",
    "dat_m"
   ]
  },
  {
   "cell_type": "code",
   "execution_count": null,
   "metadata": {},
   "outputs": [],
   "source": []
  },
  {
   "cell_type": "markdown",
   "metadata": {},
   "source": [
    "### Visualizations"
   ]
  },
  {
   "cell_type": "code",
   "execution_count": null,
   "metadata": {},
   "outputs": [],
   "source": [
    "dat_reduced_g.hist(column= \"E_Tot\", bins =20)\n",
    "dat_reduced_g.hist(column= \"N_Tot\", bins =20)\n",
    "dat_reduced_g.hist(column= \"A_Tot\", bins =20)\n",
    "dat_reduced_g.hist(column= \"C_Tot\", bins =20)\n",
    "dat_reduced_g.hist(column= \"O_Tot\", bins =20)\n",
    "\n",
    "#Shows distribution of each factor for males and females (combined)"
   ]
  },
  {
   "cell_type": "code",
   "execution_count": null,
   "metadata": {},
   "outputs": [],
   "source": [
    "dat_reduced_g.hist(column= \"E_Tot\", by = \"gender\", bins=20)\n",
    "dat_reduced_g.hist(column= \"N_Tot\", by = \"gender\", bins=20)\n",
    "dat_reduced_g.hist(column= \"A_Tot\", by = \"gender\", bins=20)\n",
    "dat_reduced_g.hist(column= \"C_Tot\", by = \"gender\", bins=20)\n",
    "dat_reduced_g.hist(column= \"O_Tot\", by = \"gender\", bins=20)\n",
    "\n",
    "#Shows distribution of each factor for males and females (separately)"
   ]
  },
  {
   "cell_type": "code",
   "execution_count": null,
   "metadata": {},
   "outputs": [],
   "source": []
  },
  {
   "cell_type": "code",
   "execution_count": null,
   "metadata": {},
   "outputs": [],
   "source": [
    "dat_reduced_g.plot.box(by = \"gender\")\n",
    "\n",
    "#Produces boxplot for each factor, separated by gender, and shows the lower, middle, and upper quartile (i.e., 25th, 50th, and 75th percentile, respectively)"
   ]
  },
  {
   "cell_type": "code",
   "execution_count": null,
   "metadata": {},
   "outputs": [],
   "source": [
    "sb.displot(dat_reduced_g[\"E_Tot\"])\n",
    "sb.displot(dat_reduced_g[\"N_Tot\"])\n",
    "sb.displot(dat_reduced_g[\"A_Tot\"])\n",
    "sb.displot(dat_reduced_g[\"C_Tot\"])\n",
    "sb.displot(dat_reduced_g[\"O_Tot\"])\n",
    "\n",
    "#Shows distribution of each factor for males and females (combined)"
   ]
  },
  {
   "cell_type": "code",
   "execution_count": null,
   "metadata": {},
   "outputs": [],
   "source": [
    "sb.pairplot(dat_reduced_g, hue = \"gender\")"
   ]
  },
  {
   "cell_type": "code",
   "execution_count": null,
   "metadata": {},
   "outputs": [],
   "source": [
    "sb.barplot(x = \"gender\", y = \"E_Tot\", dat = dat_reduced_g)"
   ]
  },
  {
   "cell_type": "code",
   "execution_count": null,
   "metadata": {},
   "outputs": [],
   "source": [
    "dat_reduced.hist()"
   ]
  },
  {
   "cell_type": "code",
   "execution_count": null,
   "metadata": {},
   "outputs": [],
   "source": [
    "dat_reduced_g.groupby(\"gender\").mean().plot.bar()"
   ]
  },
  {
   "cell_type": "code",
   "execution_count": null,
   "metadata": {},
   "outputs": [],
   "source": []
  },
  {
   "cell_type": "code",
   "execution_count": null,
   "metadata": {},
   "outputs": [],
   "source": [
    "dat_reduced_g.groupby(\"gender\").median().plot.bar()"
   ]
  },
  {
   "cell_type": "code",
   "execution_count": null,
   "metadata": {},
   "outputs": [],
   "source": [
    "dat_reduced.mean().plot.bar()"
   ]
  },
  {
   "cell_type": "code",
   "execution_count": null,
   "metadata": {},
   "outputs": [],
   "source": [
    "dat.plot.scatter(x = \"E_Avg\", y = \"\")"
   ]
  },
  {
   "cell_type": "code",
   "execution_count": null,
   "metadata": {},
   "outputs": [],
   "source": [
    "sb.violinplot(dat_reduced_g, x=[\"gender\"], y= [\"E_Tot\"])\n",
    "sb.violinplot?"
   ]
  },
  {
   "cell_type": "markdown",
   "metadata": {},
   "source": [
    "# Analysis Pipeline"
   ]
  },
  {
   "cell_type": "markdown",
   "metadata": {},
   "source": [
    "### Import Packages"
   ]
  },
  {
   "cell_type": "code",
   "execution_count": null,
   "metadata": {},
   "outputs": [],
   "source": [
    "import pandas as pd\n",
    "import numpy as np\n",
    "import seaborn as sb"
   ]
  },
  {
   "cell_type": "markdown",
   "metadata": {},
   "source": [
    "## Load Data"
   ]
  },
  {
   "cell_type": "code",
   "execution_count": null,
   "metadata": {},
   "outputs": [],
   "source": [
    "dat_1 = pd.read_csv(\"../data/raw/data.csv\", sep='\\t')"
   ]
  },
  {
   "cell_type": "markdown",
   "metadata": {},
   "source": [
    "## Clean Data"
   ]
  },
  {
   "cell_type": "code",
   "execution_count": null,
   "metadata": {},
   "outputs": [],
   "source": [
    "dat_2 = dat_1.copy().drop(['engnat','hand','source', 'country', 'race', 'age'], axis=1)\n",
    "dat_3 = dat_2.copy().drop([19064], axis=0)"
   ]
  },
  {
   "cell_type": "code",
   "execution_count": null,
   "metadata": {},
   "outputs": [],
   "source": [
    "##ADD STEP TO REMOVE ROWS WITH 0 OR 3 FOR GENDER"
   ]
  },
  {
   "cell_type": "code",
   "execution_count": null,
   "metadata": {},
   "outputs": [],
   "source": []
  },
  {
   "cell_type": "markdown",
   "metadata": {},
   "source": [
    "## Process Data\n"
   ]
  },
  {
   "cell_type": "markdown",
   "metadata": {},
   "source": [
    "### Reverse Scoring"
   ]
  },
  {
   "cell_type": "code",
   "execution_count": null,
   "metadata": {},
   "outputs": [],
   "source": [
    "def reverseScoring(df, high, cols):\n",
    "    df[cols] = high - df[cols]\n",
    "    return df\n",
    "\n",
    "dat = reverseScoring(dat_3, 6, cols=[\"E2\", \"E4\", \"E6\", \"E8\", \"E10\", \"N1\", \"N3\", \"N5\", \"N6\", \"N7\", \"N8\", \"N9\", \"N10\", \"A1\", \"A3\", \"A5\", \"A7\", \"C2\", \"C4\", \"C6\", \"C8\", \"O2\", \"O4\", \"O6\"])"
   ]
  },
  {
   "cell_type": "markdown",
   "metadata": {},
   "source": [
    "### Create Factor Score Columns"
   ]
  },
  {
   "cell_type": "code",
   "execution_count": null,
   "metadata": {},
   "outputs": [],
   "source": [
    "dat[\"E_Tot\"] = dat[\"E1\"]+dat[\"E2\"]+dat[\"E3\"]+dat[\"E4\"]+dat[\"E5\"]+dat[\"E6\"]+dat[\"E7\"]+dat[\"E8\"]+dat[\"E9\"]+dat[\"E10\"]\n",
    "dat[\"N_Tot\"] = dat[\"N1\"]+dat[\"N2\"]+dat[\"N3\"]+dat[\"N4\"]+dat[\"N5\"]+dat[\"N6\"]+dat[\"N7\"]+dat[\"N8\"]+dat[\"N9\"]+dat[\"N10\"]\n",
    "dat[\"A_Tot\"] = dat[\"A1\"]+dat[\"A2\"]+dat[\"A3\"]+dat[\"A4\"]+dat[\"A5\"]+dat[\"A6\"]+dat[\"A7\"]+dat[\"A8\"]+dat[\"A9\"]+dat[\"A10\"]\n",
    "dat[\"C_Tot\"] = dat[\"C1\"]+dat[\"C2\"]+dat[\"C3\"]+dat[\"C4\"]+dat[\"C5\"]+dat[\"C6\"]+dat[\"C7\"]+dat[\"C8\"]+dat[\"C9\"]+dat[\"C10\"]\n",
    "dat[\"O_Tot\"] = dat[\"O1\"]+dat[\"O2\"]+dat[\"O3\"]+dat[\"O4\"]+dat[\"O5\"]+dat[\"O6\"]+dat[\"O7\"]+dat[\"O8\"]+dat[\"O9\"]+dat[\"O10\"]\n",
    "\n",
    "#Better way to do this? "
   ]
  },
  {
   "cell_type": "code",
   "execution_count": null,
   "metadata": {},
   "outputs": [],
   "source": [
    "E_Avg = sum(dat[\"E_Tot\"])/len(dat)\n",
    "A_Avg = sum(dat[\"A_Tot\"])/len(dat)\n",
    "N_Avg = sum(dat[\"N_Tot\"])/len(dat)\n",
    "C_Avg = sum(dat[\"C_Tot\"])/len(dat)\n",
    "O_Avg = sum(dat[\"O_Tot\"])/len(dat)\n",
    "#Total average (mean) for each factor"
   ]
  },
  {
   "cell_type": "markdown",
   "metadata": {},
   "source": [
    "## Wrangle Data"
   ]
  },
  {
   "cell_type": "code",
   "execution_count": null,
   "metadata": {},
   "outputs": [],
   "source": [
    "## Not sure what to put here -- I do not need to restructure the data or merge any new data"
   ]
  },
  {
   "cell_type": "code",
   "execution_count": null,
   "metadata": {},
   "outputs": [],
   "source": [
    "dat_reduced_g = dat[[\"gender\", \"E_Tot\", \"N_Tot\", \"A_Tot\", \"C_Tot\", \"O_Tot\"]]\n",
    "\n",
    "dat_reduced = dat[[\"E_Tot\", \"N_Tot\", \"A_Tot\", \"C_Tot\", \"O_Tot\"]]\n",
    "\n",
    "#Reduce dataset (create subsets) when only wanting total scores; with and without gender"
   ]
  },
  {
   "cell_type": "markdown",
   "metadata": {},
   "source": [
    "# Method Chain"
   ]
  },
  {
   "cell_type": "markdown",
   "metadata": {},
   "source": [
    "## Build Method Chains"
   ]
  },
  {
   "cell_type": "markdown",
   "metadata": {},
   "source": [
    "### Load packages/functions"
   ]
  },
  {
   "cell_type": "code",
   "execution_count": null,
   "metadata": {},
   "outputs": [],
   "source": [
    "import pandas as pd\n",
    "import numpy as np\n",
    "import seaborn as sb\n",
    "from random import randint\n",
    "import matplotlib.pyplot as plt\n",
    "import project_functions2 as pf"
   ]
  },
  {
   "cell_type": "markdown",
   "metadata": {},
   "source": [
    "### Method Chain 1"
   ]
  },
  {
   "cell_type": "code",
   "execution_count": null,
   "metadata": {},
   "outputs": [],
   "source": [
    "dat_2 = (pd.read_csv(\"../data/raw/data.csv\", sep='\\t')\n",
    "    .copy().drop(['engnat','hand','source', 'country', 'race', 'age'], axis=1)\n",
    "    .copy().drop([19064], axis=0))\n",
    "    #.copy().drop(['gender'] == 0)\n",
    "    #.gender.isin(values) == False, inplace == True)\n",
    "    \n",
    "dat_2\n",
    "\n",
    "#Want to add a step to remove rows where values in \"gender\" = 0 and 3 ????"
   ]
  },
  {
   "cell_type": "markdown",
   "metadata": {},
   "source": [
    "### Method Chain 2"
   ]
  },
  {
   "cell_type": "code",
   "execution_count": null,
   "metadata": {},
   "outputs": [
    {
     "ename": "NameError",
     "evalue": "name 'dat_2' is not defined",
     "output_type": "error",
     "traceback": [
      "\u001b[0;31m---------------------------------------------------------------------------\u001b[0m",
      "\u001b[0;31mNameError\u001b[0m                                 Traceback (most recent call last)",
      "Cell \u001b[0;32mIn [22], line 5\u001b[0m\n\u001b[1;32m      2\u001b[0m     df[cols] \u001b[38;5;241m=\u001b[39m high \u001b[38;5;241m-\u001b[39m df[cols]\n\u001b[1;32m      3\u001b[0m     \u001b[38;5;28;01mreturn\u001b[39;00m df\n\u001b[0;32m----> 5\u001b[0m dat_2 \u001b[38;5;241m=\u001b[39m reverseScoring(\u001b[43mdat_2\u001b[49m, \u001b[38;5;241m6\u001b[39m, cols\u001b[38;5;241m=\u001b[39m[\u001b[38;5;124m\"\u001b[39m\u001b[38;5;124mE2\u001b[39m\u001b[38;5;124m\"\u001b[39m, \u001b[38;5;124m\"\u001b[39m\u001b[38;5;124mE4\u001b[39m\u001b[38;5;124m\"\u001b[39m, \u001b[38;5;124m\"\u001b[39m\u001b[38;5;124mE6\u001b[39m\u001b[38;5;124m\"\u001b[39m, \u001b[38;5;124m\"\u001b[39m\u001b[38;5;124mE8\u001b[39m\u001b[38;5;124m\"\u001b[39m, \u001b[38;5;124m\"\u001b[39m\u001b[38;5;124mE10\u001b[39m\u001b[38;5;124m\"\u001b[39m, \u001b[38;5;124m\"\u001b[39m\u001b[38;5;124mN1\u001b[39m\u001b[38;5;124m\"\u001b[39m, \u001b[38;5;124m\"\u001b[39m\u001b[38;5;124mN3\u001b[39m\u001b[38;5;124m\"\u001b[39m, \u001b[38;5;124m\"\u001b[39m\u001b[38;5;124mN5\u001b[39m\u001b[38;5;124m\"\u001b[39m, \u001b[38;5;124m\"\u001b[39m\u001b[38;5;124mN6\u001b[39m\u001b[38;5;124m\"\u001b[39m, \u001b[38;5;124m\"\u001b[39m\u001b[38;5;124mN7\u001b[39m\u001b[38;5;124m\"\u001b[39m, \u001b[38;5;124m\"\u001b[39m\u001b[38;5;124mN8\u001b[39m\u001b[38;5;124m\"\u001b[39m, \u001b[38;5;124m\"\u001b[39m\u001b[38;5;124mN9\u001b[39m\u001b[38;5;124m\"\u001b[39m, \u001b[38;5;124m\"\u001b[39m\u001b[38;5;124mN10\u001b[39m\u001b[38;5;124m\"\u001b[39m, \u001b[38;5;124m\"\u001b[39m\u001b[38;5;124mA1\u001b[39m\u001b[38;5;124m\"\u001b[39m, \u001b[38;5;124m\"\u001b[39m\u001b[38;5;124mA3\u001b[39m\u001b[38;5;124m\"\u001b[39m, \u001b[38;5;124m\"\u001b[39m\u001b[38;5;124mA5\u001b[39m\u001b[38;5;124m\"\u001b[39m, \u001b[38;5;124m\"\u001b[39m\u001b[38;5;124mA7\u001b[39m\u001b[38;5;124m\"\u001b[39m, \u001b[38;5;124m\"\u001b[39m\u001b[38;5;124mC2\u001b[39m\u001b[38;5;124m\"\u001b[39m, \u001b[38;5;124m\"\u001b[39m\u001b[38;5;124mC4\u001b[39m\u001b[38;5;124m\"\u001b[39m, \u001b[38;5;124m\"\u001b[39m\u001b[38;5;124mC6\u001b[39m\u001b[38;5;124m\"\u001b[39m, \u001b[38;5;124m\"\u001b[39m\u001b[38;5;124mC8\u001b[39m\u001b[38;5;124m\"\u001b[39m, \u001b[38;5;124m\"\u001b[39m\u001b[38;5;124mO2\u001b[39m\u001b[38;5;124m\"\u001b[39m, \u001b[38;5;124m\"\u001b[39m\u001b[38;5;124mO4\u001b[39m\u001b[38;5;124m\"\u001b[39m, \u001b[38;5;124m\"\u001b[39m\u001b[38;5;124mO6\u001b[39m\u001b[38;5;124m\"\u001b[39m])\n\u001b[1;32m      8\u001b[0m dat_3 \u001b[38;5;241m=\u001b[39m (pd\u001b[38;5;241m.\u001b[39mDataFrame(dat_2)\n\u001b[1;32m      9\u001b[0m         \u001b[38;5;241m.\u001b[39massign(E_Tot\u001b[38;5;241m=\u001b[39m\u001b[38;5;28;01mlambda\u001b[39;00m x: dat_2[\u001b[38;5;124m\"\u001b[39m\u001b[38;5;124mE1\u001b[39m\u001b[38;5;124m\"\u001b[39m]\u001b[38;5;241m+\u001b[39mdat_2[\u001b[38;5;124m\"\u001b[39m\u001b[38;5;124mE2\u001b[39m\u001b[38;5;124m\"\u001b[39m]\u001b[38;5;241m+\u001b[39mdat_2[\u001b[38;5;124m\"\u001b[39m\u001b[38;5;124mE3\u001b[39m\u001b[38;5;124m\"\u001b[39m]\u001b[38;5;241m+\u001b[39mdat_2[\u001b[38;5;124m\"\u001b[39m\u001b[38;5;124mE4\u001b[39m\u001b[38;5;124m\"\u001b[39m]\u001b[38;5;241m+\u001b[39mdat_2[\u001b[38;5;124m\"\u001b[39m\u001b[38;5;124mE5\u001b[39m\u001b[38;5;124m\"\u001b[39m]\u001b[38;5;241m+\u001b[39mdat_2[\u001b[38;5;124m\"\u001b[39m\u001b[38;5;124mE6\u001b[39m\u001b[38;5;124m\"\u001b[39m]\u001b[38;5;241m+\u001b[39mdat_2[\u001b[38;5;124m\"\u001b[39m\u001b[38;5;124mE7\u001b[39m\u001b[38;5;124m\"\u001b[39m]\u001b[38;5;241m+\u001b[39mdat_2[\u001b[38;5;124m\"\u001b[39m\u001b[38;5;124mE8\u001b[39m\u001b[38;5;124m\"\u001b[39m]\u001b[38;5;241m+\u001b[39mdat_2[\u001b[38;5;124m\"\u001b[39m\u001b[38;5;124mE9\u001b[39m\u001b[38;5;124m\"\u001b[39m]\u001b[38;5;241m+\u001b[39mdat_2[\u001b[38;5;124m\"\u001b[39m\u001b[38;5;124mE10\u001b[39m\u001b[38;5;124m\"\u001b[39m])\n\u001b[1;32m     10\u001b[0m         \u001b[38;5;241m.\u001b[39massign(N_Tot\u001b[38;5;241m=\u001b[39m\u001b[38;5;28;01mlambda\u001b[39;00m x: dat_2[\u001b[38;5;124m\"\u001b[39m\u001b[38;5;124mN1\u001b[39m\u001b[38;5;124m\"\u001b[39m]\u001b[38;5;241m+\u001b[39mdat_2[\u001b[38;5;124m\"\u001b[39m\u001b[38;5;124mN2\u001b[39m\u001b[38;5;124m\"\u001b[39m]\u001b[38;5;241m+\u001b[39mdat_2[\u001b[38;5;124m\"\u001b[39m\u001b[38;5;124mN3\u001b[39m\u001b[38;5;124m\"\u001b[39m]\u001b[38;5;241m+\u001b[39mdat_2[\u001b[38;5;124m\"\u001b[39m\u001b[38;5;124mN4\u001b[39m\u001b[38;5;124m\"\u001b[39m]\u001b[38;5;241m+\u001b[39mdat_2[\u001b[38;5;124m\"\u001b[39m\u001b[38;5;124mN5\u001b[39m\u001b[38;5;124m\"\u001b[39m]\u001b[38;5;241m+\u001b[39mdat_2[\u001b[38;5;124m\"\u001b[39m\u001b[38;5;124mN6\u001b[39m\u001b[38;5;124m\"\u001b[39m]\u001b[38;5;241m+\u001b[39mdat_2[\u001b[38;5;124m\"\u001b[39m\u001b[38;5;124mN7\u001b[39m\u001b[38;5;124m\"\u001b[39m]\u001b[38;5;241m+\u001b[39mdat_2[\u001b[38;5;124m\"\u001b[39m\u001b[38;5;124mN8\u001b[39m\u001b[38;5;124m\"\u001b[39m]\u001b[38;5;241m+\u001b[39mdat_2[\u001b[38;5;124m\"\u001b[39m\u001b[38;5;124mN9\u001b[39m\u001b[38;5;124m\"\u001b[39m]\u001b[38;5;241m+\u001b[39mdat_2[\u001b[38;5;124m\"\u001b[39m\u001b[38;5;124mN10\u001b[39m\u001b[38;5;124m\"\u001b[39m])\n\u001b[1;32m     11\u001b[0m         \u001b[38;5;241m.\u001b[39massign(A_Tot\u001b[38;5;241m=\u001b[39m\u001b[38;5;28;01mlambda\u001b[39;00m x: dat_2[\u001b[38;5;124m\"\u001b[39m\u001b[38;5;124mA1\u001b[39m\u001b[38;5;124m\"\u001b[39m]\u001b[38;5;241m+\u001b[39mdat_2[\u001b[38;5;124m\"\u001b[39m\u001b[38;5;124mA2\u001b[39m\u001b[38;5;124m\"\u001b[39m]\u001b[38;5;241m+\u001b[39mdat_2[\u001b[38;5;124m\"\u001b[39m\u001b[38;5;124mA3\u001b[39m\u001b[38;5;124m\"\u001b[39m]\u001b[38;5;241m+\u001b[39mdat_2[\u001b[38;5;124m\"\u001b[39m\u001b[38;5;124mA4\u001b[39m\u001b[38;5;124m\"\u001b[39m]\u001b[38;5;241m+\u001b[39mdat_2[\u001b[38;5;124m\"\u001b[39m\u001b[38;5;124mA5\u001b[39m\u001b[38;5;124m\"\u001b[39m]\u001b[38;5;241m+\u001b[39mdat_2[\u001b[38;5;124m\"\u001b[39m\u001b[38;5;124mA6\u001b[39m\u001b[38;5;124m\"\u001b[39m]\u001b[38;5;241m+\u001b[39mdat_2[\u001b[38;5;124m\"\u001b[39m\u001b[38;5;124mA7\u001b[39m\u001b[38;5;124m\"\u001b[39m]\u001b[38;5;241m+\u001b[39mdat_2[\u001b[38;5;124m\"\u001b[39m\u001b[38;5;124mA8\u001b[39m\u001b[38;5;124m\"\u001b[39m]\u001b[38;5;241m+\u001b[39mdat_2[\u001b[38;5;124m\"\u001b[39m\u001b[38;5;124mA9\u001b[39m\u001b[38;5;124m\"\u001b[39m]\u001b[38;5;241m+\u001b[39mdat_2[\u001b[38;5;124m\"\u001b[39m\u001b[38;5;124mA10\u001b[39m\u001b[38;5;124m\"\u001b[39m])\n\u001b[1;32m     12\u001b[0m         \u001b[38;5;241m.\u001b[39massign(C_Tot\u001b[38;5;241m=\u001b[39m\u001b[38;5;28;01mlambda\u001b[39;00m x: dat_2[\u001b[38;5;124m\"\u001b[39m\u001b[38;5;124mC1\u001b[39m\u001b[38;5;124m\"\u001b[39m]\u001b[38;5;241m+\u001b[39mdat_2[\u001b[38;5;124m\"\u001b[39m\u001b[38;5;124mC2\u001b[39m\u001b[38;5;124m\"\u001b[39m]\u001b[38;5;241m+\u001b[39mdat_2[\u001b[38;5;124m\"\u001b[39m\u001b[38;5;124mC3\u001b[39m\u001b[38;5;124m\"\u001b[39m]\u001b[38;5;241m+\u001b[39mdat_2[\u001b[38;5;124m\"\u001b[39m\u001b[38;5;124mC4\u001b[39m\u001b[38;5;124m\"\u001b[39m]\u001b[38;5;241m+\u001b[39mdat_2[\u001b[38;5;124m\"\u001b[39m\u001b[38;5;124mC5\u001b[39m\u001b[38;5;124m\"\u001b[39m]\u001b[38;5;241m+\u001b[39mdat_2[\u001b[38;5;124m\"\u001b[39m\u001b[38;5;124mC6\u001b[39m\u001b[38;5;124m\"\u001b[39m]\u001b[38;5;241m+\u001b[39mdat_2[\u001b[38;5;124m\"\u001b[39m\u001b[38;5;124mC7\u001b[39m\u001b[38;5;124m\"\u001b[39m]\u001b[38;5;241m+\u001b[39mdat_2[\u001b[38;5;124m\"\u001b[39m\u001b[38;5;124mC8\u001b[39m\u001b[38;5;124m\"\u001b[39m]\u001b[38;5;241m+\u001b[39mdat_2[\u001b[38;5;124m\"\u001b[39m\u001b[38;5;124mC9\u001b[39m\u001b[38;5;124m\"\u001b[39m]\u001b[38;5;241m+\u001b[39mdat_2[\u001b[38;5;124m\"\u001b[39m\u001b[38;5;124mC10\u001b[39m\u001b[38;5;124m\"\u001b[39m])\n\u001b[1;32m     13\u001b[0m         \u001b[38;5;241m.\u001b[39massign(O_Tot\u001b[38;5;241m=\u001b[39m\u001b[38;5;28;01mlambda\u001b[39;00m x: dat_2[\u001b[38;5;124m\"\u001b[39m\u001b[38;5;124mO1\u001b[39m\u001b[38;5;124m\"\u001b[39m]\u001b[38;5;241m+\u001b[39mdat_2[\u001b[38;5;124m\"\u001b[39m\u001b[38;5;124mO2\u001b[39m\u001b[38;5;124m\"\u001b[39m]\u001b[38;5;241m+\u001b[39mdat_2[\u001b[38;5;124m\"\u001b[39m\u001b[38;5;124mO3\u001b[39m\u001b[38;5;124m\"\u001b[39m]\u001b[38;5;241m+\u001b[39mdat_2[\u001b[38;5;124m\"\u001b[39m\u001b[38;5;124mO4\u001b[39m\u001b[38;5;124m\"\u001b[39m]\u001b[38;5;241m+\u001b[39mdat_2[\u001b[38;5;124m\"\u001b[39m\u001b[38;5;124mO5\u001b[39m\u001b[38;5;124m\"\u001b[39m]\u001b[38;5;241m+\u001b[39mdat_2[\u001b[38;5;124m\"\u001b[39m\u001b[38;5;124mO6\u001b[39m\u001b[38;5;124m\"\u001b[39m]\u001b[38;5;241m+\u001b[39mdat_2[\u001b[38;5;124m\"\u001b[39m\u001b[38;5;124mO7\u001b[39m\u001b[38;5;124m\"\u001b[39m]\u001b[38;5;241m+\u001b[39mdat_2[\u001b[38;5;124m\"\u001b[39m\u001b[38;5;124mO8\u001b[39m\u001b[38;5;124m\"\u001b[39m]\u001b[38;5;241m+\u001b[39mdat_2[\u001b[38;5;124m\"\u001b[39m\u001b[38;5;124mO9\u001b[39m\u001b[38;5;124m\"\u001b[39m]\u001b[38;5;241m+\u001b[39mdat_2[\u001b[38;5;124m\"\u001b[39m\u001b[38;5;124mO10\u001b[39m\u001b[38;5;124m\"\u001b[39m]))\n\u001b[1;32m     17\u001b[0m dat_3\n",
      "\u001b[0;31mNameError\u001b[0m: name 'dat_2' is not defined"
     ]
    }
   ],
   "source": [
    "def reverseScoring(df, high, cols):\n",
    "    df[cols] = high - df[cols]\n",
    "    return df\n",
    "\n",
    "dat_2 = reverseScoring(dat_2, 6, cols=[\"E2\", \"E4\", \"E6\", \"E8\", \"E10\", \"N1\", \"N3\", \"N5\", \"N6\", \"N7\", \"N8\", \"N9\", \"N10\", \"A1\", \"A3\", \"A5\", \"A7\", \"C2\", \"C4\", \"C6\", \"C8\", \"O2\", \"O4\", \"O6\"])\n",
    "\n",
    "dat_3 = (pd.DataFrame(dat_2)\n",
    "        .assign(E_Tot=lambda x: dat_2[\"E1\"]+dat_2[\"E2\"]+dat_2[\"E3\"]+dat_2[\"E4\"]+dat_2[\"E5\"]+dat_2[\"E6\"]+dat_2[\"E7\"]+dat_2[\"E8\"]+dat_2[\"E9\"]+dat_2[\"E10\"])\n",
    "        .assign(N_Tot=lambda x: dat_2[\"N1\"]+dat_2[\"N2\"]+dat_2[\"N3\"]+dat_2[\"N4\"]+dat_2[\"N5\"]+dat_2[\"N6\"]+dat_2[\"N7\"]+dat_2[\"N8\"]+dat_2[\"N9\"]+dat_2[\"N10\"])\n",
    "        .assign(A_Tot=lambda x: dat_2[\"A1\"]+dat_2[\"A2\"]+dat_2[\"A3\"]+dat_2[\"A4\"]+dat_2[\"A5\"]+dat_2[\"A6\"]+dat_2[\"A7\"]+dat_2[\"A8\"]+dat_2[\"A9\"]+dat_2[\"A10\"])\n",
    "        .assign(C_Tot=lambda x: dat_2[\"C1\"]+dat_2[\"C2\"]+dat_2[\"C3\"]+dat_2[\"C4\"]+dat_2[\"C5\"]+dat_2[\"C6\"]+dat_2[\"C7\"]+dat_2[\"C8\"]+dat_2[\"C9\"]+dat_2[\"C10\"])\n",
    "        .assign(O_Tot=lambda x: dat_2[\"O1\"]+dat_2[\"O2\"]+dat_2[\"O3\"]+dat_2[\"O4\"]+dat_2[\"O5\"]+dat_2[\"O6\"]+dat_2[\"O7\"]+dat_2[\"O8\"]+dat_2[\"O9\"]+dat_2[\"O10\"]))\n",
    "\n",
    "dat_3"
   ]
  },
  {
   "cell_type": "markdown",
   "metadata": {},
   "source": [
    "## Wrap Method Chains in Function"
   ]
  },
  {
   "cell_type": "code",
   "execution_count": null,
   "metadata": {},
   "outputs": [
    {
     "data": {
      "text/html": [
       "<div>\n",
       "<style scoped>\n",
       "    .dataframe tbody tr th:only-of-type {\n",
       "        vertical-align: middle;\n",
       "    }\n",
       "\n",
       "    .dataframe tbody tr th {\n",
       "        vertical-align: top;\n",
       "    }\n",
       "\n",
       "    .dataframe thead th {\n",
       "        text-align: right;\n",
       "    }\n",
       "</style>\n",
       "<table border=\"1\" class=\"dataframe\">\n",
       "  <thead>\n",
       "    <tr style=\"text-align: right;\">\n",
       "      <th></th>\n",
       "      <th>gender</th>\n",
       "      <th>E1</th>\n",
       "      <th>E2</th>\n",
       "      <th>E3</th>\n",
       "      <th>E4</th>\n",
       "      <th>E5</th>\n",
       "      <th>E6</th>\n",
       "      <th>E7</th>\n",
       "      <th>E8</th>\n",
       "      <th>E9</th>\n",
       "      <th>...</th>\n",
       "      <th>O6</th>\n",
       "      <th>O7</th>\n",
       "      <th>O8</th>\n",
       "      <th>O9</th>\n",
       "      <th>O10</th>\n",
       "      <th>E_Tot</th>\n",
       "      <th>N_Tot</th>\n",
       "      <th>A_Tot</th>\n",
       "      <th>C_Tot</th>\n",
       "      <th>O_Tot</th>\n",
       "    </tr>\n",
       "  </thead>\n",
       "  <tbody>\n",
       "    <tr>\n",
       "      <th>0</th>\n",
       "      <td>1</td>\n",
       "      <td>4</td>\n",
       "      <td>4</td>\n",
       "      <td>5</td>\n",
       "      <td>4</td>\n",
       "      <td>5</td>\n",
       "      <td>5</td>\n",
       "      <td>4</td>\n",
       "      <td>3</td>\n",
       "      <td>5</td>\n",
       "      <td>...</td>\n",
       "      <td>5</td>\n",
       "      <td>4</td>\n",
       "      <td>2</td>\n",
       "      <td>5</td>\n",
       "      <td>5</td>\n",
       "      <td>44</td>\n",
       "      <td>49</td>\n",
       "      <td>46</td>\n",
       "      <td>47</td>\n",
       "      <td>43</td>\n",
       "    </tr>\n",
       "    <tr>\n",
       "      <th>1</th>\n",
       "      <td>2</td>\n",
       "      <td>2</td>\n",
       "      <td>4</td>\n",
       "      <td>3</td>\n",
       "      <td>3</td>\n",
       "      <td>3</td>\n",
       "      <td>3</td>\n",
       "      <td>1</td>\n",
       "      <td>1</td>\n",
       "      <td>1</td>\n",
       "      <td>...</td>\n",
       "      <td>3</td>\n",
       "      <td>3</td>\n",
       "      <td>1</td>\n",
       "      <td>3</td>\n",
       "      <td>2</td>\n",
       "      <td>22</td>\n",
       "      <td>29</td>\n",
       "      <td>35</td>\n",
       "      <td>42</td>\n",
       "      <td>26</td>\n",
       "    </tr>\n",
       "    <tr>\n",
       "      <th>2</th>\n",
       "      <td>2</td>\n",
       "      <td>5</td>\n",
       "      <td>5</td>\n",
       "      <td>1</td>\n",
       "      <td>2</td>\n",
       "      <td>5</td>\n",
       "      <td>5</td>\n",
       "      <td>1</td>\n",
       "      <td>1</td>\n",
       "      <td>5</td>\n",
       "      <td>...</td>\n",
       "      <td>5</td>\n",
       "      <td>5</td>\n",
       "      <td>5</td>\n",
       "      <td>5</td>\n",
       "      <td>5</td>\n",
       "      <td>35</td>\n",
       "      <td>14</td>\n",
       "      <td>38</td>\n",
       "      <td>49</td>\n",
       "      <td>45</td>\n",
       "    </tr>\n",
       "    <tr>\n",
       "      <th>3</th>\n",
       "      <td>2</td>\n",
       "      <td>2</td>\n",
       "      <td>1</td>\n",
       "      <td>2</td>\n",
       "      <td>2</td>\n",
       "      <td>3</td>\n",
       "      <td>2</td>\n",
       "      <td>3</td>\n",
       "      <td>2</td>\n",
       "      <td>4</td>\n",
       "      <td>...</td>\n",
       "      <td>4</td>\n",
       "      <td>5</td>\n",
       "      <td>2</td>\n",
       "      <td>5</td>\n",
       "      <td>5</td>\n",
       "      <td>22</td>\n",
       "      <td>17</td>\n",
       "      <td>37</td>\n",
       "      <td>26</td>\n",
       "      <td>41</td>\n",
       "    </tr>\n",
       "    <tr>\n",
       "      <th>4</th>\n",
       "      <td>2</td>\n",
       "      <td>3</td>\n",
       "      <td>5</td>\n",
       "      <td>3</td>\n",
       "      <td>3</td>\n",
       "      <td>3</td>\n",
       "      <td>5</td>\n",
       "      <td>3</td>\n",
       "      <td>5</td>\n",
       "      <td>3</td>\n",
       "      <td>...</td>\n",
       "      <td>5</td>\n",
       "      <td>3</td>\n",
       "      <td>1</td>\n",
       "      <td>5</td>\n",
       "      <td>3</td>\n",
       "      <td>34</td>\n",
       "      <td>30</td>\n",
       "      <td>44</td>\n",
       "      <td>34</td>\n",
       "      <td>34</td>\n",
       "    </tr>\n",
       "    <tr>\n",
       "      <th>...</th>\n",
       "      <td>...</td>\n",
       "      <td>...</td>\n",
       "      <td>...</td>\n",
       "      <td>...</td>\n",
       "      <td>...</td>\n",
       "      <td>...</td>\n",
       "      <td>...</td>\n",
       "      <td>...</td>\n",
       "      <td>...</td>\n",
       "      <td>...</td>\n",
       "      <td>...</td>\n",
       "      <td>...</td>\n",
       "      <td>...</td>\n",
       "      <td>...</td>\n",
       "      <td>...</td>\n",
       "      <td>...</td>\n",
       "      <td>...</td>\n",
       "      <td>...</td>\n",
       "      <td>...</td>\n",
       "      <td>...</td>\n",
       "      <td>...</td>\n",
       "    </tr>\n",
       "    <tr>\n",
       "      <th>19714</th>\n",
       "      <td>2</td>\n",
       "      <td>1</td>\n",
       "      <td>2</td>\n",
       "      <td>3</td>\n",
       "      <td>1</td>\n",
       "      <td>4</td>\n",
       "      <td>3</td>\n",
       "      <td>1</td>\n",
       "      <td>4</td>\n",
       "      <td>1</td>\n",
       "      <td>...</td>\n",
       "      <td>5</td>\n",
       "      <td>4</td>\n",
       "      <td>2</td>\n",
       "      <td>5</td>\n",
       "      <td>3</td>\n",
       "      <td>21</td>\n",
       "      <td>19</td>\n",
       "      <td>42</td>\n",
       "      <td>36</td>\n",
       "      <td>35</td>\n",
       "    </tr>\n",
       "    <tr>\n",
       "      <th>19715</th>\n",
       "      <td>2</td>\n",
       "      <td>2</td>\n",
       "      <td>3</td>\n",
       "      <td>2</td>\n",
       "      <td>3</td>\n",
       "      <td>2</td>\n",
       "      <td>3</td>\n",
       "      <td>2</td>\n",
       "      <td>2</td>\n",
       "      <td>4</td>\n",
       "      <td>...</td>\n",
       "      <td>3</td>\n",
       "      <td>4</td>\n",
       "      <td>2</td>\n",
       "      <td>3</td>\n",
       "      <td>3</td>\n",
       "      <td>25</td>\n",
       "      <td>39</td>\n",
       "      <td>36</td>\n",
       "      <td>32</td>\n",
       "      <td>30</td>\n",
       "    </tr>\n",
       "    <tr>\n",
       "      <th>19716</th>\n",
       "      <td>1</td>\n",
       "      <td>2</td>\n",
       "      <td>1</td>\n",
       "      <td>4</td>\n",
       "      <td>1</td>\n",
       "      <td>5</td>\n",
       "      <td>1</td>\n",
       "      <td>1</td>\n",
       "      <td>4</td>\n",
       "      <td>1</td>\n",
       "      <td>...</td>\n",
       "      <td>5</td>\n",
       "      <td>1</td>\n",
       "      <td>5</td>\n",
       "      <td>5</td>\n",
       "      <td>5</td>\n",
       "      <td>21</td>\n",
       "      <td>10</td>\n",
       "      <td>26</td>\n",
       "      <td>23</td>\n",
       "      <td>37</td>\n",
       "    </tr>\n",
       "    <tr>\n",
       "      <th>19717</th>\n",
       "      <td>1</td>\n",
       "      <td>1</td>\n",
       "      <td>2</td>\n",
       "      <td>2</td>\n",
       "      <td>3</td>\n",
       "      <td>2</td>\n",
       "      <td>2</td>\n",
       "      <td>1</td>\n",
       "      <td>3</td>\n",
       "      <td>4</td>\n",
       "      <td>...</td>\n",
       "      <td>5</td>\n",
       "      <td>5</td>\n",
       "      <td>3</td>\n",
       "      <td>5</td>\n",
       "      <td>5</td>\n",
       "      <td>21</td>\n",
       "      <td>20</td>\n",
       "      <td>38</td>\n",
       "      <td>43</td>\n",
       "      <td>42</td>\n",
       "    </tr>\n",
       "    <tr>\n",
       "      <th>19718</th>\n",
       "      <td>1</td>\n",
       "      <td>2</td>\n",
       "      <td>3</td>\n",
       "      <td>1</td>\n",
       "      <td>1</td>\n",
       "      <td>3</td>\n",
       "      <td>3</td>\n",
       "      <td>3</td>\n",
       "      <td>4</td>\n",
       "      <td>2</td>\n",
       "      <td>...</td>\n",
       "      <td>5</td>\n",
       "      <td>5</td>\n",
       "      <td>5</td>\n",
       "      <td>5</td>\n",
       "      <td>5</td>\n",
       "      <td>24</td>\n",
       "      <td>23</td>\n",
       "      <td>35</td>\n",
       "      <td>36</td>\n",
       "      <td>49</td>\n",
       "    </tr>\n",
       "  </tbody>\n",
       "</table>\n",
       "<p>19718 rows × 56 columns</p>\n",
       "</div>"
      ],
      "text/plain": [
       "       gender  E1  E2  E3  E4  E5  E6  E7  E8  E9  ...  O6  O7  O8  O9  O10  \\\n",
       "0           1   4   4   5   4   5   5   4   3   5  ...   5   4   2   5    5   \n",
       "1           2   2   4   3   3   3   3   1   1   1  ...   3   3   1   3    2   \n",
       "2           2   5   5   1   2   5   5   1   1   5  ...   5   5   5   5    5   \n",
       "3           2   2   1   2   2   3   2   3   2   4  ...   4   5   2   5    5   \n",
       "4           2   3   5   3   3   3   5   3   5   3  ...   5   3   1   5    3   \n",
       "...       ...  ..  ..  ..  ..  ..  ..  ..  ..  ..  ...  ..  ..  ..  ..  ...   \n",
       "19714       2   1   2   3   1   4   3   1   4   1  ...   5   4   2   5    3   \n",
       "19715       2   2   3   2   3   2   3   2   2   4  ...   3   4   2   3    3   \n",
       "19716       1   2   1   4   1   5   1   1   4   1  ...   5   1   5   5    5   \n",
       "19717       1   1   2   2   3   2   2   1   3   4  ...   5   5   3   5    5   \n",
       "19718       1   2   3   1   1   3   3   3   4   2  ...   5   5   5   5    5   \n",
       "\n",
       "       E_Tot  N_Tot  A_Tot  C_Tot  O_Tot  \n",
       "0         44     49     46     47     43  \n",
       "1         22     29     35     42     26  \n",
       "2         35     14     38     49     45  \n",
       "3         22     17     37     26     41  \n",
       "4         34     30     44     34     34  \n",
       "...      ...    ...    ...    ...    ...  \n",
       "19714     21     19     42     36     35  \n",
       "19715     25     39     36     32     30  \n",
       "19716     21     10     26     23     37  \n",
       "19717     21     20     38     43     42  \n",
       "19718     24     23     35     36     49  \n",
       "\n",
       "[19718 rows x 56 columns]"
      ]
     },
     "execution_count": null,
     "metadata": {},
     "output_type": "execute_result"
    }
   ],
   "source": [
    "dat = pf.load_and_process(\"../data/raw/data.csv\")\n",
    "dat"
   ]
  },
  {
   "cell_type": "markdown",
   "metadata": {},
   "source": [
    "# Analysis for RQ"
   ]
  },
  {
   "cell_type": "markdown",
   "metadata": {},
   "source": [
    "## Create Subsets (total score columns with gender variations)"
   ]
  },
  {
   "cell_type": "code",
   "execution_count": null,
   "metadata": {},
   "outputs": [
    {
     "data": {
      "text/html": [
       "<div>\n",
       "<style scoped>\n",
       "    .dataframe tbody tr th:only-of-type {\n",
       "        vertical-align: middle;\n",
       "    }\n",
       "\n",
       "    .dataframe tbody tr th {\n",
       "        vertical-align: top;\n",
       "    }\n",
       "\n",
       "    .dataframe thead th {\n",
       "        text-align: right;\n",
       "    }\n",
       "</style>\n",
       "<table border=\"1\" class=\"dataframe\">\n",
       "  <thead>\n",
       "    <tr style=\"text-align: right;\">\n",
       "      <th></th>\n",
       "      <th>E_Tot</th>\n",
       "      <th>N_Tot</th>\n",
       "      <th>A_Tot</th>\n",
       "      <th>C_Tot</th>\n",
       "      <th>O_Tot</th>\n",
       "    </tr>\n",
       "  </thead>\n",
       "  <tbody>\n",
       "    <tr>\n",
       "      <th>0</th>\n",
       "      <td>44</td>\n",
       "      <td>49</td>\n",
       "      <td>46</td>\n",
       "      <td>47</td>\n",
       "      <td>43</td>\n",
       "    </tr>\n",
       "    <tr>\n",
       "      <th>1</th>\n",
       "      <td>22</td>\n",
       "      <td>29</td>\n",
       "      <td>35</td>\n",
       "      <td>42</td>\n",
       "      <td>26</td>\n",
       "    </tr>\n",
       "    <tr>\n",
       "      <th>2</th>\n",
       "      <td>35</td>\n",
       "      <td>14</td>\n",
       "      <td>38</td>\n",
       "      <td>49</td>\n",
       "      <td>45</td>\n",
       "    </tr>\n",
       "    <tr>\n",
       "      <th>3</th>\n",
       "      <td>22</td>\n",
       "      <td>17</td>\n",
       "      <td>37</td>\n",
       "      <td>26</td>\n",
       "      <td>41</td>\n",
       "    </tr>\n",
       "    <tr>\n",
       "      <th>4</th>\n",
       "      <td>34</td>\n",
       "      <td>30</td>\n",
       "      <td>44</td>\n",
       "      <td>34</td>\n",
       "      <td>34</td>\n",
       "    </tr>\n",
       "    <tr>\n",
       "      <th>...</th>\n",
       "      <td>...</td>\n",
       "      <td>...</td>\n",
       "      <td>...</td>\n",
       "      <td>...</td>\n",
       "      <td>...</td>\n",
       "    </tr>\n",
       "    <tr>\n",
       "      <th>19714</th>\n",
       "      <td>21</td>\n",
       "      <td>19</td>\n",
       "      <td>42</td>\n",
       "      <td>36</td>\n",
       "      <td>35</td>\n",
       "    </tr>\n",
       "    <tr>\n",
       "      <th>19715</th>\n",
       "      <td>25</td>\n",
       "      <td>39</td>\n",
       "      <td>36</td>\n",
       "      <td>32</td>\n",
       "      <td>30</td>\n",
       "    </tr>\n",
       "    <tr>\n",
       "      <th>19716</th>\n",
       "      <td>21</td>\n",
       "      <td>10</td>\n",
       "      <td>26</td>\n",
       "      <td>23</td>\n",
       "      <td>37</td>\n",
       "    </tr>\n",
       "    <tr>\n",
       "      <th>19717</th>\n",
       "      <td>21</td>\n",
       "      <td>20</td>\n",
       "      <td>38</td>\n",
       "      <td>43</td>\n",
       "      <td>42</td>\n",
       "    </tr>\n",
       "    <tr>\n",
       "      <th>19718</th>\n",
       "      <td>24</td>\n",
       "      <td>23</td>\n",
       "      <td>35</td>\n",
       "      <td>36</td>\n",
       "      <td>49</td>\n",
       "    </tr>\n",
       "  </tbody>\n",
       "</table>\n",
       "<p>19718 rows × 5 columns</p>\n",
       "</div>"
      ],
      "text/plain": [
       "       E_Tot  N_Tot  A_Tot  C_Tot  O_Tot\n",
       "0         44     49     46     47     43\n",
       "1         22     29     35     42     26\n",
       "2         35     14     38     49     45\n",
       "3         22     17     37     26     41\n",
       "4         34     30     44     34     34\n",
       "...      ...    ...    ...    ...    ...\n",
       "19714     21     19     42     36     35\n",
       "19715     25     39     36     32     30\n",
       "19716     21     10     26     23     37\n",
       "19717     21     20     38     43     42\n",
       "19718     24     23     35     36     49\n",
       "\n",
       "[19718 rows x 5 columns]"
      ]
     },
     "execution_count": null,
     "metadata": {},
     "output_type": "execute_result"
    }
   ],
   "source": [
    "#total scores without gender\n",
    "dat_sub = dat[[\"E_Tot\", \"N_Tot\", \"A_Tot\", \"C_Tot\", \"O_Tot\"]]"
   ]
  },
  {
   "cell_type": "code",
   "execution_count": null,
   "metadata": {},
   "outputs": [
    {
     "data": {
      "text/html": [
       "<div>\n",
       "<style scoped>\n",
       "    .dataframe tbody tr th:only-of-type {\n",
       "        vertical-align: middle;\n",
       "    }\n",
       "\n",
       "    .dataframe tbody tr th {\n",
       "        vertical-align: top;\n",
       "    }\n",
       "\n",
       "    .dataframe thead th {\n",
       "        text-align: right;\n",
       "    }\n",
       "</style>\n",
       "<table border=\"1\" class=\"dataframe\">\n",
       "  <thead>\n",
       "    <tr style=\"text-align: right;\">\n",
       "      <th></th>\n",
       "      <th>gender</th>\n",
       "      <th>E_Tot</th>\n",
       "      <th>N_Tot</th>\n",
       "      <th>A_Tot</th>\n",
       "      <th>C_Tot</th>\n",
       "      <th>O_Tot</th>\n",
       "    </tr>\n",
       "  </thead>\n",
       "  <tbody>\n",
       "    <tr>\n",
       "      <th>0</th>\n",
       "      <td>1</td>\n",
       "      <td>44</td>\n",
       "      <td>49</td>\n",
       "      <td>46</td>\n",
       "      <td>47</td>\n",
       "      <td>43</td>\n",
       "    </tr>\n",
       "    <tr>\n",
       "      <th>1</th>\n",
       "      <td>2</td>\n",
       "      <td>22</td>\n",
       "      <td>29</td>\n",
       "      <td>35</td>\n",
       "      <td>42</td>\n",
       "      <td>26</td>\n",
       "    </tr>\n",
       "    <tr>\n",
       "      <th>2</th>\n",
       "      <td>2</td>\n",
       "      <td>35</td>\n",
       "      <td>14</td>\n",
       "      <td>38</td>\n",
       "      <td>49</td>\n",
       "      <td>45</td>\n",
       "    </tr>\n",
       "    <tr>\n",
       "      <th>3</th>\n",
       "      <td>2</td>\n",
       "      <td>22</td>\n",
       "      <td>17</td>\n",
       "      <td>37</td>\n",
       "      <td>26</td>\n",
       "      <td>41</td>\n",
       "    </tr>\n",
       "    <tr>\n",
       "      <th>4</th>\n",
       "      <td>2</td>\n",
       "      <td>34</td>\n",
       "      <td>30</td>\n",
       "      <td>44</td>\n",
       "      <td>34</td>\n",
       "      <td>34</td>\n",
       "    </tr>\n",
       "    <tr>\n",
       "      <th>...</th>\n",
       "      <td>...</td>\n",
       "      <td>...</td>\n",
       "      <td>...</td>\n",
       "      <td>...</td>\n",
       "      <td>...</td>\n",
       "      <td>...</td>\n",
       "    </tr>\n",
       "    <tr>\n",
       "      <th>19714</th>\n",
       "      <td>2</td>\n",
       "      <td>21</td>\n",
       "      <td>19</td>\n",
       "      <td>42</td>\n",
       "      <td>36</td>\n",
       "      <td>35</td>\n",
       "    </tr>\n",
       "    <tr>\n",
       "      <th>19715</th>\n",
       "      <td>2</td>\n",
       "      <td>25</td>\n",
       "      <td>39</td>\n",
       "      <td>36</td>\n",
       "      <td>32</td>\n",
       "      <td>30</td>\n",
       "    </tr>\n",
       "    <tr>\n",
       "      <th>19716</th>\n",
       "      <td>1</td>\n",
       "      <td>21</td>\n",
       "      <td>10</td>\n",
       "      <td>26</td>\n",
       "      <td>23</td>\n",
       "      <td>37</td>\n",
       "    </tr>\n",
       "    <tr>\n",
       "      <th>19717</th>\n",
       "      <td>1</td>\n",
       "      <td>21</td>\n",
       "      <td>20</td>\n",
       "      <td>38</td>\n",
       "      <td>43</td>\n",
       "      <td>42</td>\n",
       "    </tr>\n",
       "    <tr>\n",
       "      <th>19718</th>\n",
       "      <td>1</td>\n",
       "      <td>24</td>\n",
       "      <td>23</td>\n",
       "      <td>35</td>\n",
       "      <td>36</td>\n",
       "      <td>49</td>\n",
       "    </tr>\n",
       "  </tbody>\n",
       "</table>\n",
       "<p>19592 rows × 6 columns</p>\n",
       "</div>"
      ],
      "text/plain": [
       "       gender  E_Tot  N_Tot  A_Tot  C_Tot  O_Tot\n",
       "0           1     44     49     46     47     43\n",
       "1           2     22     29     35     42     26\n",
       "2           2     35     14     38     49     45\n",
       "3           2     22     17     37     26     41\n",
       "4           2     34     30     44     34     34\n",
       "...       ...    ...    ...    ...    ...    ...\n",
       "19714       2     21     19     42     36     35\n",
       "19715       2     25     39     36     32     30\n",
       "19716       1     21     10     26     23     37\n",
       "19717       1     21     20     38     43     42\n",
       "19718       1     24     23     35     36     49\n",
       "\n",
       "[19592 rows x 6 columns]"
      ]
     },
     "execution_count": null,
     "metadata": {},
     "output_type": "execute_result"
    }
   ],
   "source": [
    "#total scores with gender = 1 (male) and 2 (female)\n",
    "values = [0,3]\n",
    "dat_sub_g1 = dat[[\"gender\",\"E_Tot\", \"N_Tot\", \"A_Tot\", \"C_Tot\", \"O_Tot\"]]\n",
    "dat_sub_g = dat_sub_g1[dat_sub_g1.gender.isin(values) == False]"
   ]
  },
  {
   "cell_type": "code",
   "execution_count": null,
   "metadata": {},
   "outputs": [
    {
     "data": {
      "text/html": [
       "<div>\n",
       "<style scoped>\n",
       "    .dataframe tbody tr th:only-of-type {\n",
       "        vertical-align: middle;\n",
       "    }\n",
       "\n",
       "    .dataframe tbody tr th {\n",
       "        vertical-align: top;\n",
       "    }\n",
       "\n",
       "    .dataframe thead th {\n",
       "        text-align: right;\n",
       "    }\n",
       "</style>\n",
       "<table border=\"1\" class=\"dataframe\">\n",
       "  <thead>\n",
       "    <tr style=\"text-align: right;\">\n",
       "      <th></th>\n",
       "      <th>gender</th>\n",
       "      <th>E_Tot</th>\n",
       "      <th>N_Tot</th>\n",
       "      <th>A_Tot</th>\n",
       "      <th>C_Tot</th>\n",
       "      <th>O_Tot</th>\n",
       "    </tr>\n",
       "  </thead>\n",
       "  <tbody>\n",
       "    <tr>\n",
       "      <th>1</th>\n",
       "      <td>2</td>\n",
       "      <td>22</td>\n",
       "      <td>29</td>\n",
       "      <td>35</td>\n",
       "      <td>42</td>\n",
       "      <td>26</td>\n",
       "    </tr>\n",
       "    <tr>\n",
       "      <th>2</th>\n",
       "      <td>2</td>\n",
       "      <td>35</td>\n",
       "      <td>14</td>\n",
       "      <td>38</td>\n",
       "      <td>49</td>\n",
       "      <td>45</td>\n",
       "    </tr>\n",
       "    <tr>\n",
       "      <th>3</th>\n",
       "      <td>2</td>\n",
       "      <td>22</td>\n",
       "      <td>17</td>\n",
       "      <td>37</td>\n",
       "      <td>26</td>\n",
       "      <td>41</td>\n",
       "    </tr>\n",
       "    <tr>\n",
       "      <th>4</th>\n",
       "      <td>2</td>\n",
       "      <td>34</td>\n",
       "      <td>30</td>\n",
       "      <td>44</td>\n",
       "      <td>34</td>\n",
       "      <td>34</td>\n",
       "    </tr>\n",
       "    <tr>\n",
       "      <th>5</th>\n",
       "      <td>2</td>\n",
       "      <td>16</td>\n",
       "      <td>36</td>\n",
       "      <td>36</td>\n",
       "      <td>31</td>\n",
       "      <td>33</td>\n",
       "    </tr>\n",
       "    <tr>\n",
       "      <th>...</th>\n",
       "      <td>...</td>\n",
       "      <td>...</td>\n",
       "      <td>...</td>\n",
       "      <td>...</td>\n",
       "      <td>...</td>\n",
       "      <td>...</td>\n",
       "    </tr>\n",
       "    <tr>\n",
       "      <th>19710</th>\n",
       "      <td>2</td>\n",
       "      <td>30</td>\n",
       "      <td>24</td>\n",
       "      <td>40</td>\n",
       "      <td>34</td>\n",
       "      <td>33</td>\n",
       "    </tr>\n",
       "    <tr>\n",
       "      <th>19711</th>\n",
       "      <td>2</td>\n",
       "      <td>21</td>\n",
       "      <td>26</td>\n",
       "      <td>42</td>\n",
       "      <td>36</td>\n",
       "      <td>39</td>\n",
       "    </tr>\n",
       "    <tr>\n",
       "      <th>19712</th>\n",
       "      <td>2</td>\n",
       "      <td>40</td>\n",
       "      <td>43</td>\n",
       "      <td>48</td>\n",
       "      <td>30</td>\n",
       "      <td>39</td>\n",
       "    </tr>\n",
       "    <tr>\n",
       "      <th>19714</th>\n",
       "      <td>2</td>\n",
       "      <td>21</td>\n",
       "      <td>19</td>\n",
       "      <td>42</td>\n",
       "      <td>36</td>\n",
       "      <td>35</td>\n",
       "    </tr>\n",
       "    <tr>\n",
       "      <th>19715</th>\n",
       "      <td>2</td>\n",
       "      <td>25</td>\n",
       "      <td>39</td>\n",
       "      <td>36</td>\n",
       "      <td>32</td>\n",
       "      <td>30</td>\n",
       "    </tr>\n",
       "  </tbody>\n",
       "</table>\n",
       "<p>11984 rows × 6 columns</p>\n",
       "</div>"
      ],
      "text/plain": [
       "       gender  E_Tot  N_Tot  A_Tot  C_Tot  O_Tot\n",
       "1           2     22     29     35     42     26\n",
       "2           2     35     14     38     49     45\n",
       "3           2     22     17     37     26     41\n",
       "4           2     34     30     44     34     34\n",
       "5           2     16     36     36     31     33\n",
       "...       ...    ...    ...    ...    ...    ...\n",
       "19710       2     30     24     40     34     33\n",
       "19711       2     21     26     42     36     39\n",
       "19712       2     40     43     48     30     39\n",
       "19714       2     21     19     42     36     35\n",
       "19715       2     25     39     36     32     30\n",
       "\n",
       "[11984 rows x 6 columns]"
      ]
     },
     "execution_count": null,
     "metadata": {},
     "output_type": "execute_result"
    }
   ],
   "source": [
    "#Female only\n",
    "values = [0, 3, 1]\n",
    "dat_f = dat_sub_g1[dat_sub_g1.gender.isin(values) == False]\n",
    "dat_f"
   ]
  },
  {
   "cell_type": "code",
   "execution_count": null,
   "metadata": {},
   "outputs": [
    {
     "data": {
      "text/html": [
       "<div>\n",
       "<style scoped>\n",
       "    .dataframe tbody tr th:only-of-type {\n",
       "        vertical-align: middle;\n",
       "    }\n",
       "\n",
       "    .dataframe tbody tr th {\n",
       "        vertical-align: top;\n",
       "    }\n",
       "\n",
       "    .dataframe thead th {\n",
       "        text-align: right;\n",
       "    }\n",
       "</style>\n",
       "<table border=\"1\" class=\"dataframe\">\n",
       "  <thead>\n",
       "    <tr style=\"text-align: right;\">\n",
       "      <th></th>\n",
       "      <th>gender</th>\n",
       "      <th>E_Tot</th>\n",
       "      <th>N_Tot</th>\n",
       "      <th>A_Tot</th>\n",
       "      <th>C_Tot</th>\n",
       "      <th>O_Tot</th>\n",
       "    </tr>\n",
       "  </thead>\n",
       "  <tbody>\n",
       "    <tr>\n",
       "      <th>0</th>\n",
       "      <td>1</td>\n",
       "      <td>44</td>\n",
       "      <td>49</td>\n",
       "      <td>46</td>\n",
       "      <td>47</td>\n",
       "      <td>43</td>\n",
       "    </tr>\n",
       "    <tr>\n",
       "      <th>7</th>\n",
       "      <td>1</td>\n",
       "      <td>39</td>\n",
       "      <td>45</td>\n",
       "      <td>41</td>\n",
       "      <td>44</td>\n",
       "      <td>42</td>\n",
       "    </tr>\n",
       "    <tr>\n",
       "      <th>11</th>\n",
       "      <td>1</td>\n",
       "      <td>30</td>\n",
       "      <td>36</td>\n",
       "      <td>35</td>\n",
       "      <td>30</td>\n",
       "      <td>38</td>\n",
       "    </tr>\n",
       "    <tr>\n",
       "      <th>15</th>\n",
       "      <td>1</td>\n",
       "      <td>28</td>\n",
       "      <td>41</td>\n",
       "      <td>17</td>\n",
       "      <td>42</td>\n",
       "      <td>47</td>\n",
       "    </tr>\n",
       "    <tr>\n",
       "      <th>23</th>\n",
       "      <td>1</td>\n",
       "      <td>33</td>\n",
       "      <td>38</td>\n",
       "      <td>41</td>\n",
       "      <td>31</td>\n",
       "      <td>38</td>\n",
       "    </tr>\n",
       "    <tr>\n",
       "      <th>...</th>\n",
       "      <td>...</td>\n",
       "      <td>...</td>\n",
       "      <td>...</td>\n",
       "      <td>...</td>\n",
       "      <td>...</td>\n",
       "      <td>...</td>\n",
       "    </tr>\n",
       "    <tr>\n",
       "      <th>19708</th>\n",
       "      <td>1</td>\n",
       "      <td>25</td>\n",
       "      <td>35</td>\n",
       "      <td>40</td>\n",
       "      <td>20</td>\n",
       "      <td>44</td>\n",
       "    </tr>\n",
       "    <tr>\n",
       "      <th>19713</th>\n",
       "      <td>1</td>\n",
       "      <td>14</td>\n",
       "      <td>39</td>\n",
       "      <td>43</td>\n",
       "      <td>37</td>\n",
       "      <td>30</td>\n",
       "    </tr>\n",
       "    <tr>\n",
       "      <th>19716</th>\n",
       "      <td>1</td>\n",
       "      <td>21</td>\n",
       "      <td>10</td>\n",
       "      <td>26</td>\n",
       "      <td>23</td>\n",
       "      <td>37</td>\n",
       "    </tr>\n",
       "    <tr>\n",
       "      <th>19717</th>\n",
       "      <td>1</td>\n",
       "      <td>21</td>\n",
       "      <td>20</td>\n",
       "      <td>38</td>\n",
       "      <td>43</td>\n",
       "      <td>42</td>\n",
       "    </tr>\n",
       "    <tr>\n",
       "      <th>19718</th>\n",
       "      <td>1</td>\n",
       "      <td>24</td>\n",
       "      <td>23</td>\n",
       "      <td>35</td>\n",
       "      <td>36</td>\n",
       "      <td>49</td>\n",
       "    </tr>\n",
       "  </tbody>\n",
       "</table>\n",
       "<p>7608 rows × 6 columns</p>\n",
       "</div>"
      ],
      "text/plain": [
       "       gender  E_Tot  N_Tot  A_Tot  C_Tot  O_Tot\n",
       "0           1     44     49     46     47     43\n",
       "7           1     39     45     41     44     42\n",
       "11          1     30     36     35     30     38\n",
       "15          1     28     41     17     42     47\n",
       "23          1     33     38     41     31     38\n",
       "...       ...    ...    ...    ...    ...    ...\n",
       "19708       1     25     35     40     20     44\n",
       "19713       1     14     39     43     37     30\n",
       "19716       1     21     10     26     23     37\n",
       "19717       1     21     20     38     43     42\n",
       "19718       1     24     23     35     36     49\n",
       "\n",
       "[7608 rows x 6 columns]"
      ]
     },
     "execution_count": null,
     "metadata": {},
     "output_type": "execute_result"
    }
   ],
   "source": [
    "#Male only\n",
    "values = [0, 3, 2]\n",
    "dat_m = dat_sub_g1[dat_sub_g1.gender.isin(values) == False]\n",
    "dat_m"
   ]
  },
  {
   "cell_type": "markdown",
   "metadata": {},
   "source": [
    "## Descriptive Statistics"
   ]
  },
  {
   "cell_type": "code",
   "execution_count": null,
   "metadata": {},
   "outputs": [
    {
     "data": {
      "text/html": [
       "<div>\n",
       "<style scoped>\n",
       "    .dataframe tbody tr th:only-of-type {\n",
       "        vertical-align: middle;\n",
       "    }\n",
       "\n",
       "    .dataframe tbody tr th {\n",
       "        vertical-align: top;\n",
       "    }\n",
       "\n",
       "    .dataframe thead th {\n",
       "        text-align: right;\n",
       "    }\n",
       "</style>\n",
       "<table border=\"1\" class=\"dataframe\">\n",
       "  <thead>\n",
       "    <tr style=\"text-align: right;\">\n",
       "      <th></th>\n",
       "      <th>gender</th>\n",
       "      <th>E_Tot</th>\n",
       "      <th>N_Tot</th>\n",
       "      <th>A_Tot</th>\n",
       "      <th>C_Tot</th>\n",
       "      <th>O_Tot</th>\n",
       "    </tr>\n",
       "  </thead>\n",
       "  <tbody>\n",
       "    <tr>\n",
       "      <th>count</th>\n",
       "      <td>7608.000000</td>\n",
       "      <td>7608.000000</td>\n",
       "      <td>7608.000000</td>\n",
       "      <td>7608.000000</td>\n",
       "      <td>7608.000000</td>\n",
       "      <td>7608.000000</td>\n",
       "    </tr>\n",
       "    <tr>\n",
       "      <th>mean</th>\n",
       "      <td>1.000000</td>\n",
       "      <td>29.542587</td>\n",
       "      <td>30.851341</td>\n",
       "      <td>36.549422</td>\n",
       "      <td>33.224632</td>\n",
       "      <td>39.866062</td>\n",
       "    </tr>\n",
       "    <tr>\n",
       "      <th>std</th>\n",
       "      <td>0.000000</td>\n",
       "      <td>9.164005</td>\n",
       "      <td>8.610305</td>\n",
       "      <td>7.318780</td>\n",
       "      <td>7.170913</td>\n",
       "      <td>6.076097</td>\n",
       "    </tr>\n",
       "    <tr>\n",
       "      <th>min</th>\n",
       "      <td>1.000000</td>\n",
       "      <td>10.000000</td>\n",
       "      <td>10.000000</td>\n",
       "      <td>10.000000</td>\n",
       "      <td>10.000000</td>\n",
       "      <td>12.000000</td>\n",
       "    </tr>\n",
       "    <tr>\n",
       "      <th>25%</th>\n",
       "      <td>1.000000</td>\n",
       "      <td>23.000000</td>\n",
       "      <td>25.000000</td>\n",
       "      <td>32.000000</td>\n",
       "      <td>28.000000</td>\n",
       "      <td>36.000000</td>\n",
       "    </tr>\n",
       "    <tr>\n",
       "      <th>50%</th>\n",
       "      <td>1.000000</td>\n",
       "      <td>29.000000</td>\n",
       "      <td>31.000000</td>\n",
       "      <td>37.000000</td>\n",
       "      <td>33.000000</td>\n",
       "      <td>40.000000</td>\n",
       "    </tr>\n",
       "    <tr>\n",
       "      <th>75%</th>\n",
       "      <td>1.000000</td>\n",
       "      <td>36.000000</td>\n",
       "      <td>37.000000</td>\n",
       "      <td>42.000000</td>\n",
       "      <td>38.000000</td>\n",
       "      <td>44.000000</td>\n",
       "    </tr>\n",
       "    <tr>\n",
       "      <th>max</th>\n",
       "      <td>1.000000</td>\n",
       "      <td>50.000000</td>\n",
       "      <td>50.000000</td>\n",
       "      <td>50.000000</td>\n",
       "      <td>50.000000</td>\n",
       "      <td>50.000000</td>\n",
       "    </tr>\n",
       "  </tbody>\n",
       "</table>\n",
       "</div>"
      ],
      "text/plain": [
       "            gender        E_Tot        N_Tot        A_Tot        C_Tot  \\\n",
       "count  7608.000000  7608.000000  7608.000000  7608.000000  7608.000000   \n",
       "mean      1.000000    29.542587    30.851341    36.549422    33.224632   \n",
       "std       0.000000     9.164005     8.610305     7.318780     7.170913   \n",
       "min       1.000000    10.000000    10.000000    10.000000    10.000000   \n",
       "25%       1.000000    23.000000    25.000000    32.000000    28.000000   \n",
       "50%       1.000000    29.000000    31.000000    37.000000    33.000000   \n",
       "75%       1.000000    36.000000    37.000000    42.000000    38.000000   \n",
       "max       1.000000    50.000000    50.000000    50.000000    50.000000   \n",
       "\n",
       "             O_Tot  \n",
       "count  7608.000000  \n",
       "mean     39.866062  \n",
       "std       6.076097  \n",
       "min      12.000000  \n",
       "25%      36.000000  \n",
       "50%      40.000000  \n",
       "75%      44.000000  \n",
       "max      50.000000  "
      ]
     },
     "execution_count": null,
     "metadata": {},
     "output_type": "execute_result"
    }
   ],
   "source": [
    "dat_m.describe().apply(lambda s: s.apply(lambda x: format(x, 'f')))"
   ]
  },
  {
   "cell_type": "code",
   "execution_count": null,
   "metadata": {},
   "outputs": [
    {
     "data": {
      "text/html": [
       "<div>\n",
       "<style scoped>\n",
       "    .dataframe tbody tr th:only-of-type {\n",
       "        vertical-align: middle;\n",
       "    }\n",
       "\n",
       "    .dataframe tbody tr th {\n",
       "        vertical-align: top;\n",
       "    }\n",
       "\n",
       "    .dataframe thead th {\n",
       "        text-align: right;\n",
       "    }\n",
       "</style>\n",
       "<table border=\"1\" class=\"dataframe\">\n",
       "  <thead>\n",
       "    <tr style=\"text-align: right;\">\n",
       "      <th></th>\n",
       "      <th>gender</th>\n",
       "      <th>E_Tot</th>\n",
       "      <th>N_Tot</th>\n",
       "      <th>A_Tot</th>\n",
       "      <th>C_Tot</th>\n",
       "      <th>O_Tot</th>\n",
       "    </tr>\n",
       "  </thead>\n",
       "  <tbody>\n",
       "    <tr>\n",
       "      <th>count</th>\n",
       "      <td>11984.000000</td>\n",
       "      <td>11984.000000</td>\n",
       "      <td>11984.000000</td>\n",
       "      <td>11984.000000</td>\n",
       "      <td>11984.000000</td>\n",
       "      <td>11984.000000</td>\n",
       "    </tr>\n",
       "    <tr>\n",
       "      <th>mean</th>\n",
       "      <td>2.000000</td>\n",
       "      <td>30.525117</td>\n",
       "      <td>27.891439</td>\n",
       "      <td>39.676318</td>\n",
       "      <td>33.649449</td>\n",
       "      <td>38.569259</td>\n",
       "    </tr>\n",
       "    <tr>\n",
       "      <th>std</th>\n",
       "      <td>0.000000</td>\n",
       "      <td>9.227630</td>\n",
       "      <td>8.427500</td>\n",
       "      <td>6.740164</td>\n",
       "      <td>7.386270</td>\n",
       "      <td>6.314642</td>\n",
       "    </tr>\n",
       "    <tr>\n",
       "      <th>min</th>\n",
       "      <td>2.000000</td>\n",
       "      <td>10.000000</td>\n",
       "      <td>10.000000</td>\n",
       "      <td>10.000000</td>\n",
       "      <td>10.000000</td>\n",
       "      <td>10.000000</td>\n",
       "    </tr>\n",
       "    <tr>\n",
       "      <th>25%</th>\n",
       "      <td>2.000000</td>\n",
       "      <td>24.000000</td>\n",
       "      <td>22.000000</td>\n",
       "      <td>36.000000</td>\n",
       "      <td>28.000000</td>\n",
       "      <td>34.000000</td>\n",
       "    </tr>\n",
       "    <tr>\n",
       "      <th>50%</th>\n",
       "      <td>2.000000</td>\n",
       "      <td>31.000000</td>\n",
       "      <td>28.000000</td>\n",
       "      <td>41.000000</td>\n",
       "      <td>34.000000</td>\n",
       "      <td>39.000000</td>\n",
       "    </tr>\n",
       "    <tr>\n",
       "      <th>75%</th>\n",
       "      <td>2.000000</td>\n",
       "      <td>38.000000</td>\n",
       "      <td>34.000000</td>\n",
       "      <td>45.000000</td>\n",
       "      <td>39.000000</td>\n",
       "      <td>43.000000</td>\n",
       "    </tr>\n",
       "    <tr>\n",
       "      <th>max</th>\n",
       "      <td>2.000000</td>\n",
       "      <td>50.000000</td>\n",
       "      <td>50.000000</td>\n",
       "      <td>50.000000</td>\n",
       "      <td>50.000000</td>\n",
       "      <td>50.000000</td>\n",
       "    </tr>\n",
       "  </tbody>\n",
       "</table>\n",
       "</div>"
      ],
      "text/plain": [
       "             gender         E_Tot         N_Tot         A_Tot         C_Tot  \\\n",
       "count  11984.000000  11984.000000  11984.000000  11984.000000  11984.000000   \n",
       "mean       2.000000     30.525117     27.891439     39.676318     33.649449   \n",
       "std        0.000000      9.227630      8.427500      6.740164      7.386270   \n",
       "min        2.000000     10.000000     10.000000     10.000000     10.000000   \n",
       "25%        2.000000     24.000000     22.000000     36.000000     28.000000   \n",
       "50%        2.000000     31.000000     28.000000     41.000000     34.000000   \n",
       "75%        2.000000     38.000000     34.000000     45.000000     39.000000   \n",
       "max        2.000000     50.000000     50.000000     50.000000     50.000000   \n",
       "\n",
       "              O_Tot  \n",
       "count  11984.000000  \n",
       "mean      38.569259  \n",
       "std        6.314642  \n",
       "min       10.000000  \n",
       "25%       34.000000  \n",
       "50%       39.000000  \n",
       "75%       43.000000  \n",
       "max       50.000000  "
      ]
     },
     "execution_count": null,
     "metadata": {},
     "output_type": "execute_result"
    }
   ],
   "source": [
    "dat_f.describe().apply(lambda s: s.apply(lambda x: format(x, 'f')))"
   ]
  },
  {
   "cell_type": "code",
   "execution_count": null,
   "metadata": {},
   "outputs": [
    {
     "data": {
      "text/html": [
       "<div>\n",
       "<style scoped>\n",
       "    .dataframe tbody tr th:only-of-type {\n",
       "        vertical-align: middle;\n",
       "    }\n",
       "\n",
       "    .dataframe tbody tr th {\n",
       "        vertical-align: top;\n",
       "    }\n",
       "\n",
       "    .dataframe thead th {\n",
       "        text-align: right;\n",
       "    }\n",
       "</style>\n",
       "<table border=\"1\" class=\"dataframe\">\n",
       "  <thead>\n",
       "    <tr style=\"text-align: right;\">\n",
       "      <th></th>\n",
       "      <th>E_Tot</th>\n",
       "      <th>N_Tot</th>\n",
       "      <th>A_Tot</th>\n",
       "      <th>C_Tot</th>\n",
       "      <th>O_Tot</th>\n",
       "    </tr>\n",
       "    <tr>\n",
       "      <th>gender</th>\n",
       "      <th></th>\n",
       "      <th></th>\n",
       "      <th></th>\n",
       "      <th></th>\n",
       "      <th></th>\n",
       "    </tr>\n",
       "  </thead>\n",
       "  <tbody>\n",
       "    <tr>\n",
       "      <th>1</th>\n",
       "      <td>29.542587</td>\n",
       "      <td>30.851341</td>\n",
       "      <td>36.549422</td>\n",
       "      <td>33.224632</td>\n",
       "      <td>39.866062</td>\n",
       "    </tr>\n",
       "    <tr>\n",
       "      <th>2</th>\n",
       "      <td>30.525117</td>\n",
       "      <td>27.891439</td>\n",
       "      <td>39.676318</td>\n",
       "      <td>33.649449</td>\n",
       "      <td>38.569259</td>\n",
       "    </tr>\n",
       "  </tbody>\n",
       "</table>\n",
       "</div>"
      ],
      "text/plain": [
       "            E_Tot      N_Tot      A_Tot      C_Tot      O_Tot\n",
       "gender                                                       \n",
       "1       29.542587  30.851341  36.549422  33.224632  39.866062\n",
       "2       30.525117  27.891439  39.676318  33.649449  38.569259"
      ]
     },
     "execution_count": null,
     "metadata": {},
     "output_type": "execute_result"
    }
   ],
   "source": [
    "dat_sub_g.groupby('gender').mean()\n",
    "\n",
    "#Male higher than female - N and O\n",
    "#Female higher than male - E, A, C"
   ]
  },
  {
   "cell_type": "code",
   "execution_count": null,
   "metadata": {},
   "outputs": [
    {
     "name": "stdout",
     "output_type": "stream",
     "text": [
      "ShapiroResult(statistic=0.978987991809845, pvalue=0.0)\n"
     ]
    },
    {
     "ename": "TypeError",
     "evalue": "shapiro() got an unexpected keyword argument 'cols'",
     "output_type": "error",
     "traceback": [
      "\u001b[0;31m---------------------------------------------------------------------------\u001b[0m",
      "\u001b[0;31mTypeError\u001b[0m                                 Traceback (most recent call last)",
      "Cell \u001b[0;32mIn [49], line 7\u001b[0m\n\u001b[1;32m      4\u001b[0m \u001b[38;5;28;01mimport\u001b[39;00m \u001b[38;5;21;01mscipy\u001b[39;00m\u001b[38;5;21;01m.\u001b[39;00m\u001b[38;5;21;01mstats\u001b[39;00m\n\u001b[1;32m      6\u001b[0m \u001b[38;5;28mprint\u001b[39m(shapiro(dat_sub))\n\u001b[0;32m----> 7\u001b[0m \u001b[38;5;28mprint\u001b[39m(\u001b[43mshapiro\u001b[49m\u001b[43m(\u001b[49m\u001b[43mdat_sub\u001b[49m\u001b[43m,\u001b[49m\u001b[43m \u001b[49m\u001b[43mcols\u001b[49m\u001b[43m \u001b[49m\u001b[38;5;241;43m=\u001b[39;49m\u001b[43m \u001b[49m\u001b[38;5;124;43m\"\u001b[39;49m\u001b[38;5;124;43mE_Tot\u001b[39;49m\u001b[38;5;124;43m\"\u001b[39;49m\u001b[43m)\u001b[49m)\n",
      "\u001b[0;31mTypeError\u001b[0m: shapiro() got an unexpected keyword argument 'cols'"
     ]
    }
   ],
   "source": [
    "from scipy.stats import shapiro \n",
    "from scipy.stats import lognorm\n",
    "from scipy.stats import levene\n",
    "import scipy.stats\n",
    "\n",
    "print(shapiro(dat_sub))\n",
    "print(shapiro(dat_sub, cols = \"E_Tot\"))\n",
    "\n",
    "#not normal"
   ]
  },
  {
   "cell_type": "code",
   "execution_count": null,
   "metadata": {},
   "outputs": [
    {
     "data": {
      "image/png": "[encoded data removed]",
      "text/plain": [
       "<Figure size 432x288 with 1 Axes>"
      ]
     },
     "metadata": {
      "needs_background": "light"
     },
     "output_type": "display_data"
    }
   ],
   "source": [
    "import statsmodels.api as sm\n",
    "fig = sm.qqplot(dat_sub, line='45')\n",
    "\n",
    "#Not normal"
   ]
  },
  {
   "cell_type": "code",
   "execution_count": null,
   "metadata": {},
   "outputs": [
    {
     "data": {
      "text/plain": [
       "Ttest_indResult(statistic=array([        -inf,  -7.29433136,  23.6443449 , -30.04489707,\n",
       "        -3.9943267 ,  14.33830973]), pvalue=array([0.00000000e+000, 3.13967109e-013, 1.65566853e-121, 1.03799243e-192,\n",
       "       6.51590228e-005, 2.38097148e-046]))"
      ]
     },
     "execution_count": null,
     "metadata": {},
     "output_type": "execute_result"
    }
   ],
   "source": [
    "ttest = scipy.stats.ttest_ind(dat_m, dat_f, equal_var=False)\n",
    "ttest\n",
    "\n",
    "#Can use t-test based on Central Limit Theorem (data with sufficient sample size to overcome non-normal distribution)"
   ]
  }
 ],
 "metadata": {
  "kernelspec": {
   "display_name": "Python 3 (ipykernel)",
   "language": "python",
   "name": "python3"
  }
 },
 "nbformat": 4,
 "nbformat_minor": 4
}
