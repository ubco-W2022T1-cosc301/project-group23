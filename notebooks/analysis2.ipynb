{
 "cells": [
  {
   "cell_type": "markdown",
   "metadata": {},
   "source": [
    "# Ella Serber"
   ]
  },
  {
   "cell_type": "markdown",
   "metadata": {},
   "source": [
    "## Research question/interests\n",
    "My primary research question asks: Is there a relationship among various personality traits?\n",
    "    \n",
    "Hypothesis 1: There is a significant positive relationship between Openness and Extraversion; Openness and Agreeableness; Extraversion and Agreeableness; and Conscientousness and Agreeableness. There is a significant negative relationship between Neuroticism and Extraversion, and Neuroticism and Agreeableness. \n",
    "\n",
    "My secondary research question asks: How do scores between men and women differ on the 5 personality traits?\n",
    "    \n",
    "Hypothesis 2: Based on extant research, on average, women will show higher scores than men on Extraversion, and Agreeableness, lower scores on Neuroticism, and there are will be no significant gender differences for Conscientiousness or Openness.\n",
    "\n",
    "*Note: in the dataset, high neuroticism is at the low end of the continuum so a high score on the N factor corresponds to low neuroticism/high emotional stability"
   ]
  },
  {
   "cell_type": "markdown",
   "metadata": {},
   "source": [
    "## Load packages and data "
   ]
  },
  {
   "cell_type": "code",
   "execution_count": null,
   "metadata": {},
   "outputs": [],
   "source": [
    "import pandas as pd\n",
    "import numpy as np\n",
    "import seaborn as sb\n",
    "import matplotlib.pyplot as plt"
   ]
  },
  {
   "cell_type": "code",
   "execution_count": null,
   "metadata": {},
   "outputs": [],
   "source": [
    "dat_1 = pd.read_csv(\"../data/raw/data.csv\", sep='\\t')\n",
    "dat_1"
   ]
  },
  {
   "cell_type": "markdown",
   "metadata": {},
   "source": [
    "## EDA"
   ]
  },
  {
   "cell_type": "code",
   "execution_count": null,
   "metadata": {},
   "outputs": [],
   "source": [
    "dat_1.shape\n",
    "#Gives number of rows and columns"
   ]
  },
  {
   "cell_type": "code",
   "execution_count": null,
   "metadata": {},
   "outputs": [],
   "source": [
    "dat_1.columns\n",
    "#Gives all column names"
   ]
  },
  {
   "cell_type": "code",
   "execution_count": null,
   "metadata": {},
   "outputs": [],
   "source": [
    "dat_1.head(5)\n",
    "#Gives shortened dataframe for specified number of rows "
   ]
  },
  {
   "cell_type": "code",
   "execution_count": null,
   "metadata": {},
   "outputs": [],
   "source": [
    "dat_1.nunique(axis=0)\n",
    "#Gives number of unique values for each column"
   ]
  },
  {
   "cell_type": "code",
   "execution_count": null,
   "metadata": {},
   "outputs": [],
   "source": [
    "dat_1.describe().apply(lambda s: s.apply(lambda x: format(x, 'f')))\n",
    "#Descriptive stats for entire dataframe "
   ]
  },
  {
   "cell_type": "code",
   "execution_count": null,
   "metadata": {},
   "outputs": [],
   "source": [
    "print(dat.E1.describe())\n",
    "print(dat.N1.describe())\n",
    "#descriptive stats for one column "
   ]
  },
  {
   "cell_type": "code",
   "execution_count": null,
   "metadata": {},
   "outputs": [],
   "source": [
    "dat_1.age.unique()\n",
    "#Gives each unique value for a column (e.g., age)"
   ]
  },
  {
   "cell_type": "code",
   "execution_count": null,
   "metadata": {},
   "outputs": [],
   "source": [
    "dat_2 = dat_1.copy().drop(['engnat','hand','source', 'country', 'race', 'age'], axis=1)\n",
    "#Drop unwanted columns (not going to be used)"
   ]
  },
  {
   "cell_type": "code",
   "execution_count": null,
   "metadata": {},
   "outputs": [],
   "source": [
    "pd.isnull(dat_2).values.any()\n",
    "#No missing values"
   ]
  },
  {
   "cell_type": "code",
   "execution_count": null,
   "metadata": {},
   "outputs": [],
   "source": [
    "np.isnan(dat_2).values.any()\n",
    "#No NaN values"
   ]
  },
  {
   "cell_type": "code",
   "execution_count": null,
   "metadata": {},
   "outputs": [],
   "source": [
    "dat_2.loc[dat['E1'] == 0]\n",
    "#Find \"0\" in column \"E1\""
   ]
  },
  {
   "cell_type": "code",
   "execution_count": null,
   "metadata": {},
   "outputs": [],
   "source": [
    "pd.unique(dat[\"gender\"])\n",
    "#Gives unique values for \"gender\" column\n",
    "#Need to remove gender = 0 (missing) and gender = 3 (other)\n",
    "\n",
    "dat_2.loc[dat['gender'] == 0]\n",
    "dat_2.loc[dat['gender'] == 3]\n",
    "#Want to drop these rows (without entering each manually) "
   ]
  },
  {
   "cell_type": "markdown",
   "metadata": {},
   "source": [
    "### Reverse Scoring"
   ]
  },
  {
   "cell_type": "code",
   "execution_count": null,
   "metadata": {},
   "outputs": [],
   "source": [
    "#Reverse Scored Items: E2, E4, E6, E8, E10, N1, N3, N5, N6, N7, N8, N9, N10, A1, A3, A5, A7, C2, C4, C6, C8, O2, O4, O6\n",
    "\n",
    "#Create function to reverse score\n",
    "def reverseScoring(df, high, cols):\n",
    "    df[cols] = high - df[cols]\n",
    "    return df\n",
    "\n",
    "#call function for items that are reverse scored\n",
    "dat = reverseScoring(dat_2, 6, cols=[\"E2\", \"E4\", \"E6\", \"E8\", \"E10\", \"N1\", \"N3\", \"N5\", \"N6\", \"N7\", \"N8\", \"N9\", \"N10\", \"A1\", \"A3\", \"A5\", \"A7\", \"C2\", \"C4\", \"C6\", \"C8\", \"O2\", \"O4\", \"O6\"])\n",
    "dat"
   ]
  },
  {
   "cell_type": "markdown",
   "metadata": {},
   "source": [
    "### Factor scores"
   ]
  },
  {
   "cell_type": "code",
   "execution_count": null,
   "metadata": {},
   "outputs": [],
   "source": [
    "dat[\"E_Tot\"] = dat[\"E1\"]+dat[\"E2\"]+dat[\"E3\"]+dat[\"E4\"]+dat[\"E5\"]+dat[\"E6\"]+dat[\"E7\"]+dat[\"E8\"]+dat[\"E9\"]+dat[\"E10\"]\n",
    "dat[\"N_Tot\"] = dat[\"N1\"]+dat[\"N2\"]+dat[\"N3\"]+dat[\"N4\"]+dat[\"N5\"]+dat[\"N6\"]+dat[\"N7\"]+dat[\"N8\"]+dat[\"N9\"]+dat[\"N10\"]\n",
    "dat[\"A_Tot\"] = dat[\"A1\"]+dat[\"A2\"]+dat[\"A3\"]+dat[\"A4\"]+dat[\"A5\"]+dat[\"A6\"]+dat[\"A7\"]+dat[\"A8\"]+dat[\"A9\"]+dat[\"A10\"]\n",
    "dat[\"C_Tot\"] = dat[\"C1\"]+dat[\"C2\"]+dat[\"C3\"]+dat[\"C4\"]+dat[\"C5\"]+dat[\"C6\"]+dat[\"C7\"]+dat[\"C8\"]+dat[\"C9\"]+dat[\"C10\"]\n",
    "dat[\"O_Tot\"] = dat[\"O1\"]+dat[\"O2\"]+dat[\"O3\"]+dat[\"O4\"]+dat[\"O5\"]+dat[\"O6\"]+dat[\"O7\"]+dat[\"O8\"]+dat[\"O9\"]+dat[\"O10\"]\n",
    "#Create new columns containing the total scores for each individual on each of the 5 factors "
   ]
  },
  {
   "cell_type": "markdown",
   "metadata": {},
   "source": [
    "## Subsets"
   ]
  },
  {
   "cell_type": "code",
   "execution_count": null,
   "metadata": {},
   "outputs": [],
   "source": [
    "dat_reduced_g1 = dat[[\"gender\", \"E_Tot\", \"N_Tot\", \"A_Tot\", \"C_Tot\", \"O_Tot\"]]\n",
    "values = [0,3]\n",
    "dat_reduced_g = dat_reduced_g1[dat_reduced_g1.gender.isin(values) == False]\n",
    "dat_reduced = dat[[\"E_Tot\", \"N_Tot\", \"A_Tot\", \"C_Tot\", \"O_Tot\"]]\n",
    "#Create subsests with desired columns (with and without gender) and remove rows where gender = 3 (missing) or 0 (neither male nor female)"
   ]
  },
  {
   "cell_type": "code",
   "execution_count": null,
   "metadata": {},
   "outputs": [],
   "source": [
    "values = [0, 3, 1]\n",
    "dat_f = dat_reduced_g[dat_reduced_g.gender.isin(values) == False]\n",
    "dat_f\n",
    "#Create \"female\" subset (only include rows where gender = 2 (female)"
   ]
  },
  {
   "cell_type": "code",
   "execution_count": null,
   "metadata": {},
   "outputs": [],
   "source": [
    "values = [0, 3, 2]\n",
    "dat_m = dat_reduced_g[dat_reduced_g.gender.isin(values) == False]\n",
    "dat_m\n",
    "#Create \"male\" subset (only include rows where gender = 1 (male)"
   ]
  },
  {
   "cell_type": "markdown",
   "metadata": {},
   "source": [
    "### Visualizations (EDA)"
   ]
  },
  {
   "cell_type": "code",
   "execution_count": null,
   "metadata": {},
   "outputs": [],
   "source": [
    "dat_reduced_g.hist(column= \"E_Tot\", bins =20)\n",
    "dat_reduced_g.hist(column= \"N_Tot\", bins =20)\n",
    "dat_reduced_g.hist(column= \"A_Tot\", bins =20)\n",
    "dat_reduced_g.hist(column= \"C_Tot\", bins =20)\n",
    "dat_reduced_g.hist(column= \"O_Tot\", bins =20)\n",
    "\n",
    "#Shows distribution of each factor for males and females (combined)"
   ]
  },
  {
   "cell_type": "code",
   "execution_count": null,
   "metadata": {},
   "outputs": [],
   "source": [
    "dat_reduced_g.hist(column= \"E_Tot\", by = \"gender\", bins=20)\n",
    "dat_reduced_g.hist(column= \"N_Tot\", by = \"gender\", bins=20)\n",
    "dat_reduced_g.hist(column= \"A_Tot\", by = \"gender\", bins=20)\n",
    "dat_reduced_g.hist(column= \"C_Tot\", by = \"gender\", bins=20)\n",
    "dat_reduced_g.hist(column= \"O_Tot\", by = \"gender\", bins=20)\n",
    "\n",
    "#Shows distribution of each factor for males and females (separately)"
   ]
  },
  {
   "cell_type": "code",
   "execution_count": null,
   "metadata": {},
   "outputs": [],
   "source": [
    "sb.countplot(x = \"gender\", data = dat_reduced_g)\n",
    "\n",
    "#Many more females than males in sample "
   ]
  },
  {
   "cell_type": "code",
   "execution_count": null,
   "metadata": {},
   "outputs": [],
   "source": [
    "dat_reduced_g.plot.box(by = \"gender\")\n",
    "\n",
    "#Produces boxplot for each factor, separated by gender, and shows the lower, middle, and upper quartile (i.e., 25th, 50th, and 75th percentile, respectively)"
   ]
  },
  {
   "cell_type": "code",
   "execution_count": null,
   "metadata": {},
   "outputs": [],
   "source": [
    "sb.displot(dat_reduced_g[\"E_Tot\"])\n",
    "sb.displot(dat_reduced_g[\"N_Tot\"])\n",
    "sb.displot(dat_reduced_g[\"A_Tot\"])\n",
    "sb.displot(dat_reduced_g[\"C_Tot\"])\n",
    "sb.displot(dat_reduced_g[\"O_Tot\"])\n",
    "\n",
    "#Shows distribution of each factor for males and females (combined) -- similar to above hist plot "
   ]
  },
  {
   "cell_type": "code",
   "execution_count": null,
   "metadata": {},
   "outputs": [],
   "source": [
    "sb.pairplot(dat_reduced_g, hue = \"gender\")\n",
    "#Not very useful (too many data points)"
   ]
  },
  {
   "cell_type": "code",
   "execution_count": null,
   "metadata": {},
   "outputs": [],
   "source": [
    "sb.barplot(x = \"gender\", y = \"E_Tot\", dat = dat_reduced_g)"
   ]
  },
  {
   "cell_type": "code",
   "execution_count": null,
   "metadata": {},
   "outputs": [],
   "source": [
    "dat_reduced.hist()\n",
    "#Shows distribution of each factor (probs not useful since same as hist for each factor above; this one looks a bit messier)"
   ]
  },
  {
   "cell_type": "code",
   "execution_count": null,
   "metadata": {},
   "outputs": [],
   "source": [
    "dat_reduced_g.groupby(\"gender\").mean().plot.bar()\n",
    "#shows mean average for each factor, separated by gender"
   ]
  },
  {
   "cell_type": "code",
   "execution_count": null,
   "metadata": {},
   "outputs": [],
   "source": [
    "dat_reduced_g.groupby(\"gender\").median().plot.bar()\n",
    "#shows median value for each factor, separated by gender"
   ]
  },
  {
   "cell_type": "code",
   "execution_count": null,
   "metadata": {},
   "outputs": [],
   "source": [
    "dat_reduced.mean().plot.bar()\n",
    "#shows mean average for each category (both genders)"
   ]
  },
  {
   "cell_type": "code",
   "execution_count": null,
   "metadata": {},
   "outputs": [],
   "source": [
    "dat.plot.scatter(x = \"E_Tot\")\n",
    "#How to make the y-axis just the score values??\n",
    "#Does not seem useful for this data"
   ]
  },
  {
   "cell_type": "code",
   "execution_count": null,
   "metadata": {},
   "outputs": [],
   "source": [
    "sb.violinplot(dat_reduced_g, x=\"gender\", y= \"E_Tot\", split = True)\n",
    "#produces violin plot for each of males and females for one of the factor total scores (e.g., E)"
   ]
  },
  {
   "cell_type": "markdown",
   "metadata": {},
   "source": [
    "# Analysis Pipeline"
   ]
  },
  {
   "cell_type": "markdown",
   "metadata": {},
   "source": [
    "### Import Packages"
   ]
  },
  {
   "cell_type": "code",
   "execution_count": null,
   "metadata": {},
   "outputs": [],
   "source": [
    "import pandas as pd\n",
    "import numpy as np\n",
    "import seaborn as sb"
   ]
  },
  {
   "cell_type": "markdown",
   "metadata": {},
   "source": [
    "## Load Data"
   ]
  },
  {
   "cell_type": "code",
   "execution_count": null,
   "metadata": {},
   "outputs": [],
   "source": [
    "dat_1 = pd.read_csv(\"../data/raw/data.csv\", sep='\\t')"
   ]
  },
  {
   "cell_type": "markdown",
   "metadata": {},
   "source": [
    "## Clean Data"
   ]
  },
  {
   "cell_type": "code",
   "execution_count": null,
   "metadata": {},
   "outputs": [],
   "source": [
    "dat_2 = dat_1.copy().drop(['engnat','hand','source', 'country', 'race', 'age'], axis=1)\n",
    "dat_3 = dat_2.copy().drop([19064], axis=0)"
   ]
  },
  {
   "cell_type": "markdown",
   "metadata": {},
   "source": [
    "## Process Data\n"
   ]
  },
  {
   "cell_type": "markdown",
   "metadata": {},
   "source": [
    "### Reverse Scoring"
   ]
  },
  {
   "cell_type": "code",
   "execution_count": null,
   "metadata": {},
   "outputs": [],
   "source": [
    "def reverseScoring(df, high, cols):\n",
    "    df[cols] = high - df[cols]\n",
    "    return df\n",
    "\n",
    "dat = reverseScoring(dat_3, 6, cols=[\"E2\", \"E4\", \"E6\", \"E8\", \"E10\", \"N1\", \"N3\", \"N5\", \"N6\", \"N7\", \"N8\", \"N9\", \"N10\", \"A1\", \"A3\", \"A5\", \"A7\", \"C2\", \"C4\", \"C6\", \"C8\", \"O2\", \"O4\", \"O6\"])\n",
    "#Converts the specified column values to be reverse scored (based on reverse-worded questions) such that 1 becomes 5, 2 becomes 4, 3 stays the same, 4 becomes 2, and 5 becomes 1"
   ]
  },
  {
   "cell_type": "markdown",
   "metadata": {},
   "source": [
    "### Create Factor Score Columns"
   ]
  },
  {
   "cell_type": "code",
   "execution_count": null,
   "metadata": {},
   "outputs": [],
   "source": [
    "dat[\"E_Tot\"] = dat[\"E1\"]+dat[\"E2\"]+dat[\"E3\"]+dat[\"E4\"]+dat[\"E5\"]+dat[\"E6\"]+dat[\"E7\"]+dat[\"E8\"]+dat[\"E9\"]+dat[\"E10\"]\n",
    "dat[\"N_Tot\"] = dat[\"N1\"]+dat[\"N2\"]+dat[\"N3\"]+dat[\"N4\"]+dat[\"N5\"]+dat[\"N6\"]+dat[\"N7\"]+dat[\"N8\"]+dat[\"N9\"]+dat[\"N10\"]\n",
    "dat[\"A_Tot\"] = dat[\"A1\"]+dat[\"A2\"]+dat[\"A3\"]+dat[\"A4\"]+dat[\"A5\"]+dat[\"A6\"]+dat[\"A7\"]+dat[\"A8\"]+dat[\"A9\"]+dat[\"A10\"]\n",
    "dat[\"C_Tot\"] = dat[\"C1\"]+dat[\"C2\"]+dat[\"C3\"]+dat[\"C4\"]+dat[\"C5\"]+dat[\"C6\"]+dat[\"C7\"]+dat[\"C8\"]+dat[\"C9\"]+dat[\"C10\"]\n",
    "dat[\"O_Tot\"] = dat[\"O1\"]+dat[\"O2\"]+dat[\"O3\"]+dat[\"O4\"]+dat[\"O5\"]+dat[\"O6\"]+dat[\"O7\"]+dat[\"O8\"]+dat[\"O9\"]+dat[\"O10\"]\n",
    "\n",
    "#Create new columns containing the total scores for each individual on each of the 5 factors "
   ]
  },
  {
   "cell_type": "markdown",
   "metadata": {},
   "source": [
    "### Create Variables for the Average of Each Factor Total Score"
   ]
  },
  {
   "cell_type": "code",
   "execution_count": null,
   "metadata": {},
   "outputs": [],
   "source": [
    "E_Avg = sum(dat[\"E_Tot\"])/len(dat)\n",
    "A_Avg = sum(dat[\"A_Tot\"])/len(dat)\n",
    "N_Avg = sum(dat[\"N_Tot\"])/len(dat)\n",
    "C_Avg = sum(dat[\"C_Tot\"])/len(dat)\n",
    "O_Avg = sum(dat[\"O_Tot\"])/len(dat)\n",
    "#Total average (mean) for each factor"
   ]
  },
  {
   "cell_type": "markdown",
   "metadata": {},
   "source": [
    "## Wrangle Data"
   ]
  },
  {
   "cell_type": "code",
   "execution_count": null,
   "metadata": {},
   "outputs": [],
   "source": [
    "## Not sure what to put here -- I do not need to restructure the data or merge any new data"
   ]
  },
  {
   "cell_type": "code",
   "execution_count": null,
   "metadata": {},
   "outputs": [],
   "source": [
    "dat_reduced_g = dat[[\"gender\", \"E_Tot\", \"N_Tot\", \"A_Tot\", \"C_Tot\", \"O_Tot\"]]\n",
    "\n",
    "dat_reduced = dat[[\"E_Tot\", \"N_Tot\", \"A_Tot\", \"C_Tot\", \"O_Tot\"]]\n",
    "\n",
    "#Create subsets to get dataframes with only total score columns; with and without gender"
   ]
  },
  {
   "cell_type": "markdown",
   "metadata": {},
   "source": [
    "# Method Chain"
   ]
  },
  {
   "cell_type": "markdown",
   "metadata": {},
   "source": [
    "## Build Method Chains"
   ]
  },
  {
   "cell_type": "markdown",
   "metadata": {},
   "source": [
    "### Load packages/functions"
   ]
  },
  {
   "cell_type": "code",
   "execution_count": null,
   "metadata": {},
   "outputs": [],
   "source": [
    "import pandas as pd\n",
    "import numpy as np\n",
    "import seaborn as sb\n",
    "import matplotlib.pyplot as plt\n",
    "import project_functions2 as pf"
   ]
  },
  {
   "cell_type": "markdown",
   "metadata": {},
   "source": [
    "### Method Chain 1"
   ]
  },
  {
   "cell_type": "code",
   "execution_count": null,
   "metadata": {},
   "outputs": [],
   "source": [
    "dat_2 = (pd.read_csv(\"../data/raw/data.csv\", sep='\\t')\n",
    "    .copy().drop(['engnat','hand','source', 'country', 'race', 'age'], axis=1)\n",
    "    .copy().drop([19064], axis=0))\n",
    "    #Want to add a step to remove rows where values in \"gender\" = 0 and 3 ????\n",
    "dat_2\n",
    "\n",
    "#Method chain to load csv file, drop unwatned columns, and remove a row with missing data"
   ]
  },
  {
   "cell_type": "markdown",
   "metadata": {},
   "source": [
    "### Method Chain 2"
   ]
  },
  {
   "cell_type": "code",
   "execution_count": null,
   "metadata": {},
   "outputs": [],
   "source": [
    "def reverseScoring(df, high, cols):\n",
    "    df[cols] = high - df[cols]\n",
    "    return df\n",
    "\n",
    "dat_2 = reverseScoring(dat_2, 6, cols=[\"E2\", \"E4\", \"E6\", \"E8\", \"E10\", \"N1\", \"N3\", \"N5\", \"N6\", \"N7\", \"N8\", \"N9\", \"N10\", \"A1\", \"A3\", \"A5\", \"A7\", \"C2\", \"C4\", \"C6\", \"C8\", \"O2\", \"O4\", \"O6\"])\n",
    "\n",
    "dat_3 = (pd.DataFrame(dat_2)\n",
    "        .assign(E_Tot=lambda x: dat_2[\"E1\"]+dat_2[\"E2\"]+dat_2[\"E3\"]+dat_2[\"E4\"]+dat_2[\"E5\"]+dat_2[\"E6\"]+dat_2[\"E7\"]+dat_2[\"E8\"]+dat_2[\"E9\"]+dat_2[\"E10\"])\n",
    "        .assign(N_Tot=lambda x: dat_2[\"N1\"]+dat_2[\"N2\"]+dat_2[\"N3\"]+dat_2[\"N4\"]+dat_2[\"N5\"]+dat_2[\"N6\"]+dat_2[\"N7\"]+dat_2[\"N8\"]+dat_2[\"N9\"]+dat_2[\"N10\"])\n",
    "        .assign(A_Tot=lambda x: dat_2[\"A1\"]+dat_2[\"A2\"]+dat_2[\"A3\"]+dat_2[\"A4\"]+dat_2[\"A5\"]+dat_2[\"A6\"]+dat_2[\"A7\"]+dat_2[\"A8\"]+dat_2[\"A9\"]+dat_2[\"A10\"])\n",
    "        .assign(C_Tot=lambda x: dat_2[\"C1\"]+dat_2[\"C2\"]+dat_2[\"C3\"]+dat_2[\"C4\"]+dat_2[\"C5\"]+dat_2[\"C6\"]+dat_2[\"C7\"]+dat_2[\"C8\"]+dat_2[\"C9\"]+dat_2[\"C10\"])\n",
    "        .assign(O_Tot=lambda x: dat_2[\"O1\"]+dat_2[\"O2\"]+dat_2[\"O3\"]+dat_2[\"O4\"]+dat_2[\"O5\"]+dat_2[\"O6\"]+dat_2[\"O7\"]+dat_2[\"O8\"]+dat_2[\"O9\"]+dat_2[\"O10\"]))\n",
    "\n",
    "dat_3\n",
    "\n",
    "#Reverse score items before creating total scores\n",
    "#Method chain to create columns with factor total scores by summing scores on the constituent variables for each factor"
   ]
  },
  {
   "cell_type": "markdown",
   "metadata": {},
   "source": [
    "## Wrap Method Chains in Function"
   ]
  },
  {
   "cell_type": "code",
   "execution_count": null,
   "metadata": {},
   "outputs": [
    {
     "data": {
      "text/html": [
       "<div>\n",
       "<style scoped>\n",
       "    .dataframe tbody tr th:only-of-type {\n",
       "        vertical-align: middle;\n",
       "    }\n",
       "\n",
       "    .dataframe tbody tr th {\n",
       "        vertical-align: top;\n",
       "    }\n",
       "\n",
       "    .dataframe thead th {\n",
       "        text-align: right;\n",
       "    }\n",
       "</style>\n",
       "<table border=\"1\" class=\"dataframe\">\n",
       "  <thead>\n",
       "    <tr style=\"text-align: right;\">\n",
       "      <th></th>\n",
       "      <th>gender</th>\n",
       "      <th>E1</th>\n",
       "      <th>E2</th>\n",
       "      <th>E3</th>\n",
       "      <th>E4</th>\n",
       "      <th>E5</th>\n",
       "      <th>E6</th>\n",
       "      <th>E7</th>\n",
       "      <th>E8</th>\n",
       "      <th>E9</th>\n",
       "      <th>...</th>\n",
       "      <th>O6</th>\n",
       "      <th>O7</th>\n",
       "      <th>O8</th>\n",
       "      <th>O9</th>\n",
       "      <th>O10</th>\n",
       "      <th>E_Tot</th>\n",
       "      <th>N_Tot</th>\n",
       "      <th>A_Tot</th>\n",
       "      <th>C_Tot</th>\n",
       "      <th>O_Tot</th>\n",
       "    </tr>\n",
       "  </thead>\n",
       "  <tbody>\n",
       "    <tr>\n",
       "      <th>0</th>\n",
       "      <td>1</td>\n",
       "      <td>4</td>\n",
       "      <td>4</td>\n",
       "      <td>5</td>\n",
       "      <td>4</td>\n",
       "      <td>5</td>\n",
       "      <td>5</td>\n",
       "      <td>4</td>\n",
       "      <td>3</td>\n",
       "      <td>5</td>\n",
       "      <td>...</td>\n",
       "      <td>5</td>\n",
       "      <td>4</td>\n",
       "      <td>2</td>\n",
       "      <td>5</td>\n",
       "      <td>5</td>\n",
       "      <td>44</td>\n",
       "      <td>49</td>\n",
       "      <td>46</td>\n",
       "      <td>47</td>\n",
       "      <td>43</td>\n",
       "    </tr>\n",
       "    <tr>\n",
       "      <th>1</th>\n",
       "      <td>2</td>\n",
       "      <td>2</td>\n",
       "      <td>4</td>\n",
       "      <td>3</td>\n",
       "      <td>3</td>\n",
       "      <td>3</td>\n",
       "      <td>3</td>\n",
       "      <td>1</td>\n",
       "      <td>1</td>\n",
       "      <td>1</td>\n",
       "      <td>...</td>\n",
       "      <td>3</td>\n",
       "      <td>3</td>\n",
       "      <td>1</td>\n",
       "      <td>3</td>\n",
       "      <td>2</td>\n",
       "      <td>22</td>\n",
       "      <td>29</td>\n",
       "      <td>35</td>\n",
       "      <td>42</td>\n",
       "      <td>26</td>\n",
       "    </tr>\n",
       "    <tr>\n",
       "      <th>2</th>\n",
       "      <td>2</td>\n",
       "      <td>5</td>\n",
       "      <td>5</td>\n",
       "      <td>1</td>\n",
       "      <td>2</td>\n",
       "      <td>5</td>\n",
       "      <td>5</td>\n",
       "      <td>1</td>\n",
       "      <td>1</td>\n",
       "      <td>5</td>\n",
       "      <td>...</td>\n",
       "      <td>5</td>\n",
       "      <td>5</td>\n",
       "      <td>5</td>\n",
       "      <td>5</td>\n",
       "      <td>5</td>\n",
       "      <td>35</td>\n",
       "      <td>14</td>\n",
       "      <td>38</td>\n",
       "      <td>49</td>\n",
       "      <td>45</td>\n",
       "    </tr>\n",
       "    <tr>\n",
       "      <th>3</th>\n",
       "      <td>2</td>\n",
       "      <td>2</td>\n",
       "      <td>1</td>\n",
       "      <td>2</td>\n",
       "      <td>2</td>\n",
       "      <td>3</td>\n",
       "      <td>2</td>\n",
       "      <td>3</td>\n",
       "      <td>2</td>\n",
       "      <td>4</td>\n",
       "      <td>...</td>\n",
       "      <td>4</td>\n",
       "      <td>5</td>\n",
       "      <td>2</td>\n",
       "      <td>5</td>\n",
       "      <td>5</td>\n",
       "      <td>22</td>\n",
       "      <td>17</td>\n",
       "      <td>37</td>\n",
       "      <td>26</td>\n",
       "      <td>41</td>\n",
       "    </tr>\n",
       "    <tr>\n",
       "      <th>4</th>\n",
       "      <td>2</td>\n",
       "      <td>3</td>\n",
       "      <td>5</td>\n",
       "      <td>3</td>\n",
       "      <td>3</td>\n",
       "      <td>3</td>\n",
       "      <td>5</td>\n",
       "      <td>3</td>\n",
       "      <td>5</td>\n",
       "      <td>3</td>\n",
       "      <td>...</td>\n",
       "      <td>5</td>\n",
       "      <td>3</td>\n",
       "      <td>1</td>\n",
       "      <td>5</td>\n",
       "      <td>3</td>\n",
       "      <td>34</td>\n",
       "      <td>30</td>\n",
       "      <td>44</td>\n",
       "      <td>34</td>\n",
       "      <td>34</td>\n",
       "    </tr>\n",
       "    <tr>\n",
       "      <th>...</th>\n",
       "      <td>...</td>\n",
       "      <td>...</td>\n",
       "      <td>...</td>\n",
       "      <td>...</td>\n",
       "      <td>...</td>\n",
       "      <td>...</td>\n",
       "      <td>...</td>\n",
       "      <td>...</td>\n",
       "      <td>...</td>\n",
       "      <td>...</td>\n",
       "      <td>...</td>\n",
       "      <td>...</td>\n",
       "      <td>...</td>\n",
       "      <td>...</td>\n",
       "      <td>...</td>\n",
       "      <td>...</td>\n",
       "      <td>...</td>\n",
       "      <td>...</td>\n",
       "      <td>...</td>\n",
       "      <td>...</td>\n",
       "      <td>...</td>\n",
       "    </tr>\n",
       "    <tr>\n",
       "      <th>19714</th>\n",
       "      <td>2</td>\n",
       "      <td>1</td>\n",
       "      <td>2</td>\n",
       "      <td>3</td>\n",
       "      <td>1</td>\n",
       "      <td>4</td>\n",
       "      <td>3</td>\n",
       "      <td>1</td>\n",
       "      <td>4</td>\n",
       "      <td>1</td>\n",
       "      <td>...</td>\n",
       "      <td>5</td>\n",
       "      <td>4</td>\n",
       "      <td>2</td>\n",
       "      <td>5</td>\n",
       "      <td>3</td>\n",
       "      <td>21</td>\n",
       "      <td>19</td>\n",
       "      <td>42</td>\n",
       "      <td>36</td>\n",
       "      <td>35</td>\n",
       "    </tr>\n",
       "    <tr>\n",
       "      <th>19715</th>\n",
       "      <td>2</td>\n",
       "      <td>2</td>\n",
       "      <td>3</td>\n",
       "      <td>2</td>\n",
       "      <td>3</td>\n",
       "      <td>2</td>\n",
       "      <td>3</td>\n",
       "      <td>2</td>\n",
       "      <td>2</td>\n",
       "      <td>4</td>\n",
       "      <td>...</td>\n",
       "      <td>3</td>\n",
       "      <td>4</td>\n",
       "      <td>2</td>\n",
       "      <td>3</td>\n",
       "      <td>3</td>\n",
       "      <td>25</td>\n",
       "      <td>39</td>\n",
       "      <td>36</td>\n",
       "      <td>32</td>\n",
       "      <td>30</td>\n",
       "    </tr>\n",
       "    <tr>\n",
       "      <th>19716</th>\n",
       "      <td>1</td>\n",
       "      <td>2</td>\n",
       "      <td>1</td>\n",
       "      <td>4</td>\n",
       "      <td>1</td>\n",
       "      <td>5</td>\n",
       "      <td>1</td>\n",
       "      <td>1</td>\n",
       "      <td>4</td>\n",
       "      <td>1</td>\n",
       "      <td>...</td>\n",
       "      <td>5</td>\n",
       "      <td>1</td>\n",
       "      <td>5</td>\n",
       "      <td>5</td>\n",
       "      <td>5</td>\n",
       "      <td>21</td>\n",
       "      <td>10</td>\n",
       "      <td>26</td>\n",
       "      <td>23</td>\n",
       "      <td>37</td>\n",
       "    </tr>\n",
       "    <tr>\n",
       "      <th>19717</th>\n",
       "      <td>1</td>\n",
       "      <td>1</td>\n",
       "      <td>2</td>\n",
       "      <td>2</td>\n",
       "      <td>3</td>\n",
       "      <td>2</td>\n",
       "      <td>2</td>\n",
       "      <td>1</td>\n",
       "      <td>3</td>\n",
       "      <td>4</td>\n",
       "      <td>...</td>\n",
       "      <td>5</td>\n",
       "      <td>5</td>\n",
       "      <td>3</td>\n",
       "      <td>5</td>\n",
       "      <td>5</td>\n",
       "      <td>21</td>\n",
       "      <td>20</td>\n",
       "      <td>38</td>\n",
       "      <td>43</td>\n",
       "      <td>42</td>\n",
       "    </tr>\n",
       "    <tr>\n",
       "      <th>19718</th>\n",
       "      <td>1</td>\n",
       "      <td>2</td>\n",
       "      <td>3</td>\n",
       "      <td>1</td>\n",
       "      <td>1</td>\n",
       "      <td>3</td>\n",
       "      <td>3</td>\n",
       "      <td>3</td>\n",
       "      <td>4</td>\n",
       "      <td>2</td>\n",
       "      <td>...</td>\n",
       "      <td>5</td>\n",
       "      <td>5</td>\n",
       "      <td>5</td>\n",
       "      <td>5</td>\n",
       "      <td>5</td>\n",
       "      <td>24</td>\n",
       "      <td>23</td>\n",
       "      <td>35</td>\n",
       "      <td>36</td>\n",
       "      <td>49</td>\n",
       "    </tr>\n",
       "  </tbody>\n",
       "</table>\n",
       "<p>19718 rows × 56 columns</p>\n",
       "</div>"
      ],
      "text/plain": [
       "       gender  E1  E2  E3  E4  E5  E6  E7  E8  E9  ...  O6  O7  O8  O9  O10  \\\n",
       "0           1   4   4   5   4   5   5   4   3   5  ...   5   4   2   5    5   \n",
       "1           2   2   4   3   3   3   3   1   1   1  ...   3   3   1   3    2   \n",
       "2           2   5   5   1   2   5   5   1   1   5  ...   5   5   5   5    5   \n",
       "3           2   2   1   2   2   3   2   3   2   4  ...   4   5   2   5    5   \n",
       "4           2   3   5   3   3   3   5   3   5   3  ...   5   3   1   5    3   \n",
       "...       ...  ..  ..  ..  ..  ..  ..  ..  ..  ..  ...  ..  ..  ..  ..  ...   \n",
       "19714       2   1   2   3   1   4   3   1   4   1  ...   5   4   2   5    3   \n",
       "19715       2   2   3   2   3   2   3   2   2   4  ...   3   4   2   3    3   \n",
       "19716       1   2   1   4   1   5   1   1   4   1  ...   5   1   5   5    5   \n",
       "19717       1   1   2   2   3   2   2   1   3   4  ...   5   5   3   5    5   \n",
       "19718       1   2   3   1   1   3   3   3   4   2  ...   5   5   5   5    5   \n",
       "\n",
       "       E_Tot  N_Tot  A_Tot  C_Tot  O_Tot  \n",
       "0         44     49     46     47     43  \n",
       "1         22     29     35     42     26  \n",
       "2         35     14     38     49     45  \n",
       "3         22     17     37     26     41  \n",
       "4         34     30     44     34     34  \n",
       "...      ...    ...    ...    ...    ...  \n",
       "19714     21     19     42     36     35  \n",
       "19715     25     39     36     32     30  \n",
       "19716     21     10     26     23     37  \n",
       "19717     21     20     38     43     42  \n",
       "19718     24     23     35     36     49  \n",
       "\n",
       "[19718 rows x 56 columns]"
      ]
     },
     "execution_count": null,
     "metadata": {},
     "output_type": "execute_result"
    }
   ],
   "source": [
    "import project_functions2 as pf\n",
    "dat = pf.load_and_process(\"../data/raw/data.csv\")\n",
    "dat\n",
    "#Reverse scoring function (reverseScoring) and method chains wrapped in a function (load_and_process) in \"project_functions2.py\""
   ]
  },
  {
   "cell_type": "markdown",
   "metadata": {},
   "source": [
    "# Analysis for RQ"
   ]
  },
  {
   "cell_type": "markdown",
   "metadata": {},
   "source": [
    "### Imports"
   ]
  },
  {
   "cell_type": "code",
   "execution_count": null,
   "metadata": {},
   "outputs": [],
   "source": [
    "from scipy.stats import shapiro \n",
    "from scipy.stats import lognorm\n",
    "from scipy.stats import levene\n",
    "import scipy.stats\n",
    "import seaborn as sb\n",
    "import pandas as pd"
   ]
  },
  {
   "cell_type": "markdown",
   "metadata": {},
   "source": [
    "## Create Subsets (total score columns with gender variations)"
   ]
  },
  {
   "cell_type": "code",
   "execution_count": null,
   "metadata": {},
   "outputs": [],
   "source": [
    "#total scores without gender\n",
    "#Note: recall lower N scores correspond to greater neuroticism; higher scores to greater emotional stability\n",
    "dat_sub = dat[[\"E_Tot\", \"N_Tot\", \"A_Tot\", \"C_Tot\", \"O_Tot\"]]"
   ]
  },
  {
   "cell_type": "code",
   "execution_count": null,
   "metadata": {},
   "outputs": [],
   "source": [
    "#total scores with gender = 1 (male) and 2 (female)\n",
    "values = [0,3]\n",
    "dat_sub_g1 = dat[[\"gender\",\"E_Tot\", \"N_Tot\", \"A_Tot\", \"C_Tot\", \"O_Tot\"]]\n",
    "dat_sub_g = dat_sub_g1[dat_sub_g1.gender.isin(values) == False]"
   ]
  },
  {
   "cell_type": "code",
   "execution_count": null,
   "metadata": {},
   "outputs": [
    {
     "data": {
      "text/html": [
       "<div>\n",
       "<style scoped>\n",
       "    .dataframe tbody tr th:only-of-type {\n",
       "        vertical-align: middle;\n",
       "    }\n",
       "\n",
       "    .dataframe tbody tr th {\n",
       "        vertical-align: top;\n",
       "    }\n",
       "\n",
       "    .dataframe thead th {\n",
       "        text-align: right;\n",
       "    }\n",
       "</style>\n",
       "<table border=\"1\" class=\"dataframe\">\n",
       "  <thead>\n",
       "    <tr style=\"text-align: right;\">\n",
       "      <th></th>\n",
       "      <th>gender</th>\n",
       "      <th>E_Tot</th>\n",
       "      <th>N_Tot</th>\n",
       "      <th>A_Tot</th>\n",
       "      <th>C_Tot</th>\n",
       "      <th>O_Tot</th>\n",
       "    </tr>\n",
       "  </thead>\n",
       "  <tbody>\n",
       "    <tr>\n",
       "      <th>1</th>\n",
       "      <td>2</td>\n",
       "      <td>22</td>\n",
       "      <td>29</td>\n",
       "      <td>35</td>\n",
       "      <td>42</td>\n",
       "      <td>26</td>\n",
       "    </tr>\n",
       "    <tr>\n",
       "      <th>2</th>\n",
       "      <td>2</td>\n",
       "      <td>35</td>\n",
       "      <td>14</td>\n",
       "      <td>38</td>\n",
       "      <td>49</td>\n",
       "      <td>45</td>\n",
       "    </tr>\n",
       "    <tr>\n",
       "      <th>3</th>\n",
       "      <td>2</td>\n",
       "      <td>22</td>\n",
       "      <td>17</td>\n",
       "      <td>37</td>\n",
       "      <td>26</td>\n",
       "      <td>41</td>\n",
       "    </tr>\n",
       "    <tr>\n",
       "      <th>4</th>\n",
       "      <td>2</td>\n",
       "      <td>34</td>\n",
       "      <td>30</td>\n",
       "      <td>44</td>\n",
       "      <td>34</td>\n",
       "      <td>34</td>\n",
       "    </tr>\n",
       "    <tr>\n",
       "      <th>5</th>\n",
       "      <td>2</td>\n",
       "      <td>16</td>\n",
       "      <td>36</td>\n",
       "      <td>36</td>\n",
       "      <td>31</td>\n",
       "      <td>33</td>\n",
       "    </tr>\n",
       "    <tr>\n",
       "      <th>...</th>\n",
       "      <td>...</td>\n",
       "      <td>...</td>\n",
       "      <td>...</td>\n",
       "      <td>...</td>\n",
       "      <td>...</td>\n",
       "      <td>...</td>\n",
       "    </tr>\n",
       "    <tr>\n",
       "      <th>19710</th>\n",
       "      <td>2</td>\n",
       "      <td>30</td>\n",
       "      <td>24</td>\n",
       "      <td>40</td>\n",
       "      <td>34</td>\n",
       "      <td>33</td>\n",
       "    </tr>\n",
       "    <tr>\n",
       "      <th>19711</th>\n",
       "      <td>2</td>\n",
       "      <td>21</td>\n",
       "      <td>26</td>\n",
       "      <td>42</td>\n",
       "      <td>36</td>\n",
       "      <td>39</td>\n",
       "    </tr>\n",
       "    <tr>\n",
       "      <th>19712</th>\n",
       "      <td>2</td>\n",
       "      <td>40</td>\n",
       "      <td>43</td>\n",
       "      <td>48</td>\n",
       "      <td>30</td>\n",
       "      <td>39</td>\n",
       "    </tr>\n",
       "    <tr>\n",
       "      <th>19714</th>\n",
       "      <td>2</td>\n",
       "      <td>21</td>\n",
       "      <td>19</td>\n",
       "      <td>42</td>\n",
       "      <td>36</td>\n",
       "      <td>35</td>\n",
       "    </tr>\n",
       "    <tr>\n",
       "      <th>19715</th>\n",
       "      <td>2</td>\n",
       "      <td>25</td>\n",
       "      <td>39</td>\n",
       "      <td>36</td>\n",
       "      <td>32</td>\n",
       "      <td>30</td>\n",
       "    </tr>\n",
       "  </tbody>\n",
       "</table>\n",
       "<p>11984 rows × 6 columns</p>\n",
       "</div>"
      ],
      "text/plain": [
       "       gender  E_Tot  N_Tot  A_Tot  C_Tot  O_Tot\n",
       "1           2     22     29     35     42     26\n",
       "2           2     35     14     38     49     45\n",
       "3           2     22     17     37     26     41\n",
       "4           2     34     30     44     34     34\n",
       "5           2     16     36     36     31     33\n",
       "...       ...    ...    ...    ...    ...    ...\n",
       "19710       2     30     24     40     34     33\n",
       "19711       2     21     26     42     36     39\n",
       "19712       2     40     43     48     30     39\n",
       "19714       2     21     19     42     36     35\n",
       "19715       2     25     39     36     32     30\n",
       "\n",
       "[11984 rows x 6 columns]"
      ]
     },
     "execution_count": null,
     "metadata": {},
     "output_type": "execute_result"
    }
   ],
   "source": [
    "#Female only\n",
    "values = [0, 3, 1]\n",
    "dat_f = dat_sub_g1[dat_sub_g1.gender.isin(values) == False]"
   ]
  },
  {
   "cell_type": "code",
   "execution_count": null,
   "metadata": {},
   "outputs": [],
   "source": [
    "#Male only\n",
    "values = [0, 3, 2]\n",
    "dat_m = dat_sub_g1[dat_sub_g1.gender.isin(values) == False]"
   ]
  },
  {
   "cell_type": "markdown",
   "metadata": {},
   "source": [
    "## RQ 1: Relationship Among Personality Traits\n",
    "H1 = There is a significant positive relationship between Openness and Extraversion; Openness and Agreeableness; Extraversion and Agreeableness; and Conscientousness and Agreeableness. There is a significant negative relationship between Neuroticism and Extraversion, and Neuroticism and Agreeableness.\n"
   ]
  },
  {
   "cell_type": "code",
   "execution_count": null,
   "metadata": {},
   "outputs": [
    {
     "data": {
      "text/plain": [
       "<seaborn.axisgrid.JointGrid>"
      ]
     },
     "execution_count": null,
     "metadata": {},
     "output_type": "execute_result"
    },
    {
     "data": {
      "image/png": "[encoded data removed]",
      "text/plain": [
       "<Figure size 432x432 with 3 Axes>"
      ]
     },
     "metadata": {
      "needs_background": "light"
     },
     "output_type": "display_data"
    }
   ],
   "source": [
    "sb.jointplot(data = dat_sub_g, x = \"O_Tot\", y = \"E_Tot\", kind = \"reg\", scatter = False)\n",
    "\n",
    "#Regression plot with variable distributions; shows positive correlation between O and E"
   ]
  },
  {
   "cell_type": "code",
   "execution_count": null,
   "metadata": {},
   "outputs": [
    {
     "data": {
      "text/plain": [
       "<seaborn.axisgrid.JointGrid>"
      ]
     },
     "execution_count": null,
     "metadata": {},
     "output_type": "execute_result"
    },
    {
     "data": {
      "image/png": "[encoded data removed]",
      "text/plain": [
       "<Figure size 432x432 with 3 Axes>"
      ]
     },
     "metadata": {
      "needs_background": "light"
     },
     "output_type": "display_data"
    }
   ],
   "source": [
    "sb.jointplot(data = dat_sub_g, x = \"O_Tot\", y = \"A_Tot\", kind = \"reg\", scatter = False)\n",
    "\n",
    "#Regression plot with variable distributions; shows positive correlation between O and A"
   ]
  },
  {
   "cell_type": "code",
   "execution_count": null,
   "metadata": {},
   "outputs": [
    {
     "data": {
      "text/plain": [
       "<seaborn.axisgrid.JointGrid>"
      ]
     },
     "execution_count": null,
     "metadata": {},
     "output_type": "execute_result"
    },
    {
     "data": {
      "image/png": "[encoded data removed]",
      "text/plain": [
       "<Figure size 432x432 with 3 Axes>"
      ]
     },
     "metadata": {
      "needs_background": "light"
     },
     "output_type": "display_data"
    }
   ],
   "source": [
    "sb.jointplot(data = dat_sub_g, x = \"E_Tot\", y = \"A_Tot\", kind = \"reg\", scatter = False)\n",
    "\n",
    "#Regression plot with variable distributions; shows positive correlation between E and A"
   ]
  },
  {
   "cell_type": "code",
   "execution_count": null,
   "metadata": {},
   "outputs": [
    {
     "data": {
      "text/plain": [
       "<seaborn.axisgrid.JointGrid>"
      ]
     },
     "execution_count": null,
     "metadata": {},
     "output_type": "execute_result"
    },
    {
     "data": {
      "image/png": "[encoded data removed]",
      "text/plain": [
       "<Figure size 432x432 with 3 Axes>"
      ]
     },
     "metadata": {
      "needs_background": "light"
     },
     "output_type": "display_data"
    }
   ],
   "source": [
    "sb.jointplot(data = dat_sub_g, x = \"C_Tot\", y = \"A_Tot\", kind = \"reg\", scatter = False)\n",
    "\n",
    "#Regression plot with variable distributions; shows positive correlation between C and A"
   ]
  },
  {
   "cell_type": "code",
   "execution_count": null,
   "metadata": {},
   "outputs": [
    {
     "data": {
      "text/plain": [
       "<seaborn.axisgrid.JointGrid>"
      ]
     },
     "execution_count": null,
     "metadata": {},
     "output_type": "execute_result"
    },
    {
     "data": {
      "image/png": "[encoded data removed]",
      "text/plain": [
       "<Figure size 432x432 with 3 Axes>"
      ]
     },
     "metadata": {
      "needs_background": "light"
     },
     "output_type": "display_data"
    }
   ],
   "source": [
    "sb.jointplot(data = dat_sub_g, x = \"N_Tot\", y = \"E_Tot\", kind = \"reg\", scatter = False)\n",
    "\n",
    "#Regression plot with variable distributions; shows positive correlation between C and A"
   ]
  },
  {
   "cell_type": "markdown",
   "metadata": {},
   "source": [
    "## RQ 2: Relationship Between Gender and Personality Traits\n",
    "H2: Based on extant research, on average, women will show higher scores than men on Extraversion, and Agreeableness, lower scores on Neuroticism, and there are will be no significant gender differences for Conscientiousness or Openness."
   ]
  },
  {
   "cell_type": "markdown",
   "metadata": {},
   "source": [
    "### Descriptive Statistics"
   ]
  },
  {
   "cell_type": "code",
   "execution_count": null,
   "metadata": {},
   "outputs": [
    {
     "data": {
      "text/html": [
       "<div>\n",
       "<style scoped>\n",
       "    .dataframe tbody tr th:only-of-type {\n",
       "        vertical-align: middle;\n",
       "    }\n",
       "\n",
       "    .dataframe tbody tr th {\n",
       "        vertical-align: top;\n",
       "    }\n",
       "\n",
       "    .dataframe thead th {\n",
       "        text-align: right;\n",
       "    }\n",
       "</style>\n",
       "<table border=\"1\" class=\"dataframe\">\n",
       "  <thead>\n",
       "    <tr style=\"text-align: right;\">\n",
       "      <th></th>\n",
       "      <th>gender</th>\n",
       "      <th>E_Tot</th>\n",
       "      <th>N_Tot</th>\n",
       "      <th>A_Tot</th>\n",
       "      <th>C_Tot</th>\n",
       "      <th>O_Tot</th>\n",
       "    </tr>\n",
       "  </thead>\n",
       "  <tbody>\n",
       "    <tr>\n",
       "      <th>count</th>\n",
       "      <td>7608.000000</td>\n",
       "      <td>7608.000000</td>\n",
       "      <td>7608.000000</td>\n",
       "      <td>7608.000000</td>\n",
       "      <td>7608.000000</td>\n",
       "      <td>7608.000000</td>\n",
       "    </tr>\n",
       "    <tr>\n",
       "      <th>mean</th>\n",
       "      <td>1.000000</td>\n",
       "      <td>29.542587</td>\n",
       "      <td>30.851341</td>\n",
       "      <td>36.549422</td>\n",
       "      <td>33.224632</td>\n",
       "      <td>39.866062</td>\n",
       "    </tr>\n",
       "    <tr>\n",
       "      <th>std</th>\n",
       "      <td>0.000000</td>\n",
       "      <td>9.164005</td>\n",
       "      <td>8.610305</td>\n",
       "      <td>7.318780</td>\n",
       "      <td>7.170913</td>\n",
       "      <td>6.076097</td>\n",
       "    </tr>\n",
       "    <tr>\n",
       "      <th>min</th>\n",
       "      <td>1.000000</td>\n",
       "      <td>10.000000</td>\n",
       "      <td>10.000000</td>\n",
       "      <td>10.000000</td>\n",
       "      <td>10.000000</td>\n",
       "      <td>12.000000</td>\n",
       "    </tr>\n",
       "    <tr>\n",
       "      <th>25%</th>\n",
       "      <td>1.000000</td>\n",
       "      <td>23.000000</td>\n",
       "      <td>25.000000</td>\n",
       "      <td>32.000000</td>\n",
       "      <td>28.000000</td>\n",
       "      <td>36.000000</td>\n",
       "    </tr>\n",
       "    <tr>\n",
       "      <th>50%</th>\n",
       "      <td>1.000000</td>\n",
       "      <td>29.000000</td>\n",
       "      <td>31.000000</td>\n",
       "      <td>37.000000</td>\n",
       "      <td>33.000000</td>\n",
       "      <td>40.000000</td>\n",
       "    </tr>\n",
       "    <tr>\n",
       "      <th>75%</th>\n",
       "      <td>1.000000</td>\n",
       "      <td>36.000000</td>\n",
       "      <td>37.000000</td>\n",
       "      <td>42.000000</td>\n",
       "      <td>38.000000</td>\n",
       "      <td>44.000000</td>\n",
       "    </tr>\n",
       "    <tr>\n",
       "      <th>max</th>\n",
       "      <td>1.000000</td>\n",
       "      <td>50.000000</td>\n",
       "      <td>50.000000</td>\n",
       "      <td>50.000000</td>\n",
       "      <td>50.000000</td>\n",
       "      <td>50.000000</td>\n",
       "    </tr>\n",
       "  </tbody>\n",
       "</table>\n",
       "</div>"
      ],
      "text/plain": [
       "            gender        E_Tot        N_Tot        A_Tot        C_Tot  \\\n",
       "count  7608.000000  7608.000000  7608.000000  7608.000000  7608.000000   \n",
       "mean      1.000000    29.542587    30.851341    36.549422    33.224632   \n",
       "std       0.000000     9.164005     8.610305     7.318780     7.170913   \n",
       "min       1.000000    10.000000    10.000000    10.000000    10.000000   \n",
       "25%       1.000000    23.000000    25.000000    32.000000    28.000000   \n",
       "50%       1.000000    29.000000    31.000000    37.000000    33.000000   \n",
       "75%       1.000000    36.000000    37.000000    42.000000    38.000000   \n",
       "max       1.000000    50.000000    50.000000    50.000000    50.000000   \n",
       "\n",
       "             O_Tot  \n",
       "count  7608.000000  \n",
       "mean     39.866062  \n",
       "std       6.076097  \n",
       "min      12.000000  \n",
       "25%      36.000000  \n",
       "50%      40.000000  \n",
       "75%      44.000000  \n",
       "max      50.000000  "
      ]
     },
     "execution_count": null,
     "metadata": {},
     "output_type": "execute_result"
    }
   ],
   "source": [
    "dat_m.describe().apply(lambda s: s.apply(lambda x: format(x, 'f')))\n",
    "#For males"
   ]
  },
  {
   "cell_type": "code",
   "execution_count": null,
   "metadata": {},
   "outputs": [],
   "source": [
    "dat_f.describe().apply(lambda s: s.apply(lambda x: format(x, 'f')))\n",
    "#For females"
   ]
  },
  {
   "cell_type": "code",
   "execution_count": null,
   "metadata": {},
   "outputs": [
    {
     "data": {
      "text/html": [
       "<div>\n",
       "<style scoped>\n",
       "    .dataframe tbody tr th:only-of-type {\n",
       "        vertical-align: middle;\n",
       "    }\n",
       "\n",
       "    .dataframe tbody tr th {\n",
       "        vertical-align: top;\n",
       "    }\n",
       "\n",
       "    .dataframe thead th {\n",
       "        text-align: right;\n",
       "    }\n",
       "</style>\n",
       "<table border=\"1\" class=\"dataframe\">\n",
       "  <thead>\n",
       "    <tr style=\"text-align: right;\">\n",
       "      <th></th>\n",
       "      <th>E_Tot</th>\n",
       "      <th>N_Tot</th>\n",
       "      <th>A_Tot</th>\n",
       "      <th>C_Tot</th>\n",
       "      <th>O_Tot</th>\n",
       "    </tr>\n",
       "    <tr>\n",
       "      <th>gender</th>\n",
       "      <th></th>\n",
       "      <th></th>\n",
       "      <th></th>\n",
       "      <th></th>\n",
       "      <th></th>\n",
       "    </tr>\n",
       "  </thead>\n",
       "  <tbody>\n",
       "    <tr>\n",
       "      <th>1</th>\n",
       "      <td>29.542587</td>\n",
       "      <td>30.851341</td>\n",
       "      <td>36.549422</td>\n",
       "      <td>33.224632</td>\n",
       "      <td>39.866062</td>\n",
       "    </tr>\n",
       "    <tr>\n",
       "      <th>2</th>\n",
       "      <td>30.525117</td>\n",
       "      <td>27.891439</td>\n",
       "      <td>39.676318</td>\n",
       "      <td>33.649449</td>\n",
       "      <td>38.569259</td>\n",
       "    </tr>\n",
       "  </tbody>\n",
       "</table>\n",
       "</div>"
      ],
      "text/plain": [
       "            E_Tot      N_Tot      A_Tot      C_Tot      O_Tot\n",
       "gender                                                       \n",
       "1       29.542587  30.851341  36.549422  33.224632  39.866062\n",
       "2       30.525117  27.891439  39.676318  33.649449  38.569259"
      ]
     },
     "execution_count": null,
     "metadata": {},
     "output_type": "execute_result"
    }
   ],
   "source": [
    "dat_sub_g.groupby('gender').mean()\n",
    "\n",
    "#Male higher than female - N and O\n",
    "#Female higher than male - E, A, C"
   ]
  },
  {
   "cell_type": "code",
   "execution_count": null,
   "metadata": {},
   "outputs": [],
   "source": [
    "dat_sub_g.groupby('gender').median()\n",
    "\n",
    "#Male higher than female - N and O\n",
    "#Female higher than male - E, A, C"
   ]
  },
  {
   "cell_type": "code",
   "execution_count": null,
   "metadata": {},
   "outputs": [
    {
     "name": "stdout",
     "output_type": "stream",
     "text": [
      "          count       mean       std   min   25%   50%   75%   max\n",
      "gender                                                            \n",
      "1        7608.0  29.542587  9.164005  10.0  23.0  29.0  36.0  50.0\n",
      "2       11984.0  30.525117  9.227630  10.0  24.0  31.0  38.0  50.0\n",
      "          count       mean       std   min   25%   50%   75%   max\n",
      "gender                                                            \n",
      "1        7608.0  30.851341  8.610305  10.0  25.0  31.0  37.0  50.0\n",
      "2       11984.0  27.891439  8.427500  10.0  22.0  28.0  34.0  50.0\n",
      "          count       mean       std   min   25%   50%   75%   max\n",
      "gender                                                            \n",
      "1        7608.0  36.549422  7.318780  10.0  32.0  37.0  42.0  50.0\n",
      "2       11984.0  39.676318  6.740164  10.0  36.0  41.0  45.0  50.0\n",
      "          count       mean       std   min   25%   50%   75%   max\n",
      "gender                                                            \n",
      "1        7608.0  33.224632  7.170913  10.0  28.0  33.0  38.0  50.0\n",
      "2       11984.0  33.649449  7.386270  10.0  28.0  34.0  39.0  50.0\n",
      "          count       mean       std   min   25%   50%   75%   max\n",
      "gender                                                            \n",
      "1        7608.0  39.866062  6.076097  12.0  36.0  40.0  44.0  50.0\n",
      "2       11984.0  38.569259  6.314642  10.0  34.0  39.0  43.0  50.0\n"
     ]
    }
   ],
   "source": [
    "print(dat_sub_g.groupby(\"gender\")['E_Tot'].describe())\n",
    "print(dat_sub_g.groupby(\"gender\")['N_Tot'].describe())\n",
    "print(dat_sub_g.groupby(\"gender\")['A_Tot'].describe())\n",
    "print(dat_sub_g.groupby(\"gender\")['C_Tot'].describe())\n",
    "print(dat_sub_g.groupby(\"gender\")['O_Tot'].describe())\n",
    "\n",
    "#Produces descriptive stats for each factor, separated by gender\n",
    "#not sure if this is useful since the previous code (above) gives mean/median by gender and I don't need all the extra stats"
   ]
  },
  {
   "cell_type": "code",
   "execution_count": null,
   "metadata": {},
   "outputs": [],
   "source": [
    "print(shapiro(dat_sub[\"E_Tot\"]))\n",
    "print(shapiro(dat_sub[\"N_Tot\"]))\n",
    "print(shapiro(dat_sub[\"A_Tot\"]))\n",
    "print(shapiro(dat_sub[\"C_Tot\"]))\n",
    "print(shapiro(dat_sub[\"O_Tot\"]))\n",
    "\n",
    "#none are normally distributed (but sample size is very large)"
   ]
  },
  {
   "cell_type": "code",
   "execution_count": null,
   "metadata": {},
   "outputs": [],
   "source": [
    "print(levene(dat_m[\"E_Tot\"], dat_f[\"E_Tot\"]))\n",
    "print(levene(dat_m[\"N_Tot\"], dat_f[\"N_Tot\"]))\n",
    "print(levene(dat_m[\"A_Tot\"], dat_f[\"A_Tot\"]))\n",
    "print(levene(dat_m[\"C_Tot\"], dat_f[\"C_Tot\"]))\n",
    "print(levene(dat_m[\"O_Tot\"], dat_f[\"O_Tot\"]))\n",
    "\n",
    "#N, A, C, and O are sig. (i.e., unequal variance across samples)\n",
    "#E is NS (i.e., equal variance across samples)"
   ]
  },
  {
   "cell_type": "code",
   "execution_count": null,
   "metadata": {},
   "outputs": [],
   "source": [
    "ttest_e = print(scipy.stats.ttest_ind(dat_m[\"E_Tot\"], dat_f[\"E_Tot\"], equal_var=True))\n",
    "ttest_n = print(scipy.stats.ttest_ind(dat_m[\"N_Tot\"], dat_f[\"N_Tot\"], equal_var=False))\n",
    "ttest_a = print(scipy.stats.ttest_ind(dat_m[\"A_Tot\"], dat_f[\"A_Tot\"], equal_var=False))\n",
    "ttest_c = print(scipy.stats.ttest_ind(dat_m[\"C_Tot\"], dat_f[\"C_Tot\"], equal_var=False))\n",
    "ttest_o = print(scipy.stats.ttest_ind(dat_m[\"O_Tot\"], dat_f[\"O_Tot\"], equal_var=False))\n",
    "\n",
    "#Can use t-test based on Central Limit Theorem (data with sufficient sample size to overcome non-normal distribution)\n",
    "#All values sig. (p < .05) --> there is significant difference in means for all factors\n",
    "    #I feel like this is wrong, there doesn't seem to be that large of a difference between means for some factors (e.g., C)\n",
    "    scipy.stats.ttest_ind"
   ]
  },
  {
   "cell_type": "markdown",
   "metadata": {},
   "source": [
    "### Visualizations"
   ]
  },
  {
   "cell_type": "code",
   "execution_count": null,
   "metadata": {},
   "outputs": [
    {
     "data": {
      "text/plain": [
       "array([[<AxesSubplot:title={'center':'O_Tot'}>]], dtype=object)"
      ]
     },
     "execution_count": null,
     "metadata": {},
     "output_type": "execute_result"
    },
    {
     "data": {
      "image/png": "[encoded data removed]",
      "text/plain": [
       "<Figure size 432x288 with 1 Axes>"
      ]
     },
     "metadata": {
      "needs_background": "light"
     },
     "output_type": "display_data"
    },
    {
     "data": {
      "image/png": "[encoded data removed]",
      "text/plain": [
       "<Figure size 432x288 with 1 Axes>"
      ]
     },
     "metadata": {
      "needs_background": "light"
     },
     "output_type": "display_data"
    },
    {
     "data": {
      "image/png": "[encoded data removed]",
      "text/plain": [
       "<Figure size 432x288 with 1 Axes>"
      ]
     },
     "metadata": {
      "needs_background": "light"
     },
     "output_type": "display_data"
    },
    {
     "data": {
      "image/png": "[encoded data removed]",
      "text/plain": [
       "<Figure size 432x288 with 1 Axes>"
      ]
     },
     "metadata": {
      "needs_background": "light"
     },
     "output_type": "display_data"
    },
    {
     "data": {
      "image/png": "[encoded data removed]",
      "text/plain": [
       "<Figure size 432x288 with 1 Axes>"
      ]
     },
     "metadata": {
      "needs_background": "light"
     },
     "output_type": "display_data"
    }
   ],
   "source": [
    "dat_sub_g.hist(column= \"E_Tot\", bins =20)\n",
    "dat_sub_g.hist(column= \"N_Tot\", bins =20)\n",
    "dat_sub_g.hist(column= \"A_Tot\", bins =20)\n",
    "dat_sub_g.hist(column= \"C_Tot\", bins =20)\n",
    "dat_sub_g.hist(column= \"O_Tot\", bins =20)\n",
    "\n",
    "#Shows distribution of each factor for males and females (combined)"
   ]
  },
  {
   "cell_type": "code",
   "execution_count": null,
   "metadata": {},
   "outputs": [
    {
     "data": {
      "text/plain": [
       "array([<AxesSubplot:title={'center':'1'}>,\n",
       "       <AxesSubplot:title={'center':'2'}>], dtype=object)"
      ]
     },
     "execution_count": null,
     "metadata": {},
     "output_type": "execute_result"
    },
    {
     "data": {
      "image/png": "[encoded data removed]",
      "text/plain": [
       "<Figure size 432x288 with 2 Axes>"
      ]
     },
     "metadata": {
      "needs_background": "light"
     },
     "output_type": "display_data"
    },
    {
     "data": {
      "image/png": "[encoded data removed]",
      "text/plain": [
       "<Figure size 432x288 with 2 Axes>"
      ]
     },
     "metadata": {
      "needs_background": "light"
     },
     "output_type": "display_data"
    },
    {
     "data": {
      "image/png": "[encoded data removed]",
      "text/plain": [
       "<Figure size 432x288 with 2 Axes>"
      ]
     },
     "metadata": {
      "needs_background": "light"
     },
     "output_type": "display_data"
    },
    {
     "data": {
      "image/png": "[encoded data removed]",
      "text/plain": [
       "<Figure size 432x288 with 2 Axes>"
      ]
     },
     "metadata": {
      "needs_background": "light"
     },
     "output_type": "display_data"
    },
    {
     "data": {
      "image/png": "[encoded data removed]",
      "text/plain": [
       "<Figure size 432x288 with 2 Axes>"
      ]
     },
     "metadata": {
      "needs_background": "light"
     },
     "output_type": "display_data"
    }
   ],
   "source": [
    "dat_sub_g.hist(column= \"E_Tot\", by = \"gender\", bins=20)\n",
    "dat_sub_g.hist(column= \"N_Tot\", by = \"gender\", bins=20)\n",
    "dat_sub_g.hist(column= \"A_Tot\", by = \"gender\", bins=20)\n",
    "dat_sub_g.hist(column= \"C_Tot\", by = \"gender\", bins=20)\n",
    "dat_sub_g.hist(column= \"O_Tot\", by = \"gender\", bins=20)\n",
    "\n",
    "#Shows distribution of each factor for males and females (separately)"
   ]
  },
  {
   "cell_type": "code",
   "execution_count": null,
   "metadata": {},
   "outputs": [
    {
     "data": {
      "text/plain": [
       "<AxesSubplot:xlabel='gender'>"
      ]
     },
     "execution_count": null,
     "metadata": {},
     "output_type": "execute_result"
    },
    {
     "data": {
      "image/png": "[encoded data removed]",
      "text/plain": [
       "<Figure size 432x288 with 1 Axes>"
      ]
     },
     "metadata": {
      "needs_background": "light"
     },
     "output_type": "display_data"
    }
   ],
   "source": [
    "dat_sub_g.groupby(\"gender\").mean().plot.bar(grid=True, width =.5, alpha = .90)\n",
    "\n",
    "#Shows mean score on each factor separated by gender \n",
    "#Males higher on O and N\n",
    "#Females higher on E, A, C\n",
    "#Note: same pattern except males higher on N than E; females higher on E than N"
   ]
  },
  {
   "cell_type": "code",
   "execution_count": null,
   "metadata": {},
   "outputs": [
    {
     "data": {
      "text/plain": [
       "<AxesSubplot:xlabel='gender', ylabel='E_Tot'>"
      ]
     },
     "execution_count": null,
     "metadata": {},
     "output_type": "execute_result"
    },
    {
     "data": {
      "image/png": "[encoded data removed]",
      "text/plain": [
       "<Figure size 432x288 with 1 Axes>"
      ]
     },
     "metadata": {
      "needs_background": "light"
     },
     "output_type": "display_data"
    }
   ],
   "source": [
    "sb.boxplot(x = \"gender\", y = \"E_Tot\", data = dat_sub_g)\n",
    "#Boxplot showing scores on factor E separated by gender and shows the lower, middle, and upper quartile (i.e., 25th, 50th, and 75th percentile, respectively) as well as any outliers (if detected)\n",
    "#Females higher than males"
   ]
  },
  {
   "cell_type": "code",
   "execution_count": null,
   "metadata": {},
   "outputs": [
    {
     "data": {
      "text/plain": [
       "<AxesSubplot:xlabel='gender', ylabel='N_Tot'>"
      ]
     },
     "execution_count": null,
     "metadata": {},
     "output_type": "execute_result"
    },
    {
     "data": {
      "image/png": "[encoded data removed]",
      "text/plain": [
       "<Figure size 432x288 with 1 Axes>"
      ]
     },
     "metadata": {
      "needs_background": "light"
     },
     "output_type": "display_data"
    }
   ],
   "source": [
    "sb.boxplot(x = \"gender\", y = \"N_Tot\", data = dat_sub_g)\n",
    "#Boxplot showing scores on factor N separated by gender and shows the lower, middle, and upper quartile (i.e., 25th, 50th, and 75th percentile, respectively) as well as any outliers (if detected)\n",
    "#Males higher than females"
   ]
  },
  {
   "cell_type": "code",
   "execution_count": null,
   "metadata": {},
   "outputs": [
    {
     "data": {
      "text/plain": [
       "<AxesSubplot:xlabel='gender', ylabel='A_Tot'>"
      ]
     },
     "execution_count": null,
     "metadata": {},
     "output_type": "execute_result"
    },
    {
     "data": {
      "image/png": "[encoded data removed]",
      "text/plain": [
       "<Figure size 432x288 with 1 Axes>"
      ]
     },
     "metadata": {
      "needs_background": "light"
     },
     "output_type": "display_data"
    }
   ],
   "source": [
    "sb.boxplot(x = \"gender\", y = \"A_Tot\", data = dat_sub_g)\n",
    "#Boxplot showing scores on factor A separated by gender and shows the lower, middle, and upper quartile (i.e., 25th, 50th, and 75th percentile, respectively) as well as any outliers (if detected)\n",
    "#Females higher than males; shows outliers below bottom whisker (less than -1.5 x the interquartile range), negatively skewed data"
   ]
  },
  {
   "cell_type": "code",
   "execution_count": null,
   "metadata": {},
   "outputs": [
    {
     "data": {
      "text/plain": [
       "<AxesSubplot:xlabel='gender', ylabel='C_Tot'>"
      ]
     },
     "execution_count": null,
     "metadata": {},
     "output_type": "execute_result"
    },
    {
     "data": {
      "image/png": "[encoded data removed]",
      "text/plain": [
       "<Figure size 432x288 with 1 Axes>"
      ]
     },
     "metadata": {
      "needs_background": "light"
     },
     "output_type": "display_data"
    }
   ],
   "source": [
    "sb.boxplot(x = \"gender\", y = \"C_Tot\", data = dat_sub_g)\n",
    "#Boxplot showing scores on factor C separated by gender and shows the lower, middle, and upper quartile (i.e., 25th, 50th, and 75th percentile, respectively) as well as any outliers (if detected)\n",
    "#Females higher than males (although very close); few outliers on bottom, slight negatively skewed data"
   ]
  },
  {
   "cell_type": "code",
   "execution_count": null,
   "metadata": {},
   "outputs": [
    {
     "data": {
      "text/plain": [
       "<AxesSubplot:xlabel='gender', ylabel='O_Tot'>"
      ]
     },
     "execution_count": null,
     "metadata": {},
     "output_type": "execute_result"
    },
    {
     "data": {
      "image/png": "[encoded data removed]",
      "text/plain": [
       "<Figure size 432x288 with 1 Axes>"
      ]
     },
     "metadata": {
      "needs_background": "light"
     },
     "output_type": "display_data"
    }
   ],
   "source": [
    "sb.boxplot(x = \"gender\", y = \"O_Tot\", data = dat_sub_g)\n",
    "#Boxplot showing scores on factor O separated by gender and shows the lower, middle, and upper quartile (i.e., 25th, 50th, and 75th percentile, respectively) as well as any outliers (if detected)    \n",
    "#Males higher than females; shows outliers below bottom whisker (less than -1.5 x the interquartile range), negatively skewed data "
   ]
  },
  {
   "cell_type": "code",
   "execution_count": null,
   "metadata": {},
   "outputs": [
    {
     "data": {
      "text/plain": [
       "<AxesSubplot:xlabel='gender', ylabel='E_Tot'>"
      ]
     },
     "execution_count": null,
     "metadata": {},
     "output_type": "execute_result"
    },
    {
     "data": {
      "image/png": "[encoded data removed]",
      "text/plain": [
       "<Figure size 432x288 with 1 Axes>"
      ]
     },
     "metadata": {
      "needs_background": "light"
     },
     "output_type": "display_data"
    }
   ],
   "source": [
    "sb.violinplot(data = dat_sub_g, x = \"gender\", y = \"E_Tot\")\n",
    "#Violin plot showing density of scores on factor E, separated by gender -- width corresponds frequency (i.e., widest part corresponds to the most frequent score)"
   ]
  },
  {
   "cell_type": "code",
   "execution_count": null,
   "metadata": {},
   "outputs": [],
   "source": [
    "sb.violinplot(data = dat_sub_g, x = \"gender\", y = \"N_Tot\")\n",
    "#Violin plot showing density of scores on factor N, separated by gender -- width corresponds frequency (i.e., widest part corresponds to the most frequent score)"
   ]
  },
  {
   "cell_type": "code",
   "execution_count": null,
   "metadata": {},
   "outputs": [],
   "source": [
    "sb.violinplot(data = dat_sub_g, x = \"gender\", y = \"A_Tot\")\n",
    "#Violin plot showing density of scores on factor A, separated by gender -- width corresponds frequency (i.e., widest part corresponds to the most frequent score)"
   ]
  },
  {
   "cell_type": "code",
   "execution_count": null,
   "metadata": {},
   "outputs": [],
   "source": [
    "sb.violinplot(data = dat_sub_g, x = \"gender\", y = \"C_Tot\")\n",
    "#Violin plot showing density of scores on factor C, separated by gender -- width corresponds frequency (i.e., widest part corresponds to the most frequent score)"
   ]
  },
  {
   "cell_type": "code",
   "execution_count": null,
   "metadata": {},
   "outputs": [],
   "source": [
    "sb.violinplot(data = dat_sub_g, x = \"gender\", y = \"O_Tot\")\n",
    "#Violin plot showing density of scores on factor O, separated by gender -- width corresponds frequency (i.e., widest part corresponds to the most frequent score)"
   ]
  },
  {
   "cell_type": "code",
   "execution_count": null,
   "metadata": {},
   "outputs": [],
   "source": [
    "sb.stripplot(x = \"gender\", y = \"E_Tot\", data = dat_sub_g, jitter = True)"
   ]
  },
  {
   "cell_type": "code",
   "execution_count": null,
   "metadata": {},
   "outputs": [],
   "source": [
    "grid = sb.PairGrid(dat_sub_g, hue = \"gender\")\n",
    "grid.map_diag(plt.hist, alpha = .3)\n",
    "grid.map_upper(plt.scatter, alpha = .2)\n",
    "grid.map_lower(sb.kdeplot)\n",
    "#Not useful, comparing factors with each other instead of gender"
   ]
  },
  {
   "cell_type": "code",
   "execution_count": null,
   "metadata": {},
   "outputs": [],
   "source": [
    "sb.lmplot(data = dat_sub_g, x = \"E_Tot\", y = \"N_Tot\", hue = \"gender\", palette = \"Set2\", scatter = False)\n",
    "print(sb.lmplot(data = dat_sub_g, x = \"E_Tot\", y = \"N_Tot\", scatter = False))"
   ]
  },
  {
   "cell_type": "code",
   "execution_count": null,
   "metadata": {},
   "outputs": [],
   "source": [
    "sb.lmplot(data = dat_sub_g, x = \"E_Tot\", y = \"A_Tot\", hue = \"gender\", palette = \"Set2\", scatter = False)\n",
    "print(sb.lmplot(data = dat_sub_g, x = \"E_Tot\", y = \"A_Tot\", scatter = False))"
   ]
  },
  {
   "cell_type": "code",
   "execution_count": null,
   "metadata": {},
   "outputs": [],
   "source": [
    "sb.lmplot(data = dat_sub_g, x = \"E_Tot\", y = \"C_Tot\", hue = \"gender\", palette = \"Set2\", scatter = False)\n",
    "print(sb.lmplot(data = dat_sub_g, x = \"E_Tot\", y = \"C_Tot\", scatter = False))"
   ]
  },
  {
   "cell_type": "code",
   "execution_count": null,
   "metadata": {},
   "outputs": [],
   "source": [
    "sb.lmplot(data = dat_sub_g, x = \"E_Tot\", y = \"O_Tot\", hue = \"gender\", palette = \"Set2\", scatter = False)\n",
    "print(sb.lmplot(data = dat_sub_g, x = \"E_Tot\", y = \"O_Tot\", scatter = False))"
   ]
  },
  {
   "cell_type": "code",
   "execution_count": null,
   "metadata": {},
   "outputs": [],
   "source": [
    "print(sb.lmplot(data = dat_sub_g, x = \"N_Tot\", y = \"A_Tot\", hue = \"gender\", palette = \"Set2\", scatter = False))\n",
    "print(sb.lmplot(data = dat_sub_g, x = \"N_Tot\", y = \"A_Tot\", scatter = False))"
   ]
  },
  {
   "cell_type": "code",
   "execution_count": null,
   "metadata": {},
   "outputs": [],
   "source": [
    "print(sb.lmplot(data = dat_sub_g, x = \"N_Tot\", y = \"C_Tot\", hue = \"gender\", palette = \"Set2\", scatter = False))\n",
    "print(sb.lmplot(data = dat_sub_g, x = \"N_Tot\", y = \"C_Tot\", scatter = False))"
   ]
  },
  {
   "cell_type": "code",
   "execution_count": null,
   "metadata": {},
   "outputs": [],
   "source": [
    "print(sb.lmplot(data = dat_sub_g, x = \"N_Tot\", y = \"O_Tot\", hue = \"gender\", palette = \"Set2\", scatter = False))\n",
    "print(sb.lmplot(data = dat_sub_g, x = \"N_Tot\", y = \"O_Tot\", scatter = False))"
   ]
  },
  {
   "cell_type": "code",
   "execution_count": null,
   "metadata": {},
   "outputs": [],
   "source": [
    "print(sb.lmplot(data = dat_sub_g, x = \"A_Tot\", y = \"C_Tot\", hue = \"gender\", palette = \"Set2\", scatter = False))\n",
    "print(sb.lmplot(data = dat_sub_g, x = \"A_Tot\", y = \"C_Tot\", scatter = False))"
   ]
  },
  {
   "cell_type": "code",
   "execution_count": null,
   "metadata": {},
   "outputs": [],
   "source": [
    "print(sb.lmplot(data = dat_sub_g, x = \"A_Tot\", y = \"O_Tot\", hue = \"gender\", palette = \"Set2\", scatter = False))\n",
    "print(sb.lmplot(data = dat_sub_g, x = \"A_Tot\", y = \"O_Tot\", scatter = False))"
   ]
  },
  {
   "cell_type": "code",
   "execution_count": null,
   "metadata": {},
   "outputs": [],
   "source": [
    "print(sb.lmplot(data = dat_sub_g, x = \"C_Tot\", y = \"O_Tot\", hue = \"gender\", palette = \"Set2\", scatter = False))\n",
    "print(sb.lmplot(data = dat_sub_g, x = \"C_Tot\", y = \"O_Tot\", scatter = False))"
   ]
  },
  {
   "cell_type": "code",
   "execution_count": null,
   "metadata": {},
   "outputs": [],
   "source": []
  },
  {
   "cell_type": "code",
   "execution_count": null,
   "metadata": {},
   "outputs": [
    {
     "data": {
      "text/plain": [
       "<seaborn.axisgrid.JointGrid>"
      ]
     },
     "execution_count": null,
     "metadata": {},
     "output_type": "execute_result"
    },
    {
     "data": {
      "image/png": "[encoded data removed]",
      "text/plain": [
       "<Figure size 432x432 with 3 Axes>"
      ]
     },
     "metadata": {
      "needs_background": "light"
     },
     "output_type": "display_data"
    }
   ],
   "source": []
  }
 ],
 "metadata": {
  "kernelspec": {
   "display_name": "Python 3",
   "language": "python",
   "name": "python3"
  }
 },
 "nbformat": 4,
 "nbformat_minor": 4
}
