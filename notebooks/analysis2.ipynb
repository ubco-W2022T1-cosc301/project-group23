{
 "cells": [
  {
   "cell_type": "markdown",
   "metadata": {},
   "source": [
    "# Ella Serber"
   ]
  },
  {
   "cell_type": "markdown",
   "metadata": {},
   "source": [
    "## Research question/interests\n",
    "My primary research question asks: Is there a relationship among various personality traits?\n",
    "    \n",
    "Hypothesis 1: There is a significant positive relationship between Openness and Extraversion; Openness and Agreeableness; Extraversion and Agreeableness; and Conscientousness and Agreeableness. There is a significant negative relationship between Neuroticism and Extraversion, and Neuroticism and Agreeableness. \n",
    "\n",
    "My secondary research question asks: How do scores between men and women differ on the 5 personality traits?\n",
    "    \n",
    "Hypothesis 2: Based on extant research, on average, women will show higher scores than men on Extraversion, and Agreeableness, lower scores on Neuroticism, and there are will be no significant gender differences for Conscientiousness or Openness.\n",
    "\n",
    "*Note: in the dataset, high neuroticism is at the low end of the continuum so a high score on the N factor corresponds to low neuroticism/high emotional stability"
   ]
  },
  {
   "cell_type": "markdown",
   "metadata": {},
   "source": [
    "## Load packages and data "
   ]
  },
  {
   "cell_type": "code",
   "execution_count": null,
   "metadata": {},
   "outputs": [],
   "source": [
    "import pandas as pd\n",
    "import numpy as np\n",
    "import seaborn as sb\n",
    "import matplotlib.pyplot as plt"
   ]
  },
  {
   "cell_type": "code",
   "execution_count": null,
   "metadata": {},
   "outputs": [],
   "source": [
    "dat_1 = pd.read_csv(\"../data/raw/data.csv\", sep='\\t')\n",
    "dat_1"
   ]
  },
  {
   "cell_type": "markdown",
   "metadata": {},
   "source": [
    "## EDA\n",
    "*Note: more detailed information and interpretation will be included in tasks 3 and 4*"
   ]
  },
  {
   "cell_type": "code",
   "execution_count": null,
   "metadata": {},
   "outputs": [],
   "source": [
    "dat_1.shape\n",
    "#Gives number of rows and columns"
   ]
  },
  {
   "cell_type": "code",
   "execution_count": null,
   "metadata": {},
   "outputs": [],
   "source": [
    "dat_1.columns\n",
    "#Gives all column names"
   ]
  },
  {
   "cell_type": "code",
   "execution_count": null,
   "metadata": {},
   "outputs": [],
   "source": [
    "dat_1.head(10)\n",
    "#Gives shortened dataframe for specified number of rows "
   ]
  },
  {
   "cell_type": "code",
   "execution_count": null,
   "metadata": {},
   "outputs": [],
   "source": [
    "dat_1.nunique(axis=0)\n",
    "#Gives number of unique values for each column\n",
    "#Checking to ensure E1 through O10 only have 6 unique responses (per survey format)"
   ]
  },
  {
   "cell_type": "code",
   "execution_count": null,
   "metadata": {},
   "outputs": [],
   "source": [
    "dat_1.describe().apply(lambda s: s.apply(lambda x: format(x, 'f')))\n",
    "#Descriptive stats for entire dataframe\n",
    "#Clearly, something is off with the 'age' column (mean, std, and max do not make sense) -- however, this column will not be used in further analyses so this is not of concern for the current research"
   ]
  },
  {
   "cell_type": "code",
   "execution_count": null,
   "metadata": {},
   "outputs": [],
   "source": [
    "dat_1.age.unique()\n",
    "#Gives each unique value for a column (e.g., age)\n",
    "#Based on previous output, I wanted to look at all the unique values of age to try and figure out why the descriptive stats look very strange"
   ]
  },
  {
   "cell_type": "code",
   "execution_count": null,
   "metadata": {},
   "outputs": [],
   "source": [
    "print(dat_1.E1.describe())\n",
    "print(dat_1.N1.describe())\n",
    "#descriptive stats for one column \n",
    "#not useful now, but might be later once factor total columns are created"
   ]
  },
  {
   "cell_type": "code",
   "execution_count": null,
   "metadata": {},
   "outputs": [],
   "source": [
    "dat_2 = dat_1.copy().drop(['engnat','hand','source', 'country', 'race', 'age'], axis=1)\n",
    "#Drop unwanted columns (not going to be used)"
   ]
  },
  {
   "cell_type": "code",
   "execution_count": null,
   "metadata": {},
   "outputs": [],
   "source": [
    "pd.isnull(dat_2).values.any()\n",
    "#No missing values"
   ]
  },
  {
   "cell_type": "code",
   "execution_count": null,
   "metadata": {},
   "outputs": [],
   "source": [
    "np.isnan(dat_2).values.any()\n",
    "#No NaN values"
   ]
  },
  {
   "cell_type": "markdown",
   "metadata": {},
   "source": [
    "#### Checkpoint\n",
    "So far, so good. I have loaded the dataset and imported packages, done some basic exploration of the dataset, located and removed columns that are not of use for further analysis, and shown that there are no null or NaN values. Next, I will look for rows in which there are invalid data or outliers (and if so, remove them) and locate the rows where \"gender\" is missing or reported as \"other\"."
   ]
  },
  {
   "cell_type": "code",
   "execution_count": null,
   "metadata": {},
   "outputs": [],
   "source": [
    "dat_2.loc[dat_2[\"E1\"] == 0]\n",
    "#Find \"0\" in column \"E1\" (can use for any column)\n",
    "#shows one row with missing data (to be removed later)"
   ]
  },
  {
   "cell_type": "code",
   "execution_count": null,
   "metadata": {},
   "outputs": [],
   "source": [
    "print(pd.unique(dat_2[\"gender\"]))\n",
    "#Gives unique values for \"gender\" column\n",
    "#Need to remove gender = 0 (missing) and gender = 3 (other)\n",
    "\n",
    "dat_2.loc[dat_2['gender'] == 0]\n",
    "dat_2.loc[dat_2['gender'] == 3]\n",
    "#Shows where gender is missing (0) or 'other' (3) -- only displays the latter output but can run either one indiviudally by printing or commenting the other one out\n",
    "#Want to drop these rows (without entering each manually) "
   ]
  },
  {
   "cell_type": "markdown",
   "metadata": {},
   "source": [
    "#### Checkpoint\n",
    "One row had missing data for the desired columns, so it was removed. 102 rows have \"gender\" = 3 (other) and 24 rows have \"gender\" = 0 (missing); these rows will be removed in a later step when subsetting the dataframe. Now I am ready to reverse score certain items and create factor total scores. "
   ]
  },
  {
   "cell_type": "markdown",
   "metadata": {},
   "source": [
    "### Reverse Scoring"
   ]
  },
  {
   "cell_type": "code",
   "execution_count": null,
   "metadata": {},
   "outputs": [],
   "source": [
    "#Reverse Scored Items: E2, E4, E6, E8, E10, N1, N3, N5, N6, N7, N8, N9, N10, A1, A3, A5, A7, C2, C4, C6, C8, O2, O4, O6\n",
    "\n",
    "#Create function to reverse score\n",
    "def reverseScoring(df, high, cols):\n",
    "    df[cols] = high - df[cols]\n",
    "    return df\n",
    "\n",
    "#call function for items that are reverse scored\n",
    "dat = reverseScoring(dat_2, 6, cols=[\"E2\", \"E4\", \"E6\", \"E8\", \"E10\", \"N1\", \"N3\", \"N5\", \"N6\", \"N7\", \"N8\", \"N9\", \"N10\", \"A1\", \"A3\", \"A5\", \"A7\", \"C2\", \"C4\", \"C6\", \"C8\", \"O2\", \"O4\", \"O6\"])\n",
    "dat"
   ]
  },
  {
   "cell_type": "markdown",
   "metadata": {},
   "source": [
    "### Factor scores"
   ]
  },
  {
   "cell_type": "code",
   "execution_count": null,
   "metadata": {},
   "outputs": [],
   "source": [
    "dat[\"E_Tot\"] = dat[\"E1\"]+dat[\"E2\"]+dat[\"E3\"]+dat[\"E4\"]+dat[\"E5\"]+dat[\"E6\"]+dat[\"E7\"]+dat[\"E8\"]+dat[\"E9\"]+dat[\"E10\"]\n",
    "dat[\"N_Tot\"] = dat[\"N1\"]+dat[\"N2\"]+dat[\"N3\"]+dat[\"N4\"]+dat[\"N5\"]+dat[\"N6\"]+dat[\"N7\"]+dat[\"N8\"]+dat[\"N9\"]+dat[\"N10\"]\n",
    "dat[\"A_Tot\"] = dat[\"A1\"]+dat[\"A2\"]+dat[\"A3\"]+dat[\"A4\"]+dat[\"A5\"]+dat[\"A6\"]+dat[\"A7\"]+dat[\"A8\"]+dat[\"A9\"]+dat[\"A10\"]\n",
    "dat[\"C_Tot\"] = dat[\"C1\"]+dat[\"C2\"]+dat[\"C3\"]+dat[\"C4\"]+dat[\"C5\"]+dat[\"C6\"]+dat[\"C7\"]+dat[\"C8\"]+dat[\"C9\"]+dat[\"C10\"]\n",
    "dat[\"O_Tot\"] = dat[\"O1\"]+dat[\"O2\"]+dat[\"O3\"]+dat[\"O4\"]+dat[\"O5\"]+dat[\"O6\"]+dat[\"O7\"]+dat[\"O8\"]+dat[\"O9\"]+dat[\"O10\"]\n",
    "#Create new columns containing the total scores for each individual on each of the 5 factors "
   ]
  },
  {
   "cell_type": "markdown",
   "metadata": {},
   "source": [
    "### Create Variables for the Average of Each Factor Total Score"
   ]
  },
  {
   "cell_type": "code",
   "execution_count": null,
   "metadata": {},
   "outputs": [],
   "source": [
    "E_Avg = sum(dat[\"E_Tot\"])/len(dat)\n",
    "A_Avg = sum(dat[\"A_Tot\"])/len(dat)\n",
    "N_Avg = sum(dat[\"N_Tot\"])/len(dat)\n",
    "C_Avg = sum(dat[\"C_Tot\"])/len(dat)\n",
    "O_Avg = sum(dat[\"O_Tot\"])/len(dat)\n",
    "#Total average (mean) for each factor"
   ]
  },
  {
   "cell_type": "markdown",
   "metadata": {},
   "source": [
    "## Subsets"
   ]
  },
  {
   "cell_type": "code",
   "execution_count": null,
   "metadata": {},
   "outputs": [],
   "source": [
    "dat_reduced_g1 = dat[[\"gender\", \"E_Tot\", \"N_Tot\", \"A_Tot\", \"C_Tot\", \"O_Tot\"]]\n",
    "values = [0,3]\n",
    "dat_reduced_g = dat_reduced_g1[dat_reduced_g1.gender.isin(values) == False]\n",
    "dat_reduced = dat[[\"E_Tot\", \"N_Tot\", \"A_Tot\", \"C_Tot\", \"O_Tot\"]]\n",
    "#Create subsests with desired columns (with and without gender) and remove rows where gender = 3 (missing) or 0 (neither male nor female)"
   ]
  },
  {
   "cell_type": "code",
   "execution_count": null,
   "metadata": {},
   "outputs": [],
   "source": [
    "print(dat_reduced.loc[(dat_reduced==0).any(1)])\n",
    "#Check that no more rows contain 0's (i.e., missing/invalid data)\n",
    "#looks good (no 0's), continue analysis"
   ]
  },
  {
   "cell_type": "code",
   "execution_count": null,
   "metadata": {},
   "outputs": [],
   "source": [
    "values = [0, 3, 1]\n",
    "dat_f = dat_reduced_g[dat_reduced_g.gender.isin(values) == False]\n",
    "dat_f\n",
    "#Create \"female\" subset (only include rows where gender = 2 (female)"
   ]
  },
  {
   "cell_type": "code",
   "execution_count": null,
   "metadata": {},
   "outputs": [],
   "source": [
    "values = [0, 3, 2]\n",
    "dat_m = dat_reduced_g[dat_reduced_g.gender.isin(values) == False]\n",
    "dat_m\n",
    "#Create \"male\" subset (only include rows where gender = 1 (male)"
   ]
  },
  {
   "cell_type": "markdown",
   "metadata": {},
   "source": [
    "#### Checkpoint\n",
    "Great! Now I have subsetted dataframes that can be used for future analyses. Next, I will try out various visualizations to see which work best for answering my research questions. "
   ]
  },
  {
   "cell_type": "markdown",
   "metadata": {},
   "source": [
    "### Visualizations (EDA)"
   ]
  },
  {
   "cell_type": "code",
   "execution_count": null,
   "metadata": {},
   "outputs": [],
   "source": [
    "dat_reduced_g.hist(column= \"E_Tot\", bins =20)\n",
    "dat_reduced_g.hist(column= \"N_Tot\", bins =20)\n",
    "dat_reduced_g.hist(column= \"A_Tot\", bins =20)\n",
    "dat_reduced_g.hist(column= \"C_Tot\", bins =20)\n",
    "dat_reduced_g.hist(column= \"O_Tot\", bins =20)\n",
    "\n",
    "#Shows distribution of each factor for males and females (combined)"
   ]
  },
  {
   "cell_type": "code",
   "execution_count": null,
   "metadata": {},
   "outputs": [],
   "source": [
    "dat_reduced_g.hist(column= \"E_Tot\", by = \"gender\", bins=20, sharey=True)\n",
    "dat_reduced_g.hist(column= \"N_Tot\", by = \"gender\", bins=20, sharey=True)\n",
    "dat_reduced_g.hist(column= \"A_Tot\", by = \"gender\", bins=20, sharey=True)\n",
    "dat_reduced_g.hist(column= \"C_Tot\", by = \"gender\", bins=20, sharey=True)\n",
    "dat_reduced_g.hist(column= \"O_Tot\", by = \"gender\", bins=20, sharey=True)\n",
    "\n",
    "#Shows distribution of each factor for males and females (separately)\n",
    "#Probably won't use -- difficult to interpret since many less males than females in sample"
   ]
  },
  {
   "cell_type": "code",
   "execution_count": null,
   "metadata": {},
   "outputs": [],
   "source": [
    "dat_reduced.mean().plot.bar().set(title = \"Average Factor Scores\", ylabel = \"Mean Average\", xlabel = \"Factor\")\n",
    "#shows mean average for each category (both genders) -- A and O have higher averages than the others\n",
    "#Probably won't be used for actual analysis but interesting to see"
   ]
  },
  {
   "cell_type": "code",
   "execution_count": null,
   "metadata": {},
   "outputs": [],
   "source": [
    "sb.countplot(x = \"gender\", data = dat_reduced_g).set(title = \"Number of Males and Females in Sample\", xlabel = \"Gender (1 = male, 2 = female)\", ylabel = \"Number of Participants\")\n",
    "\n",
    "#Many more females than males in sample \n",
    "#Probably not usefule for further analysis, but interesting to see here and good to be aware of"
   ]
  },
  {
   "cell_type": "code",
   "execution_count": null,
   "metadata": {},
   "outputs": [],
   "source": [
    "\n",
    "dat_reduced_g.groupby(\"gender\").mean().plot.bar().set(title = \"Average Factor Total Score By Gender\", xlabel = \"Gender (1 = male, 2 = female)\", ylabel = \"Mean Factor Score\")\n",
    "#shows mean average for each factor, separated by gender"
   ]
  },
  {
   "cell_type": "code",
   "execution_count": null,
   "metadata": {},
   "outputs": [],
   "source": [
    "sb.pairplot(dat_reduced_g, hue = \"gender\")\n",
    "#Not very useful (too many data points)\n",
    "#also hard to interpret since there are more females than males in the sample"
   ]
  },
  {
   "cell_type": "code",
   "execution_count": null,
   "metadata": {},
   "outputs": [],
   "source": [
    "dat_reduced_g.plot.box(by = \"gender\")\n",
    "\n",
    "#Produces boxplot for each factor, separated by gender, and shows the lower, middle, and upper quartile (i.e., 25th, 50th, and\n",
    "#This plot does provide some good information but it does not look very nice -- probably won't use (try to find better boxplot)"
   ]
  },
  {
   "cell_type": "code",
   "execution_count": null,
   "metadata": {},
   "outputs": [],
   "source": [
    "fig, axes = plt.subplots(1, 5, figsize=(15, 10), sharex = True, sharey = True)\n",
    "fig.suptitle('Comparison of Factor Scores by Gender')\n",
    "sb.set_theme(context = \"notebook\", style = \"whitegrid\", palette=\"pastel\", font_scale = 1.4)\n",
    "sb.boxplot(ax=axes[0],x=\"gender\", y = dat_reduced_g[\"E_Tot\"], palette=[\"g\", \"m\"],\n",
    "            data=dat_reduced_g).set(title = \"Extraversion\", xlabel = \"\", ylabel = \"Total Score\")\n",
    "sb.boxplot(ax=axes[1],x=\"gender\", y = dat_reduced_g[\"N_Tot\"], palette=[\"g\", \"m\"],\n",
    "            data=dat_reduced_g).set(title = \"Neuroticism\", xlabel = \"\", ylabel = \"\")\n",
    "sb.boxplot(ax=axes[2],x=\"gender\", y = dat_reduced_g[\"A_Tot\"], palette=[\"g\", \"m\"],\n",
    "            data=dat_reduced_g).set(title = \"Agreeableness\", xlabel = \"Gender (1 = male, 2 = female)\", ylabel = \"\")\n",
    "sb.boxplot(ax=axes[3],x=\"gender\", y = dat_reduced_g[\"C_Tot\"], palette=[\"g\", \"m\"],\n",
    "            data=dat_reduced_g).set(title = \"Conscientiousness\", xlabel = \"\", ylabel = \"\")\n",
    "sb.boxplot(ax=axes[4],x=\"gender\", y = dat_reduced_g[\"O_Tot\"], palette=[\"g\", \"m\"],\n",
    "            data=dat_reduced_g).set(title = \"Openness\", xlabel = \"\", ylabel = \"\")\n",
    "\n",
    "\n",
    "#A much better boxplot! Will likely be used later"
   ]
  },
  {
   "cell_type": "code",
   "execution_count": null,
   "metadata": {},
   "outputs": [],
   "source": [
    "fig, axes = plt.subplots(1, 5, figsize=(15, 10),sharex=True, sharey = True)\n",
    "fig.suptitle('Comparison of Factor Scores by Gender')\n",
    "sb.set_theme('notebook', \"whitegrid\", palette = \"pastel\")\n",
    "\n",
    "sb.barplot(ax=axes[0],x=\"gender\", y = \"E_Tot\", palette=[\"g\", \"m\"], errorbar = \"sd\", errwidth = .95,capsize = .20,\n",
    "            data=dat_reduced_g).set(title = \"Extraversion\", xlabel = \"\", ylabel = \"Mean Factor Score\")\n",
    "sb.barplot(ax=axes[1],x=\"gender\", y = \"N_Tot\", palette=[\"g\", \"m\"], errorbar = \"sd\", errwidth = .95,capsize = .20,\n",
    "            data=dat_reduced_g).set(title = \"Neuroticism\", xlabel = \"\", ylabel = \"\")\n",
    "sb.barplot(ax=axes[2],x=\"gender\", y = \"A_Tot\", palette=[\"g\", \"m\"], errorbar = \"sd\", errwidth = .95,capsize = .20,\n",
    "            data=dat_reduced_g).set(title = \"Agreeableness\", xlabel = \"Gender (1 = male, 2 = female)\", ylabel = \"\")\n",
    "sb.barplot(ax=axes[3],x=\"gender\", y = \"C_Tot\", palette=[\"g\", \"m\"], errorbar = \"sd\", errwidth = .95,capsize = .20,\n",
    "            data=dat_reduced_g).set(title = \"Conscientiousness\", xlabel = \"\", ylabel = \"\")\n",
    "sb.barplot(ax=axes[4],x=\"gender\", y = \"O_Tot\", palette=[\"g\", \"m\"], errorbar = \"sd\", errwidth = .95,capsize = .20,\n",
    "            data=dat_reduced_g).set(title = \"Openness\", xlabel = \"\", ylabel = \"\")\n",
    "\n",
    "#Bar plot showing comparison of mean factor scores, by gender.\n",
    "#Want to reduce space between y axis ticks but cannot figure it out\n",
    "#error bars show standard deviation, clearly they are very large and they all overlap which makes it difficult to draw conclusions simply comparing means"
   ]
  },
  {
   "cell_type": "code",
   "execution_count": null,
   "metadata": {},
   "outputs": [],
   "source": [
    "sb.violinplot(dat_reduced_g, x=\"gender\", y= \"E_Tot\", split = True)\n",
    "#produces violin plot for each of males and females for one of the factor total scores (e.g., E) \n",
    "#Can use subplots if wanting to use this in further analysis (at this point, not sure if it will be useful in addition to the box and bar plots already produced)"
   ]
  },
  {
   "cell_type": "code",
   "execution_count": null,
   "metadata": {},
   "outputs": [
    {
     "data": {
      "text/html": [
       "<style type=\"text/css\">\n",
       "#T_c1894_row0_col0, #T_c1894_row1_col1, #T_c1894_row2_col2, #T_c1894_row3_col3, #T_c1894_row4_col4 {\n",
       "  background-color: #67001f;\n",
       "  color: #f1f1f1;\n",
       "}\n",
       "#T_c1894_row0_col1 {\n",
       "  background-color: #dfcfe6;\n",
       "  color: #000000;\n",
       "}\n",
       "#T_c1894_row0_col2 {\n",
       "  background-color: #d4bada;\n",
       "  color: #000000;\n",
       "}\n",
       "#T_c1894_row0_col3 {\n",
       "  background-color: #f4f1f7;\n",
       "  color: #000000;\n",
       "}\n",
       "#T_c1894_row0_col4 {\n",
       "  background-color: #ece7f2;\n",
       "  color: #000000;\n",
       "}\n",
       "#T_c1894_row1_col0 {\n",
       "  background-color: #e0d2e7;\n",
       "  color: #000000;\n",
       "}\n",
       "#T_c1894_row1_col2, #T_c1894_row3_col0, #T_c1894_row3_col4, #T_c1894_row4_col1, #T_c1894_row4_col3 {\n",
       "  background-color: #f7f4f9;\n",
       "  color: #000000;\n",
       "}\n",
       "#T_c1894_row1_col3 {\n",
       "  background-color: #ddcde4;\n",
       "  color: #000000;\n",
       "}\n",
       "#T_c1894_row1_col4, #T_c1894_row2_col1 {\n",
       "  background-color: #f5f2f8;\n",
       "  color: #000000;\n",
       "}\n",
       "#T_c1894_row2_col0 {\n",
       "  background-color: #d4b8d9;\n",
       "  color: #000000;\n",
       "}\n",
       "#T_c1894_row2_col3 {\n",
       "  background-color: #eae5f1;\n",
       "  color: #000000;\n",
       "}\n",
       "#T_c1894_row2_col4 {\n",
       "  background-color: #f3eff6;\n",
       "  color: #000000;\n",
       "}\n",
       "#T_c1894_row3_col1 {\n",
       "  background-color: #dfd1e6;\n",
       "  color: #000000;\n",
       "}\n",
       "#T_c1894_row3_col2 {\n",
       "  background-color: #eee9f3;\n",
       "  color: #000000;\n",
       "}\n",
       "#T_c1894_row4_col0 {\n",
       "  background-color: #eeeaf4;\n",
       "  color: #000000;\n",
       "}\n",
       "#T_c1894_row4_col2 {\n",
       "  background-color: #f6f3f9;\n",
       "  color: #000000;\n",
       "}\n",
       "</style>\n",
       "<table id=\"T_c1894\">\n",
       "  <thead>\n",
       "    <tr>\n",
       "      <th class=\"blank level0\" >&nbsp;</th>\n",
       "      <th id=\"T_c1894_level0_col0\" class=\"col_heading level0 col0\" >E_Tot</th>\n",
       "      <th id=\"T_c1894_level0_col1\" class=\"col_heading level0 col1\" >N_Tot</th>\n",
       "      <th id=\"T_c1894_level0_col2\" class=\"col_heading level0 col2\" >A_Tot</th>\n",
       "      <th id=\"T_c1894_level0_col3\" class=\"col_heading level0 col3\" >C_Tot</th>\n",
       "      <th id=\"T_c1894_level0_col4\" class=\"col_heading level0 col4\" >O_Tot</th>\n",
       "    </tr>\n",
       "  </thead>\n",
       "  <tbody>\n",
       "    <tr>\n",
       "      <th id=\"T_c1894_level0_row0\" class=\"row_heading level0 row0\" >E_Tot</th>\n",
       "      <td id=\"T_c1894_row0_col0\" class=\"data row0 col0\" >1.000000</td>\n",
       "      <td id=\"T_c1894_row0_col1\" class=\"data row0 col1\" >0.262475</td>\n",
       "      <td id=\"T_c1894_row0_col2\" class=\"data row0 col2\" >0.333979</td>\n",
       "      <td id=\"T_c1894_row0_col3\" class=\"data row0 col3\" >0.106191</td>\n",
       "      <td id=\"T_c1894_row0_col4\" class=\"data row0 col4\" >0.166116</td>\n",
       "    </tr>\n",
       "    <tr>\n",
       "      <th id=\"T_c1894_level0_row1\" class=\"row_heading level0 row1\" >N_Tot</th>\n",
       "      <td id=\"T_c1894_row1_col0\" class=\"data row1 col0\" >0.262475</td>\n",
       "      <td id=\"T_c1894_row1_col1\" class=\"data row1 col1\" >1.000000</td>\n",
       "      <td id=\"T_c1894_row1_col2\" class=\"data row1 col2\" >0.111982</td>\n",
       "      <td id=\"T_c1894_row1_col3\" class=\"data row1 col3\" >0.259772</td>\n",
       "      <td id=\"T_c1894_row1_col4\" class=\"data row1 col4\" >0.100900</td>\n",
       "    </tr>\n",
       "    <tr>\n",
       "      <th id=\"T_c1894_level0_row2\" class=\"row_heading level0 row2\" >A_Tot</th>\n",
       "      <td id=\"T_c1894_row2_col0\" class=\"data row2 col0\" >0.333979</td>\n",
       "      <td id=\"T_c1894_row2_col1\" class=\"data row2 col1\" >0.111982</td>\n",
       "      <td id=\"T_c1894_row2_col2\" class=\"data row2 col2\" >1.000000</td>\n",
       "      <td id=\"T_c1894_row2_col3\" class=\"data row2 col3\" >0.175842</td>\n",
       "      <td id=\"T_c1894_row2_col4\" class=\"data row2 col4\" >0.116139</td>\n",
       "    </tr>\n",
       "    <tr>\n",
       "      <th id=\"T_c1894_level0_row3\" class=\"row_heading level0 row3\" >C_Tot</th>\n",
       "      <td id=\"T_c1894_row3_col0\" class=\"data row3 col0\" >0.106191</td>\n",
       "      <td id=\"T_c1894_row3_col1\" class=\"data row3 col1\" >0.259772</td>\n",
       "      <td id=\"T_c1894_row3_col2\" class=\"data row3 col2\" >0.175842</td>\n",
       "      <td id=\"T_c1894_row3_col3\" class=\"data row3 col3\" >1.000000</td>\n",
       "      <td id=\"T_c1894_row3_col4\" class=\"data row3 col4\" >0.086040</td>\n",
       "    </tr>\n",
       "    <tr>\n",
       "      <th id=\"T_c1894_level0_row4\" class=\"row_heading level0 row4\" >O_Tot</th>\n",
       "      <td id=\"T_c1894_row4_col0\" class=\"data row4 col0\" >0.166116</td>\n",
       "      <td id=\"T_c1894_row4_col1\" class=\"data row4 col1\" >0.100900</td>\n",
       "      <td id=\"T_c1894_row4_col2\" class=\"data row4 col2\" >0.116139</td>\n",
       "      <td id=\"T_c1894_row4_col3\" class=\"data row4 col3\" >0.086040</td>\n",
       "      <td id=\"T_c1894_row4_col4\" class=\"data row4 col4\" >1.000000</td>\n",
       "    </tr>\n",
       "  </tbody>\n",
       "</table>\n"
      ],
      "text/plain": [
       "<pandas.io.formats.style.Styler>"
      ]
     },
     "execution_count": null,
     "metadata": {},
     "output_type": "execute_result"
    }
   ],
   "source": [
    "corr = dat_reduced.corr()\n",
    "corr.style.background_gradient(cmap='PuRd')\n",
    "\n",
    "#Correlation matrix of 5 factors (darker colours indicate greater magnitude of correlation)\n",
    "#One option for correlation plot"
   ]
  },
  {
   "cell_type": "code",
   "execution_count": null,
   "metadata": {},
   "outputs": [
    {
     "data": {
      "image/png": "[encoded data removed]",
      "text/plain": [
       "<Figure size 1100x900 with 2 Axes>"
      ]
     },
     "metadata": {},
     "output_type": "display_data"
    }
   ],
   "source": [
    "#Hide upper triangle (repeating values, not necessary and makes the figure 'noisier')\n",
    "mask = np.triu(np.ones_like(corr, dtype=bool))\n",
    "\n",
    "# Set up the matplotlib figure\n",
    "f, ax = plt.subplots(figsize=(11, 9))\n",
    "\n",
    "# Generate a custom diverging colormap \n",
    "cmap = sb.diverging_palette(220, 2550, as_cmap=True)\n",
    "\n",
    "# Draw the heatmap with the mask and correct aspect ratio\n",
    "heat_map = sb.heatmap(corr, mask=mask, cmap = cmap, annot = True, center=0,\n",
    "            square=True, linewidths=.7).set(title = \"Correlations Among Big 5 Personality Traits\")\n",
    "\n",
    "#Another option for correlation matrix plot -- this one looks better "
   ]
  },
  {
   "cell_type": "markdown",
   "metadata": {},
   "source": [
    "#### Checkpoint\n",
    "Wow! That's a lot of visualizations... some definitley seem better suited to by current research questions but they are all interesting to look at and notice different patterns, themes, and relationships within the data. In a later section, the visualizations will be described in greater detail and in regard to the research questions -- for now, they are more to get an idea of what I will want to use later. \n",
    "\n",
    "This marks the end of my EDA and will now move on to the analysis pipleline. "
   ]
  },
  {
   "cell_type": "markdown",
   "metadata": {},
   "source": [
    "# Analysis Pipeline"
   ]
  },
  {
   "cell_type": "markdown",
   "metadata": {},
   "source": [
    "### Import Packages"
   ]
  },
  {
   "cell_type": "code",
   "execution_count": null,
   "metadata": {},
   "outputs": [],
   "source": [
    "import pandas as pd\n",
    "import numpy as np\n",
    "import seaborn as sb"
   ]
  },
  {
   "cell_type": "markdown",
   "metadata": {},
   "source": [
    "## Load Data"
   ]
  },
  {
   "cell_type": "code",
   "execution_count": null,
   "metadata": {},
   "outputs": [],
   "source": [
    "dat_1 = pd.read_csv(\"../data/raw/data.csv\", sep='\\t')"
   ]
  },
  {
   "cell_type": "markdown",
   "metadata": {},
   "source": [
    "## Clean Data\n",
    "*Dropping columns that are not used in further analyses (i.e., English as a native language, handedness, how the participant got to the questionnaire, the participants' country, the race of the participant, and the age of the participant)*\n",
    "\n",
    "*Dropping row index 19064 since it is missing all of the questionnaire data*"
   ]
  },
  {
   "cell_type": "code",
   "execution_count": null,
   "metadata": {},
   "outputs": [],
   "source": [
    "dat_2 = dat_1.copy().drop(['engnat','hand','source', 'country', 'race', 'age'], axis=1)\n",
    "dat_3 = dat_2.copy().drop([19064], axis=0)"
   ]
  },
  {
   "cell_type": "markdown",
   "metadata": {},
   "source": [
    "#### Checkpoint\n",
    "By this point, the data has been loaded and the unused columns have been dropped as well as the row with missing data. Next, the data will be processed to get it to the state where analysis can be conducted. "
   ]
  },
  {
   "cell_type": "markdown",
   "metadata": {},
   "source": [
    "## Process Data\n"
   ]
  },
  {
   "cell_type": "markdown",
   "metadata": {},
   "source": [
    "### Reverse Scoring\n",
    "*Reverse scoring is used since the original questionnaire includes questions that are reverse coded -- that is, the questions are worded in a way opposite to thier relation with the construct being assessed*\n"
   ]
  },
  {
   "cell_type": "code",
   "execution_count": null,
   "metadata": {},
   "outputs": [],
   "source": [
    "def reverseScoring(df, high, cols):\n",
    "    df[cols] = high - df[cols]\n",
    "    return df\n",
    "\n",
    "dat = reverseScoring(dat_3, 6, cols=[\"E2\", \"E4\", \"E6\", \"E8\", \"E10\", \"N1\", \"N3\", \"N5\", \"N6\", \"N7\", \"N8\", \"N9\", \"N10\", \"A1\", \"A3\", \"A5\", \"A7\", \"C2\", \"C4\", \"C6\", \"C8\", \"O2\", \"O4\", \"O6\"])\n",
    "#Converts the specified column values to be reverse scored (based on reverse-worded questions) such that 1 becomes 5, 2 becomes 4, 3 stays the same, 4 becomes 2, and 5 becomes 1"
   ]
  },
  {
   "cell_type": "markdown",
   "metadata": {},
   "source": [
    "### Create Factor Score Columns\n",
    "*Factor Score/Total columns (i.e., the sum of a participants' score on all items pertaining to the same factor) are created in order to use in further analyses*"
   ]
  },
  {
   "cell_type": "code",
   "execution_count": null,
   "metadata": {},
   "outputs": [],
   "source": [
    "dat[\"E_Tot\"] = dat[\"E1\"]+dat[\"E2\"]+dat[\"E3\"]+dat[\"E4\"]+dat[\"E5\"]+dat[\"E6\"]+dat[\"E7\"]+dat[\"E8\"]+dat[\"E9\"]+dat[\"E10\"]\n",
    "dat[\"N_Tot\"] = dat[\"N1\"]+dat[\"N2\"]+dat[\"N3\"]+dat[\"N4\"]+dat[\"N5\"]+dat[\"N6\"]+dat[\"N7\"]+dat[\"N8\"]+dat[\"N9\"]+dat[\"N10\"]\n",
    "dat[\"A_Tot\"] = dat[\"A1\"]+dat[\"A2\"]+dat[\"A3\"]+dat[\"A4\"]+dat[\"A5\"]+dat[\"A6\"]+dat[\"A7\"]+dat[\"A8\"]+dat[\"A9\"]+dat[\"A10\"]\n",
    "dat[\"C_Tot\"] = dat[\"C1\"]+dat[\"C2\"]+dat[\"C3\"]+dat[\"C4\"]+dat[\"C5\"]+dat[\"C6\"]+dat[\"C7\"]+dat[\"C8\"]+dat[\"C9\"]+dat[\"C10\"]\n",
    "dat[\"O_Tot\"] = dat[\"O1\"]+dat[\"O2\"]+dat[\"O3\"]+dat[\"O4\"]+dat[\"O5\"]+dat[\"O6\"]+dat[\"O7\"]+dat[\"O8\"]+dat[\"O9\"]+dat[\"O10\"]\n",
    "\n",
    "#Create new columns containing the total scores for each individual on each of the 5 factors "
   ]
  },
  {
   "cell_type": "markdown",
   "metadata": {},
   "source": [
    "## Wrangle Data"
   ]
  },
  {
   "cell_type": "code",
   "execution_count": null,
   "metadata": {},
   "outputs": [],
   "source": [
    "## Not sure exactly what to put here -- I do not need to restructure the data or merge any new data so I will create subsets here"
   ]
  },
  {
   "cell_type": "markdown",
   "metadata": {},
   "source": [
    "### Create Subsets"
   ]
  },
  {
   "cell_type": "code",
   "execution_count": null,
   "metadata": {},
   "outputs": [],
   "source": [
    "dat_reduced_g = dat[[\"gender\", \"E_Tot\", \"N_Tot\", \"A_Tot\", \"C_Tot\", \"O_Tot\"]]\n",
    "\n",
    "dat_reduced = dat[[\"E_Tot\", \"N_Tot\", \"A_Tot\", \"C_Tot\", \"O_Tot\"]]\n",
    "\n",
    "#Create subsets to get dataframes with only total score columns; with and without gender"
   ]
  },
  {
   "cell_type": "code",
   "execution_count": null,
   "metadata": {},
   "outputs": [],
   "source": [
    "values = [0, 3, 1]\n",
    "dat_f = dat_reduced_g[dat_reduced_g.gender.isin(values) == False]\n",
    "dat_f\n",
    "#Create \"female\" subset (only include rows where gender = 2 (female)"
   ]
  },
  {
   "cell_type": "code",
   "execution_count": null,
   "metadata": {},
   "outputs": [],
   "source": [
    "values = [0, 3, 2]\n",
    "dat_m = dat_reduced_g[dat_reduced_g.gender.isin(values) == False]\n",
    "dat_m\n",
    "#Create \"male\" subset (only include rows where gender = 1 (male)"
   ]
  },
  {
   "cell_type": "markdown",
   "metadata": {},
   "source": [
    "#### Checkpoint\n",
    "Great! Now I have all of the cleaned and processed dataframes I will use for analyses. The reverse-coded items have been reverse scored, factor total scores have been created, and subsets have been created. Next, I will create method chains to make the process more concise. "
   ]
  },
  {
   "cell_type": "markdown",
   "metadata": {},
   "source": [
    "# Method Chain"
   ]
  },
  {
   "cell_type": "markdown",
   "metadata": {},
   "source": [
    "## Build Method Chains"
   ]
  },
  {
   "cell_type": "markdown",
   "metadata": {},
   "source": [
    "### Load packages/functions"
   ]
  },
  {
   "cell_type": "code",
   "execution_count": null,
   "metadata": {},
   "outputs": [],
   "source": [
    "import pandas as pd\n",
    "import numpy as np\n",
    "import seaborn as sb\n",
    "import matplotlib.pyplot as plt\n",
    "import project_functions2 as pf"
   ]
  },
  {
   "cell_type": "markdown",
   "metadata": {},
   "source": [
    "### Method Chain 1\n",
    "*Method chain to load csv file, drop unwanted columns (specified in analysis pipeline), and remove a row with missing data*"
   ]
  },
  {
   "cell_type": "code",
   "execution_count": null,
   "metadata": {},
   "outputs": [],
   "source": [
    "dat_2 = (pd.read_csv(\"../data/raw/data.csv\", sep='\\t')\n",
    "    .copy().drop(['engnat','hand','source', 'country', 'race', 'age'], axis=1)\n",
    "    .copy().drop([19064], axis=0))\n",
    "    \n",
    "dat_2\n",
    "\n",
    "#load csv file, drop unwanted columns, and remove a row with missing data"
   ]
  },
  {
   "cell_type": "markdown",
   "metadata": {},
   "source": [
    "### Method Chain 2\n",
    "*First, reverse score items that are reverse-coded. Then, assign new columns containing factor total scores by summing scores on the constituent items for each factor.*"
   ]
  },
  {
   "cell_type": "code",
   "execution_count": null,
   "metadata": {},
   "outputs": [],
   "source": [
    "def reverseScoring(df, high, cols):\n",
    "    df[cols] = high - df[cols]\n",
    "    return df\n",
    "\n",
    "dat_2 = reverseScoring(dat_2, 6, cols=[\"E2\", \"E4\", \"E6\", \"E8\", \"E10\", \"N1\", \"N3\", \"N5\", \"N6\", \"N7\", \"N8\", \"N9\", \"N10\", \"A1\", \"A3\", \"A5\", \"A7\", \"C2\", \"C4\", \"C6\", \"C8\", \"O2\", \"O4\", \"O6\"])\n",
    "\n",
    "dat_3 = (pd.DataFrame(dat_2)\n",
    "        .assign(E_Tot=lambda x: dat_2[\"E1\"]+dat_2[\"E2\"]+dat_2[\"E3\"]+dat_2[\"E4\"]+dat_2[\"E5\"]+dat_2[\"E6\"]+dat_2[\"E7\"]+dat_2[\"E8\"]+dat_2[\"E9\"]+dat_2[\"E10\"])\n",
    "        .assign(N_Tot=lambda x: dat_2[\"N1\"]+dat_2[\"N2\"]+dat_2[\"N3\"]+dat_2[\"N4\"]+dat_2[\"N5\"]+dat_2[\"N6\"]+dat_2[\"N7\"]+dat_2[\"N8\"]+dat_2[\"N9\"]+dat_2[\"N10\"])\n",
    "        .assign(A_Tot=lambda x: dat_2[\"A1\"]+dat_2[\"A2\"]+dat_2[\"A3\"]+dat_2[\"A4\"]+dat_2[\"A5\"]+dat_2[\"A6\"]+dat_2[\"A7\"]+dat_2[\"A8\"]+dat_2[\"A9\"]+dat_2[\"A10\"])\n",
    "        .assign(C_Tot=lambda x: dat_2[\"C1\"]+dat_2[\"C2\"]+dat_2[\"C3\"]+dat_2[\"C4\"]+dat_2[\"C5\"]+dat_2[\"C6\"]+dat_2[\"C7\"]+dat_2[\"C8\"]+dat_2[\"C9\"]+dat_2[\"C10\"])\n",
    "        .assign(O_Tot=lambda x: dat_2[\"O1\"]+dat_2[\"O2\"]+dat_2[\"O3\"]+dat_2[\"O4\"]+dat_2[\"O5\"]+dat_2[\"O6\"]+dat_2[\"O7\"]+dat_2[\"O8\"]+dat_2[\"O9\"]+dat_2[\"O10\"]))\n",
    "\n",
    "dat_3\n",
    "\n",
    "#Reverse score items before creating total scores\n",
    "#Method chain to create columns with factor total scores by summing scores on the constituent variables for each factor"
   ]
  },
  {
   "cell_type": "markdown",
   "metadata": {},
   "source": [
    "#### Checkpoint\n",
    "Two method chains have been created. The first one loads the data and drops unwanted columns and rows. The second one reverse scores items and creates factor total scores. Next, I will wrap the method chains into a function to make the process even more concise and efficient. "
   ]
  },
  {
   "cell_type": "markdown",
   "metadata": {},
   "source": [
    "## Wrap Method Chains in Function\n",
    "*Created a new function (called 'load_and_process') by including the two method chains and saved it in a .py file. Then, import the .py file (containing the new function) and run it using a relative path to the desired dataset*\n",
    "\n",
    "Now we can easily load, clean, and process the data in one step!"
   ]
  },
  {
   "cell_type": "code",
   "execution_count": null,
   "metadata": {},
   "outputs": [
    {
     "data": {
      "text/html": [
       "<div>\n",
       "<style scoped>\n",
       "    .dataframe tbody tr th:only-of-type {\n",
       "        vertical-align: middle;\n",
       "    }\n",
       "\n",
       "    .dataframe tbody tr th {\n",
       "        vertical-align: top;\n",
       "    }\n",
       "\n",
       "    .dataframe thead th {\n",
       "        text-align: right;\n",
       "    }\n",
       "</style>\n",
       "<table border=\"1\" class=\"dataframe\">\n",
       "  <thead>\n",
       "    <tr style=\"text-align: right;\">\n",
       "      <th></th>\n",
       "      <th>gender</th>\n",
       "      <th>E1</th>\n",
       "      <th>E2</th>\n",
       "      <th>E3</th>\n",
       "      <th>E4</th>\n",
       "      <th>E5</th>\n",
       "      <th>E6</th>\n",
       "      <th>E7</th>\n",
       "      <th>E8</th>\n",
       "      <th>E9</th>\n",
       "      <th>...</th>\n",
       "      <th>O6</th>\n",
       "      <th>O7</th>\n",
       "      <th>O8</th>\n",
       "      <th>O9</th>\n",
       "      <th>O10</th>\n",
       "      <th>E_Tot</th>\n",
       "      <th>N_Tot</th>\n",
       "      <th>A_Tot</th>\n",
       "      <th>C_Tot</th>\n",
       "      <th>O_Tot</th>\n",
       "    </tr>\n",
       "  </thead>\n",
       "  <tbody>\n",
       "    <tr>\n",
       "      <th>0</th>\n",
       "      <td>1</td>\n",
       "      <td>4</td>\n",
       "      <td>4</td>\n",
       "      <td>5</td>\n",
       "      <td>4</td>\n",
       "      <td>5</td>\n",
       "      <td>5</td>\n",
       "      <td>4</td>\n",
       "      <td>3</td>\n",
       "      <td>5</td>\n",
       "      <td>...</td>\n",
       "      <td>5</td>\n",
       "      <td>4</td>\n",
       "      <td>2</td>\n",
       "      <td>5</td>\n",
       "      <td>5</td>\n",
       "      <td>44</td>\n",
       "      <td>49</td>\n",
       "      <td>46</td>\n",
       "      <td>47</td>\n",
       "      <td>43</td>\n",
       "    </tr>\n",
       "    <tr>\n",
       "      <th>1</th>\n",
       "      <td>2</td>\n",
       "      <td>2</td>\n",
       "      <td>4</td>\n",
       "      <td>3</td>\n",
       "      <td>3</td>\n",
       "      <td>3</td>\n",
       "      <td>3</td>\n",
       "      <td>1</td>\n",
       "      <td>1</td>\n",
       "      <td>1</td>\n",
       "      <td>...</td>\n",
       "      <td>3</td>\n",
       "      <td>3</td>\n",
       "      <td>1</td>\n",
       "      <td>3</td>\n",
       "      <td>2</td>\n",
       "      <td>22</td>\n",
       "      <td>29</td>\n",
       "      <td>35</td>\n",
       "      <td>42</td>\n",
       "      <td>26</td>\n",
       "    </tr>\n",
       "    <tr>\n",
       "      <th>2</th>\n",
       "      <td>2</td>\n",
       "      <td>5</td>\n",
       "      <td>5</td>\n",
       "      <td>1</td>\n",
       "      <td>2</td>\n",
       "      <td>5</td>\n",
       "      <td>5</td>\n",
       "      <td>1</td>\n",
       "      <td>1</td>\n",
       "      <td>5</td>\n",
       "      <td>...</td>\n",
       "      <td>5</td>\n",
       "      <td>5</td>\n",
       "      <td>5</td>\n",
       "      <td>5</td>\n",
       "      <td>5</td>\n",
       "      <td>35</td>\n",
       "      <td>14</td>\n",
       "      <td>38</td>\n",
       "      <td>49</td>\n",
       "      <td>45</td>\n",
       "    </tr>\n",
       "    <tr>\n",
       "      <th>3</th>\n",
       "      <td>2</td>\n",
       "      <td>2</td>\n",
       "      <td>1</td>\n",
       "      <td>2</td>\n",
       "      <td>2</td>\n",
       "      <td>3</td>\n",
       "      <td>2</td>\n",
       "      <td>3</td>\n",
       "      <td>2</td>\n",
       "      <td>4</td>\n",
       "      <td>...</td>\n",
       "      <td>4</td>\n",
       "      <td>5</td>\n",
       "      <td>2</td>\n",
       "      <td>5</td>\n",
       "      <td>5</td>\n",
       "      <td>22</td>\n",
       "      <td>17</td>\n",
       "      <td>37</td>\n",
       "      <td>26</td>\n",
       "      <td>41</td>\n",
       "    </tr>\n",
       "    <tr>\n",
       "      <th>4</th>\n",
       "      <td>2</td>\n",
       "      <td>3</td>\n",
       "      <td>5</td>\n",
       "      <td>3</td>\n",
       "      <td>3</td>\n",
       "      <td>3</td>\n",
       "      <td>5</td>\n",
       "      <td>3</td>\n",
       "      <td>5</td>\n",
       "      <td>3</td>\n",
       "      <td>...</td>\n",
       "      <td>5</td>\n",
       "      <td>3</td>\n",
       "      <td>1</td>\n",
       "      <td>5</td>\n",
       "      <td>3</td>\n",
       "      <td>34</td>\n",
       "      <td>30</td>\n",
       "      <td>44</td>\n",
       "      <td>34</td>\n",
       "      <td>34</td>\n",
       "    </tr>\n",
       "    <tr>\n",
       "      <th>...</th>\n",
       "      <td>...</td>\n",
       "      <td>...</td>\n",
       "      <td>...</td>\n",
       "      <td>...</td>\n",
       "      <td>...</td>\n",
       "      <td>...</td>\n",
       "      <td>...</td>\n",
       "      <td>...</td>\n",
       "      <td>...</td>\n",
       "      <td>...</td>\n",
       "      <td>...</td>\n",
       "      <td>...</td>\n",
       "      <td>...</td>\n",
       "      <td>...</td>\n",
       "      <td>...</td>\n",
       "      <td>...</td>\n",
       "      <td>...</td>\n",
       "      <td>...</td>\n",
       "      <td>...</td>\n",
       "      <td>...</td>\n",
       "      <td>...</td>\n",
       "    </tr>\n",
       "    <tr>\n",
       "      <th>19714</th>\n",
       "      <td>2</td>\n",
       "      <td>1</td>\n",
       "      <td>2</td>\n",
       "      <td>3</td>\n",
       "      <td>1</td>\n",
       "      <td>4</td>\n",
       "      <td>3</td>\n",
       "      <td>1</td>\n",
       "      <td>4</td>\n",
       "      <td>1</td>\n",
       "      <td>...</td>\n",
       "      <td>5</td>\n",
       "      <td>4</td>\n",
       "      <td>2</td>\n",
       "      <td>5</td>\n",
       "      <td>3</td>\n",
       "      <td>21</td>\n",
       "      <td>19</td>\n",
       "      <td>42</td>\n",
       "      <td>36</td>\n",
       "      <td>35</td>\n",
       "    </tr>\n",
       "    <tr>\n",
       "      <th>19715</th>\n",
       "      <td>2</td>\n",
       "      <td>2</td>\n",
       "      <td>3</td>\n",
       "      <td>2</td>\n",
       "      <td>3</td>\n",
       "      <td>2</td>\n",
       "      <td>3</td>\n",
       "      <td>2</td>\n",
       "      <td>2</td>\n",
       "      <td>4</td>\n",
       "      <td>...</td>\n",
       "      <td>3</td>\n",
       "      <td>4</td>\n",
       "      <td>2</td>\n",
       "      <td>3</td>\n",
       "      <td>3</td>\n",
       "      <td>25</td>\n",
       "      <td>39</td>\n",
       "      <td>36</td>\n",
       "      <td>32</td>\n",
       "      <td>30</td>\n",
       "    </tr>\n",
       "    <tr>\n",
       "      <th>19716</th>\n",
       "      <td>1</td>\n",
       "      <td>2</td>\n",
       "      <td>1</td>\n",
       "      <td>4</td>\n",
       "      <td>1</td>\n",
       "      <td>5</td>\n",
       "      <td>1</td>\n",
       "      <td>1</td>\n",
       "      <td>4</td>\n",
       "      <td>1</td>\n",
       "      <td>...</td>\n",
       "      <td>5</td>\n",
       "      <td>1</td>\n",
       "      <td>5</td>\n",
       "      <td>5</td>\n",
       "      <td>5</td>\n",
       "      <td>21</td>\n",
       "      <td>10</td>\n",
       "      <td>26</td>\n",
       "      <td>23</td>\n",
       "      <td>37</td>\n",
       "    </tr>\n",
       "    <tr>\n",
       "      <th>19717</th>\n",
       "      <td>1</td>\n",
       "      <td>1</td>\n",
       "      <td>2</td>\n",
       "      <td>2</td>\n",
       "      <td>3</td>\n",
       "      <td>2</td>\n",
       "      <td>2</td>\n",
       "      <td>1</td>\n",
       "      <td>3</td>\n",
       "      <td>4</td>\n",
       "      <td>...</td>\n",
       "      <td>5</td>\n",
       "      <td>5</td>\n",
       "      <td>3</td>\n",
       "      <td>5</td>\n",
       "      <td>5</td>\n",
       "      <td>21</td>\n",
       "      <td>20</td>\n",
       "      <td>38</td>\n",
       "      <td>43</td>\n",
       "      <td>42</td>\n",
       "    </tr>\n",
       "    <tr>\n",
       "      <th>19718</th>\n",
       "      <td>1</td>\n",
       "      <td>2</td>\n",
       "      <td>3</td>\n",
       "      <td>1</td>\n",
       "      <td>1</td>\n",
       "      <td>3</td>\n",
       "      <td>3</td>\n",
       "      <td>3</td>\n",
       "      <td>4</td>\n",
       "      <td>2</td>\n",
       "      <td>...</td>\n",
       "      <td>5</td>\n",
       "      <td>5</td>\n",
       "      <td>5</td>\n",
       "      <td>5</td>\n",
       "      <td>5</td>\n",
       "      <td>24</td>\n",
       "      <td>23</td>\n",
       "      <td>35</td>\n",
       "      <td>36</td>\n",
       "      <td>49</td>\n",
       "    </tr>\n",
       "  </tbody>\n",
       "</table>\n",
       "<p>19718 rows × 56 columns</p>\n",
       "</div>"
      ],
      "text/plain": [
       "       gender  E1  E2  E3  E4  E5  E6  E7  E8  E9  ...  O6  O7  O8  O9  O10  \\\n",
       "0           1   4   4   5   4   5   5   4   3   5  ...   5   4   2   5    5   \n",
       "1           2   2   4   3   3   3   3   1   1   1  ...   3   3   1   3    2   \n",
       "2           2   5   5   1   2   5   5   1   1   5  ...   5   5   5   5    5   \n",
       "3           2   2   1   2   2   3   2   3   2   4  ...   4   5   2   5    5   \n",
       "4           2   3   5   3   3   3   5   3   5   3  ...   5   3   1   5    3   \n",
       "...       ...  ..  ..  ..  ..  ..  ..  ..  ..  ..  ...  ..  ..  ..  ..  ...   \n",
       "19714       2   1   2   3   1   4   3   1   4   1  ...   5   4   2   5    3   \n",
       "19715       2   2   3   2   3   2   3   2   2   4  ...   3   4   2   3    3   \n",
       "19716       1   2   1   4   1   5   1   1   4   1  ...   5   1   5   5    5   \n",
       "19717       1   1   2   2   3   2   2   1   3   4  ...   5   5   3   5    5   \n",
       "19718       1   2   3   1   1   3   3   3   4   2  ...   5   5   5   5    5   \n",
       "\n",
       "       E_Tot  N_Tot  A_Tot  C_Tot  O_Tot  \n",
       "0         44     49     46     47     43  \n",
       "1         22     29     35     42     26  \n",
       "2         35     14     38     49     45  \n",
       "3         22     17     37     26     41  \n",
       "4         34     30     44     34     34  \n",
       "...      ...    ...    ...    ...    ...  \n",
       "19714     21     19     42     36     35  \n",
       "19715     25     39     36     32     30  \n",
       "19716     21     10     26     23     37  \n",
       "19717     21     20     38     43     42  \n",
       "19718     24     23     35     36     49  \n",
       "\n",
       "[19718 rows x 56 columns]"
      ]
     },
     "execution_count": null,
     "metadata": {},
     "output_type": "execute_result"
    }
   ],
   "source": [
    "import project_functions2 as pf\n",
    "dat = pf.load_and_process(\"../data/raw/data.csv\")\n",
    "dat\n",
    "#Reverse scoring function (reverseScoring) and method chains wrapped in a function (load_and_process) in \"project_functions2.py\""
   ]
  },
  {
   "cell_type": "markdown",
   "metadata": {},
   "source": [
    "#### Checkpoint\n",
    "I have successfully created a function to run my method chains, placed it in a .py file, and imported and run the function in my .ipynb file. This makes it quick and easy to load, clean, and process my data. Next, I will analyse the data in regard to my research questions."
   ]
  },
  {
   "cell_type": "markdown",
   "metadata": {},
   "source": [
    "# Analysis for RQ"
   ]
  },
  {
   "cell_type": "markdown",
   "metadata": {},
   "source": [
    "### Imports"
   ]
  },
  {
   "cell_type": "code",
   "execution_count": null,
   "metadata": {},
   "outputs": [],
   "source": [
    "#from scipy.stats import shapiro \n",
    "#from scipy.stats import lognorm\n",
    "#from scipy.stats import levene\n",
    "import scipy.stats\n",
    "import matplotlib.pyplot as plt\n",
    "import seaborn as sb\n",
    "import pandas as pd\n",
    "import numpy as np"
   ]
  },
  {
   "cell_type": "markdown",
   "metadata": {},
   "source": [
    "## Create Subsets (total score columns with gender variations)\n",
    "*Subsets are used to produce a dataframe with only select data from the original dataframe. In this case, I want to create four subsets -- one including only the factor total scores, one including factor total scores and gender, one including factor total scores for females only, and one including factor total scores for males only*"
   ]
  },
  {
   "cell_type": "code",
   "execution_count": null,
   "metadata": {},
   "outputs": [],
   "source": [
    "#total scores without gender\n",
    "#Note: recall lower N scores correspond to greater neuroticism; higher scores to greater emotional stability\n",
    "dat_sub = dat[[\"E_Tot\", \"N_Tot\", \"A_Tot\", \"C_Tot\", \"O_Tot\"]]"
   ]
  },
  {
   "cell_type": "code",
   "execution_count": null,
   "metadata": {},
   "outputs": [],
   "source": [
    "#total scores with gender = 1 (male) and 2 (female)\n",
    "values = [0,3]\n",
    "dat_sub_g1 = dat[[\"gender\",\"E_Tot\", \"N_Tot\", \"A_Tot\", \"C_Tot\", \"O_Tot\"]]\n",
    "dat_sub_g = dat_sub_g1[dat_sub_g1.gender.isin(values) == False]"
   ]
  },
  {
   "cell_type": "code",
   "execution_count": null,
   "metadata": {},
   "outputs": [],
   "source": [
    "#Female only\n",
    "values = [0, 3, 1]\n",
    "dat_f = dat_sub_g1[dat_sub_g1.gender.isin(values) == False]"
   ]
  },
  {
   "cell_type": "code",
   "execution_count": null,
   "metadata": {},
   "outputs": [],
   "source": [
    "#Male only\n",
    "values = [0, 3, 2]\n",
    "dat_m = dat_sub_g1[dat_sub_g1.gender.isin(values) == False]"
   ]
  },
  {
   "cell_type": "markdown",
   "metadata": {},
   "source": [
    "#### Checkpoint\n",
    "The data is loaded, cleaned, processed, and subsets have been created. Now I am ready to inspect the data and answer my research questions. "
   ]
  },
  {
   "cell_type": "markdown",
   "metadata": {},
   "source": [
    "## RQ 1: Relationship Among Personality Traits\n",
    "H1 = There is a significant positive relationship between Openness and Extraversion; Openness and Agreeableness; Extraversion and Agreeableness; and Conscientousness and Agreeableness. There is a significant negative relationship between Neuroticism and Extraversion, and Neuroticism and Agreeableness.\n",
    "\n",
    "*This analysis will assess whether there are relationhsips between the factor total scores (i.e., whether the specified traits, as stated in the hypothesis, are correlated with one another)* \n"
   ]
  },
  {
   "cell_type": "code",
   "execution_count": null,
   "metadata": {},
   "outputs": [
    {
     "data": {
      "image/png": "[encoded data removed]",
      "text/plain": [
       "<Figure size 1100x900 with 2 Axes>"
      ]
     },
     "metadata": {},
     "output_type": "display_data"
    }
   ],
   "source": [
    "corr = dat_sub.corr(\"pearson\")\n",
    "\n",
    "#Hide upper triangle (repeating values, not necessary and makes the figure 'noisier')\n",
    "mask = np.triu(np.ones_like(corr, dtype=bool))\n",
    "\n",
    "# Set up the matplotlib figure\n",
    "f, ax = plt.subplots(figsize=(11, 9))\n",
    "\n",
    "# Generate a custom diverging colormap \n",
    "cmap = sb.diverging_palette(220, 2550, as_cmap=True)\n",
    "\n",
    "# Draw the heatmap with the mask and correct aspect ratio\n",
    "heat_map = sb.heatmap(corr, mask=mask, cmap = cmap, annot = True, center=0,\n",
    "            square=True, linewidths=.7).set(title = \"Correlations Among Big 5 Personality Traits\")"
   ]
  },
  {
   "cell_type": "markdown",
   "metadata": {},
   "source": [
    "### Figure 1: Correlations Among Big 5 Personality Traits\n",
    "This plot shows the Pearson's correlation among the 5 factors. The darker colours represent greater magnitude of correlation (e.g., .33 is greater than .11 so it is a darker shade). \n",
    "Regarding RQ 1, this plot supports the hypothesized relationship for: Openness and Extraversion with a correlation of .17; Openness and Agreeableness with a correlation of .12; Extraversion and Agreeableness with a correlation of .33; Agreeableness and Conscientiousness with a correlation of .18; Neuroticism and Extraversion with a correlation of "
   ]
  },
  {
   "cell_type": "code",
   "execution_count": null,
   "metadata": {},
   "outputs": [],
   "source": [
    "sb.jointplot(data = dat_sub_g, x = \"O_Tot\", y = \"E_Tot\", kind = \"reg\", scatter = False)\n",
    "\n",
    "#Regression plot with variable distributions; shows positive correlation between O and E"
   ]
  },
  {
   "cell_type": "code",
   "execution_count": null,
   "metadata": {},
   "outputs": [],
   "source": [
    "sb.jointplot(data = dat_sub_g, x = \"O_Tot\", y = \"A_Tot\", kind = \"reg\", scatter = False)\n",
    "\n",
    "#Regression plot with variable distributions; shows positive correlation between O and A"
   ]
  },
  {
   "cell_type": "code",
   "execution_count": null,
   "metadata": {},
   "outputs": [],
   "source": [
    "sb.jointplot(data = dat_sub_g, x = \"E_Tot\", y = \"A_Tot\", kind = \"reg\", scatter = False)\n",
    "\n",
    "#Regression plot with variable distributions; shows positive correlation between E and A"
   ]
  },
  {
   "cell_type": "code",
   "execution_count": null,
   "metadata": {},
   "outputs": [],
   "source": [
    "sb.jointplot(data = dat_sub_g, x = \"C_Tot\", y = \"A_Tot\", kind = \"reg\", scatter = False)\n",
    "\n",
    "#Regression plot with variable distributions; shows positive correlation between C and A"
   ]
  },
  {
   "cell_type": "code",
   "execution_count": null,
   "metadata": {},
   "outputs": [],
   "source": [
    "sb.jointplot(data = dat_sub_g, x = \"N_Tot\", y = \"E_Tot\", kind = \"reg\", scatter = False)\n",
    "\n",
    "#Regression plot with variable distributions; shows positive correlation between C and A"
   ]
  },
  {
   "cell_type": "markdown",
   "metadata": {},
   "source": [
    "## RQ 2: Relationship Between Gender and Personality Traits\n",
    "H2: Based on extant research, on average, women will show higher scores than men on Extraversion, and Agreeableness, lower scores on Neuroticism, and there are will be no significant gender differences for Conscientiousness or Openness."
   ]
  },
  {
   "cell_type": "markdown",
   "metadata": {},
   "source": [
    "### Descriptive Statistics"
   ]
  },
  {
   "cell_type": "code",
   "execution_count": null,
   "metadata": {},
   "outputs": [],
   "source": [
    "dat_m.describe().apply(lambda s: s.apply(lambda x: format(x, 'f')))\n",
    "#For males"
   ]
  },
  {
   "cell_type": "code",
   "execution_count": null,
   "metadata": {},
   "outputs": [],
   "source": [
    "dat_f.describe().apply(lambda s: s.apply(lambda x: format(x, 'f')))\n",
    "#For females"
   ]
  },
  {
   "cell_type": "code",
   "execution_count": null,
   "metadata": {},
   "outputs": [],
   "source": [
    "dat_sub_g.groupby('gender').mean()\n",
    "\n",
    "#Male higher than female - N and O\n",
    "#Female higher than male - E, A, C"
   ]
  },
  {
   "cell_type": "code",
   "execution_count": null,
   "metadata": {},
   "outputs": [],
   "source": [
    "dat_sub_g.groupby('gender').median()\n",
    "\n",
    "#Male higher than female - N and O\n",
    "#Female higher than male - E, A, C"
   ]
  },
  {
   "cell_type": "code",
   "execution_count": null,
   "metadata": {},
   "outputs": [],
   "source": [
    "print(dat_sub_g.groupby(\"gender\")['E_Tot'].describe())\n",
    "print(dat_sub_g.groupby(\"gender\")['N_Tot'].describe())\n",
    "print(dat_sub_g.groupby(\"gender\")['A_Tot'].describe())\n",
    "print(dat_sub_g.groupby(\"gender\")['C_Tot'].describe())\n",
    "print(dat_sub_g.groupby(\"gender\")['O_Tot'].describe())\n",
    "\n",
    "#Produces descriptive stats for each factor, separated by gender\n",
    "#not sure if this is useful since the previous code (above) gives mean/median by gender and I don't need all the extra stats"
   ]
  },
  {
   "cell_type": "code",
   "execution_count": null,
   "metadata": {},
   "outputs": [],
   "source": [
    "print(shapiro(dat_sub[\"E_Tot\"]))\n",
    "print(shapiro(dat_sub[\"N_Tot\"]))\n",
    "print(shapiro(dat_sub[\"A_Tot\"]))\n",
    "print(shapiro(dat_sub[\"C_Tot\"]))\n",
    "print(shapiro(dat_sub[\"O_Tot\"]))\n",
    "\n",
    "#none are normally distributed (but sample size is very large)"
   ]
  },
  {
   "cell_type": "code",
   "execution_count": null,
   "metadata": {},
   "outputs": [],
   "source": [
    "print(levene(dat_m[\"E_Tot\"], dat_f[\"E_Tot\"]))\n",
    "print(levene(dat_m[\"N_Tot\"], dat_f[\"N_Tot\"]))\n",
    "print(levene(dat_m[\"A_Tot\"], dat_f[\"A_Tot\"]))\n",
    "print(levene(dat_m[\"C_Tot\"], dat_f[\"C_Tot\"]))\n",
    "print(levene(dat_m[\"O_Tot\"], dat_f[\"O_Tot\"]))\n",
    "\n",
    "#N, A, C, and O are sig. (i.e., unequal variance across samples)\n",
    "#E is NS (i.e., equal variance across samples)"
   ]
  },
  {
   "cell_type": "code",
   "execution_count": null,
   "metadata": {},
   "outputs": [],
   "source": [
    "ttest_e = print(scipy.stats.ttest_ind(dat_m[\"E_Tot\"], dat_f[\"E_Tot\"], equal_var=True))\n",
    "ttest_n = print(scipy.stats.ttest_ind(dat_m[\"N_Tot\"], dat_f[\"N_Tot\"], equal_var=False))\n",
    "ttest_a = print(scipy.stats.ttest_ind(dat_m[\"A_Tot\"], dat_f[\"A_Tot\"], equal_var=False))\n",
    "ttest_c = print(scipy.stats.ttest_ind(dat_m[\"C_Tot\"], dat_f[\"C_Tot\"], equal_var=False))\n",
    "ttest_o = print(scipy.stats.ttest_ind(dat_m[\"O_Tot\"], dat_f[\"O_Tot\"], equal_var=False))\n",
    "\n",
    "#Can use t-test based on Central Limit Theorem (data with sufficient sample size to overcome non-normal distribution)\n",
    "#All values sig. (p < .05) --> there is significant difference in means for all factors\n",
    "    #I feel like this is wrong, there doesn't seem to be that large of a difference between means for some factors (e.g., C)\n",
    "    scipy.stats.ttest_ind"
   ]
  },
  {
   "cell_type": "markdown",
   "metadata": {},
   "source": [
    "### Visualizations"
   ]
  },
  {
   "cell_type": "code",
   "execution_count": null,
   "metadata": {},
   "outputs": [],
   "source": [
    "dat_sub_g.hist(column= \"E_Tot\", bins =20)\n",
    "dat_sub_g.hist(column= \"N_Tot\", bins =20)\n",
    "dat_sub_g.hist(column= \"A_Tot\", bins =20)\n",
    "dat_sub_g.hist(column= \"C_Tot\", bins =20)\n",
    "dat_sub_g.hist(column= \"O_Tot\", bins =20)\n",
    "\n",
    "#Shows distribution of each factor for males and females (combined)"
   ]
  },
  {
   "cell_type": "code",
   "execution_count": null,
   "metadata": {},
   "outputs": [],
   "source": [
    "dat_sub_g.hist(column= \"E_Tot\", by = \"gender\", bins=20)\n",
    "dat_sub_g.hist(column= \"N_Tot\", by = \"gender\", bins=20)\n",
    "dat_sub_g.hist(column= \"A_Tot\", by = \"gender\", bins=20)\n",
    "dat_sub_g.hist(column= \"C_Tot\", by = \"gender\", bins=20)\n",
    "dat_sub_g.hist(column= \"O_Tot\", by = \"gender\", bins=20)\n",
    "\n",
    "#Shows distribution of each factor for males and females (separately)"
   ]
  },
  {
   "cell_type": "code",
   "execution_count": null,
   "metadata": {},
   "outputs": [],
   "source": [
    "dat_sub_g.groupby(\"gender\").mean().plot.bar(grid=True, width =.5, alpha = .90)\n",
    "\n",
    "#Shows mean score on each factor separated by gender \n",
    "#Males higher on O and N\n",
    "#Females higher on E, A, C\n",
    "#Note: similar pattern except males higher on N than E and females higher on E than N; males higher on O than A and females higher on A than O "
   ]
  },
  {
   "cell_type": "code",
   "execution_count": null,
   "metadata": {},
   "outputs": [],
   "source": [
    "sb.boxplot(x = \"gender\", y = \"E_Tot\", data = dat_sub_g)\n",
    "#Boxplot showing scores on factor E separated by gender and shows the lower, middle, and upper quartile (i.e., 25th, 50th, and 75th percentile, respectively) as well as any outliers (if detected)\n",
    "#Females higher than males"
   ]
  },
  {
   "cell_type": "code",
   "execution_count": null,
   "metadata": {},
   "outputs": [],
   "source": [
    "sb.boxplot(x = \"gender\", y = \"N_Tot\", data = dat_sub_g)\n",
    "#Boxplot showing scores on factor N separated by gender and shows the lower, middle, and upper quartile (i.e., 25th, 50th, and 75th percentile, respectively) as well as any outliers (if detected)\n",
    "#Males higher than females"
   ]
  },
  {
   "cell_type": "code",
   "execution_count": null,
   "metadata": {},
   "outputs": [],
   "source": [
    "sb.boxplot(x = \"gender\", y = \"A_Tot\", data = dat_sub_g)\n",
    "#Boxplot showing scores on factor A separated by gender and shows the lower, middle, and upper quartile (i.e., 25th, 50th, and 75th percentile, respectively) as well as any outliers (if detected)\n",
    "#Females higher than males; shows outliers below bottom whisker (less than -1.5 x the interquartile range), negatively skewed data"
   ]
  },
  {
   "cell_type": "code",
   "execution_count": null,
   "metadata": {},
   "outputs": [],
   "source": [
    "sb.boxplot(x = \"gender\", y = \"C_Tot\", data = dat_sub_g)\n",
    "#Boxplot showing scores on factor C separated by gender and shows the lower, middle, and upper quartile (i.e., 25th, 50th, and 75th percentile, respectively) as well as any outliers (if detected)\n",
    "#Females higher than males (although very close); few outliers on bottom, slight negatively skewed data"
   ]
  },
  {
   "cell_type": "code",
   "execution_count": null,
   "metadata": {},
   "outputs": [],
   "source": [
    "sb.boxplot(x = \"gender\", y = \"O_Tot\", data = dat_sub_g)\n",
    "#Boxplot showing scores on factor O separated by gender and shows the lower, middle, and upper quartile (i.e., 25th, 50th, and 75th percentile, respectively) as well as any outliers (if detected)    \n",
    "#Males higher than females; shows outliers below bottom whisker (less than -1.5 x the interquartile range), negatively skewed data "
   ]
  },
  {
   "cell_type": "code",
   "execution_count": null,
   "metadata": {},
   "outputs": [],
   "source": [
    "sb.violinplot(data = dat_sub_g, x = \"gender\", y = \"E_Tot\")\n",
    "#Violin plot showing density of scores on factor E, separated by gender -- width corresponds frequency (i.e., widest part corresponds to the most frequent score)"
   ]
  },
  {
   "cell_type": "code",
   "execution_count": null,
   "metadata": {},
   "outputs": [],
   "source": [
    "sb.violinplot(data = dat_sub_g, x = \"gender\", y = \"N_Tot\")\n",
    "#Violin plot showing density of scores on factor N, separated by gender -- width corresponds frequency (i.e., widest part corresponds to the most frequent score)"
   ]
  },
  {
   "cell_type": "code",
   "execution_count": null,
   "metadata": {},
   "outputs": [],
   "source": [
    "sb.violinplot(data = dat_sub_g, x = \"gender\", y = \"A_Tot\")\n",
    "#Violin plot showing density of scores on factor A, separated by gender -- width corresponds frequency (i.e., widest part corresponds to the most frequent score)"
   ]
  },
  {
   "cell_type": "code",
   "execution_count": null,
   "metadata": {},
   "outputs": [],
   "source": [
    "sb.violinplot(data = dat_sub_g, x = \"gender\", y = \"C_Tot\")\n",
    "#Violin plot showing density of scores on factor C, separated by gender -- width corresponds frequency (i.e., widest part corresponds to the most frequent score)"
   ]
  },
  {
   "cell_type": "code",
   "execution_count": null,
   "metadata": {},
   "outputs": [],
   "source": [
    "sb.violinplot(data = dat_sub_g, x = \"gender\", y = \"O_Tot\")\n",
    "#Violin plot showing density of scores on factor O, separated by gender -- width corresponds frequency (i.e., widest part corresponds to the most frequent score)"
   ]
  },
  {
   "cell_type": "code",
   "execution_count": null,
   "metadata": {},
   "outputs": [],
   "source": [
    "sb.stripplot(x = \"gender\", y = \"E_Tot\", data = dat_sub_g, jitter = True)"
   ]
  },
  {
   "cell_type": "code",
   "execution_count": null,
   "metadata": {},
   "outputs": [],
   "source": [
    "grid = sb.PairGrid(dat_sub_g, hue = \"gender\")\n",
    "grid.map_diag(plt.hist, alpha = .3)\n",
    "grid.map_upper(plt.scatter, alpha = .2)\n",
    "grid.map_lower(sb.kdeplot)\n",
    "#Not useful, comparing factors with each other instead of gender"
   ]
  },
  {
   "cell_type": "code",
   "execution_count": null,
   "metadata": {},
   "outputs": [],
   "source": [
    "sb.lmplot(data = dat_sub_g, x = \"E_Tot\", y = \"N_Tot\", hue = \"gender\", palette = \"Set2\", scatter = False)\n",
    "print(sb.lmplot(data = dat_sub_g, x = \"E_Tot\", y = \"N_Tot\", scatter = False))"
   ]
  },
  {
   "cell_type": "code",
   "execution_count": null,
   "metadata": {},
   "outputs": [],
   "source": [
    "sb.lmplot(data = dat_sub_g, x = \"E_Tot\", y = \"A_Tot\", hue = \"gender\", palette = \"Set2\", scatter = False)\n",
    "print(sb.lmplot(data = dat_sub_g, x = \"E_Tot\", y = \"A_Tot\", scatter = False))"
   ]
  },
  {
   "cell_type": "code",
   "execution_count": null,
   "metadata": {},
   "outputs": [],
   "source": [
    "sb.lmplot(data = dat_sub_g, x = \"E_Tot\", y = \"C_Tot\", hue = \"gender\", palette = \"Set2\", scatter = False)\n",
    "print(sb.lmplot(data = dat_sub_g, x = \"E_Tot\", y = \"C_Tot\", scatter = False))"
   ]
  },
  {
   "cell_type": "code",
   "execution_count": null,
   "metadata": {},
   "outputs": [],
   "source": [
    "sb.lmplot(data = dat_sub_g, x = \"E_Tot\", y = \"O_Tot\", hue = \"gender\", palette = \"Set2\", scatter = False)\n",
    "print(sb.lmplot(data = dat_sub_g, x = \"E_Tot\", y = \"O_Tot\", scatter = False))"
   ]
  },
  {
   "cell_type": "code",
   "execution_count": null,
   "metadata": {},
   "outputs": [],
   "source": [
    "print(sb.lmplot(data = dat_sub_g, x = \"N_Tot\", y = \"A_Tot\", hue = \"gender\", palette = \"Set2\", scatter = False))\n",
    "print(sb.lmplot(data = dat_sub_g, x = \"N_Tot\", y = \"A_Tot\", scatter = False))"
   ]
  },
  {
   "cell_type": "code",
   "execution_count": null,
   "metadata": {},
   "outputs": [],
   "source": [
    "print(sb.lmplot(data = dat_sub_g, x = \"N_Tot\", y = \"C_Tot\", hue = \"gender\", palette = \"Set2\", scatter = False))\n",
    "print(sb.lmplot(data = dat_sub_g, x = \"N_Tot\", y = \"C_Tot\", scatter = False))"
   ]
  },
  {
   "cell_type": "code",
   "execution_count": null,
   "metadata": {},
   "outputs": [],
   "source": [
    "print(sb.lmplot(data = dat_sub_g, x = \"N_Tot\", y = \"O_Tot\", hue = \"gender\", palette = \"Set2\", scatter = False))\n",
    "print(sb.lmplot(data = dat_sub_g, x = \"N_Tot\", y = \"O_Tot\", scatter = False))"
   ]
  },
  {
   "cell_type": "code",
   "execution_count": null,
   "metadata": {},
   "outputs": [],
   "source": [
    "print(sb.lmplot(data = dat_sub_g, x = \"A_Tot\", y = \"C_Tot\", hue = \"gender\", palette = \"Set2\", scatter = False))\n",
    "print(sb.lmplot(data = dat_sub_g, x = \"A_Tot\", y = \"C_Tot\", scatter = False))"
   ]
  },
  {
   "cell_type": "code",
   "execution_count": null,
   "metadata": {},
   "outputs": [],
   "source": [
    "print(sb.lmplot(data = dat_sub_g, x = \"A_Tot\", y = \"O_Tot\", hue = \"gender\", palette = \"Set2\", scatter = False))\n",
    "print(sb.lmplot(data = dat_sub_g, x = \"A_Tot\", y = \"O_Tot\", scatter = False))"
   ]
  },
  {
   "cell_type": "code",
   "execution_count": null,
   "metadata": {},
   "outputs": [],
   "source": [
    "print(sb.lmplot(data = dat_sub_g, x = \"C_Tot\", y = \"O_Tot\", hue = \"gender\", palette = \"Set2\", scatter = False))\n",
    "print(sb.lmplot(data = dat_sub_g, x = \"C_Tot\", y = \"O_Tot\", scatter = False))"
   ]
  },
  {
   "cell_type": "code",
   "execution_count": null,
   "metadata": {},
   "outputs": [],
   "source": []
  },
  {
   "cell_type": "code",
   "execution_count": null,
   "metadata": {},
   "outputs": [],
   "source": [
    "sb.countplot(dat_sub_g, x = \"E_Tot\")"
   ]
  }
 ],
 "metadata": {
  "kernelspec": {
   "display_name": "Python 3 (ipykernel)",
   "language": "python",
   "name": "python3"
  }
 },
 "nbformat": 4,
 "nbformat_minor": 4
}
