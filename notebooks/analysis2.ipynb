{
 "cells": [
  {
   "cell_type": "markdown",
   "metadata": {},
   "source": [
    "# Ella Serber"
   ]
  },
  {
   "cell_type": "markdown",
   "metadata": {},
   "source": [
    "## Research question/interests\n",
    "My primary research question asks: Is there a relationship between gender and personality traits?\n",
    "    \n",
    " Hypothesis 1: There is a significant relationship between gender and personality traits. \n",
    "\n",
    "My secondary research question asks: How do scores between men and women differ on the 5 personality traits?\n",
    "    \n",
    "Hypothesis 2: Based on extant research, on average, women will show higher scores than men on Extraversion,          Agreeableness, and Neuroticism and there are will be no significant gender differences for Conscientiousness or Openness."
   ]
  },
  {
   "cell_type": "code",
   "execution_count": null,
   "metadata": {},
   "outputs": [],
   "source": [
    "import pandas as pd"
   ]
  },
  {
   "cell_type": "code",
   "execution_count": null,
   "metadata": {},
   "outputs": [],
   "source": [
    "dat = pd.read_csv(\"../data/raw/data.csv\", sep='\\t')\n",
    "dat"
   ]
  }
 ],
 "metadata": {
  "kernelspec": {
   "display_name": "Python 3",
   "language": "python",
   "name": "python3"
  }
 },
 "nbformat": 4,
 "nbformat_minor": 4
}
