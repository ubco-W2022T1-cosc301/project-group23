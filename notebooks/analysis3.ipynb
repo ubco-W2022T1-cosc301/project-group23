{
 "cells": [
  {
   "cell_type": "markdown",
   "metadata": {},
   "source": [
    "# Minju Yu"
   ]
  },
  {
   "cell_type": "markdown",
   "metadata": {},
   "source": [
    "## Research question/interests\n",
    "\n",
    "My research question asks: Is there a relationship between personality traits and race?\n",
    "\n",
    "Previous research shows the relationship between personality traits among various cultures and ethnicity. Cultures and ethnicity influence socialization patterns, which shape some of the variances of personality (Triandis & Suh, 2002). However, limited research investigates the relationship between personality traits and race. Therefore, I would like to investigate the relationship between personality traits and race. I hypothesize that a particular race group would show higher scores on the big five personality traits (extraversion, neuroticism, agreeableness, conscientiousness, openness) than other race groups."
   ]
  },
  {
   "cell_type": "code",
   "execution_count": null,
   "metadata": {},
   "outputs": [],
   "source": [
    "import pandas as pd\n",
    "import numpy as np\n",
    "import matplotlib.pyplot as plt\n",
    "import seaborn as sns"
   ]
  },
  {
   "cell_type": "code",
   "execution_count": null,
   "metadata": {},
   "outputs": [],
   "source": [
    "df_raw = pd.read_csv(\"../data/raw/data.csv\", sep='\\t')\n",
    "df_raw"
   ]
  },
  {
   "cell_type": "markdown",
   "metadata": {},
   "source": [
    "## Task 1: EDA\n",
    "Looking at the shape and general trends in the data:"
   ]
  },
  {
   "cell_type": "code",
   "execution_count": null,
   "metadata": {},
   "outputs": [],
   "source": [
    "df_raw.shape"
   ]
  },
  {
   "cell_type": "code",
   "execution_count": null,
   "metadata": {},
   "outputs": [],
   "source": [
    "df_raw.head()"
   ]
  },
  {
   "cell_type": "code",
   "execution_count": null,
   "metadata": {},
   "outputs": [],
   "source": [
    "df_raw.columns"
   ]
  },
  {
   "cell_type": "code",
   "execution_count": null,
   "metadata": {},
   "outputs": [],
   "source": [
    "df_raw.describe()"
   ]
  },
  {
   "cell_type": "code",
   "execution_count": null,
   "metadata": {},
   "outputs": [],
   "source": [
    "df_raw.nunique()"
   ]
  },
  {
   "cell_type": "markdown",
   "metadata": {},
   "source": [
    "The following columns are not useful to me and I will remove these in Task 2: age, engnat, gender, hand, source, country.\n",
    "\n",
    "Examining the race column further:"
   ]
  },
  {
   "cell_type": "code",
   "execution_count": null,
   "metadata": {},
   "outputs": [],
   "source": [
    "df_raw.race.unique()"
   ]
  },
  {
   "cell_type": "markdown",
   "metadata": {},
   "source": [
    "There are 14 race values; I will rename them using the codebook and categorize/ remove them if needed in Task 2.\n",
    "\n",
    "Examining personality traits columns further:"
   ]
  },
  {
   "cell_type": "code",
   "execution_count": null,
   "metadata": {},
   "outputs": [],
   "source": [
    "df_raw.filter(regex='E').describe()"
   ]
  },
  {
   "cell_type": "markdown",
   "metadata": {},
   "source": [
    "There are 10 extraversion items; I will calculate a total score and create a column for extraversion in Task 2. According to the codebook, certain items are reverse scored; I will manage it in Task 2."
   ]
  },
  {
   "cell_type": "code",
   "execution_count": null,
   "metadata": {},
   "outputs": [],
   "source": [
    "df_raw.filter(regex='N').describe()"
   ]
  },
  {
   "cell_type": "markdown",
   "metadata": {},
   "source": [
    "There are 10 neuroticism items; I will calculate a total score and create a column for neuroticism in Task 2. According to the codebook, certain items are reverse scored; I will manage it in Task 2."
   ]
  },
  {
   "cell_type": "code",
   "execution_count": null,
   "metadata": {},
   "outputs": [],
   "source": [
    "df_raw.filter(regex='A').describe()"
   ]
  },
  {
   "cell_type": "markdown",
   "metadata": {},
   "source": [
    "There are 10 agreeableness items; I will calculate a total score and create a column for agreeableness in Task 2. According to the codebook, certain items are reverse scored; I will manage it in Task 2."
   ]
  },
  {
   "cell_type": "code",
   "execution_count": null,
   "metadata": {},
   "outputs": [],
   "source": [
    "df_raw.filter(regex='C').describe()"
   ]
  },
  {
   "cell_type": "markdown",
   "metadata": {},
   "source": [
    "There are 10 conscientiousness items; I will calculate a total score and create a column for conscientiousness in Task 2. According to the codebook, certain items are reverse scored; I will manage it in Task 2."
   ]
  },
  {
   "cell_type": "code",
   "execution_count": null,
   "metadata": {},
   "outputs": [],
   "source": [
    "df_raw.filter(regex='O').describe()"
   ]
  },
  {
   "cell_type": "markdown",
   "metadata": {},
   "source": [
    "There are 10 openness items; I will calculate a total score and create a column for openness in Task 2. According to the codebook, certain items are reverse scored; I will manage it in Task 2.\n",
    "\n",
    "I am interested in the relationship between race and personality traits, so I will do a few plots to get a visual idea of the trends:"
   ]
  },
  {
   "cell_type": "code",
   "execution_count": null,
   "metadata": {},
   "outputs": [],
   "source": [
    "df_raw.hist(column = \"E1\", by = \"race\", figsize=(10, 10))"
   ]
  },
  {
   "cell_type": "markdown",
   "metadata": {},
   "source": [
    "This plot shows the distribution of one item of extraversion for all races. Some races seem to have a similar trend of increasing and then decreasing extraversion scores; however, it is hard to distinguish the difference. I will not be likely to use this plot to analyze the data."
   ]
  },
  {
   "cell_type": "code",
   "execution_count": null,
   "metadata": {},
   "outputs": [],
   "source": [
    "df_raw_eda = df_raw[['race','E1','N2','A2','C1','O1']].copy()\n",
    "bargraph_eda = df_raw_eda.groupby('race').mean().plot.bar()\n",
    "plt.legend(bbox_to_anchor=(1.0,1.0))"
   ]
  },
  {
   "cell_type": "markdown",
   "metadata": {},
   "source": [
    "This plot shows the mean average for one item of each personality trait, separated by race. All races seem to have the highest score on agreeableness and the lowest score on extraversion."
   ]
  },
  {
   "cell_type": "code",
   "execution_count": null,
   "metadata": {},
   "outputs": [],
   "source": [
    "sns.lmplot(df_raw, x='E1', y='N2', hue='race', scatter=False)"
   ]
  },
  {
   "cell_type": "markdown",
   "metadata": {},
   "source": [
    "This plot shows the relationship between one item of neuroticism and extraversion for all races. Most races seem to have a weak positive relationship between neuroticism and extraversion."
   ]
  },
  {
   "cell_type": "code",
   "execution_count": null,
   "metadata": {},
   "outputs": [],
   "source": [
    "sns.lmplot(df_raw, x='E1', y='A2', hue='race', scatter=False)"
   ]
  },
  {
   "cell_type": "markdown",
   "metadata": {},
   "source": [
    "This plot shows the relationship between one item of agreeableness and extraversion for all races. Most races seem to have a weak positive relationship between agreeableness and extraversion."
   ]
  },
  {
   "cell_type": "code",
   "execution_count": null,
   "metadata": {},
   "outputs": [],
   "source": [
    "sns.lmplot(df_raw, x='E1', y='C1', hue='race', scatter=False)"
   ]
  },
  {
   "cell_type": "markdown",
   "metadata": {},
   "source": [
    "This plot shows the relationship between one item of conscientiousness and extraversion for all races. The relationship between conscientiousness and extraversion varies among races; it would be interesting to take a closer look at this relationship."
   ]
  },
  {
   "cell_type": "code",
   "execution_count": null,
   "metadata": {},
   "outputs": [],
   "source": [
    "sns.lmplot(df_raw, x='E1', y='O1', hue='race', scatter=False)"
   ]
  },
  {
   "cell_type": "markdown",
   "metadata": {},
   "source": [
    "This plot shows the relationship between one item of openness and extraversion for all races. Most races seem to have no relationship between openness and extraversion."
   ]
  },
  {
   "cell_type": "code",
   "execution_count": null,
   "metadata": {},
   "outputs": [],
   "source": [
    "sns.lmplot(df_raw, x='N2', y='A2', hue='race', scatter=False)"
   ]
  },
  {
   "cell_type": "markdown",
   "metadata": {},
   "source": [
    "This plot shows the relationship between one item of agreeableness and neuroticism for all races. All races seem to have a weak positive relationship between agreeableness and neuroticism."
   ]
  },
  {
   "cell_type": "code",
   "execution_count": null,
   "metadata": {},
   "outputs": [],
   "source": [
    "sns.lmplot(df_raw, x='N2', y='C1', hue='race', scatter=False)"
   ]
  },
  {
   "cell_type": "markdown",
   "metadata": {},
   "source": [
    "This plot shows the relationship between one item of conscientiousness and neuroticism for all races. All races seem to have a weak positive relationship between conscientiousness and neuroticism."
   ]
  },
  {
   "cell_type": "code",
   "execution_count": null,
   "metadata": {},
   "outputs": [],
   "source": [
    "sns.lmplot(df_raw, x='N2', y='O1', hue='race', scatter=False)"
   ]
  },
  {
   "cell_type": "markdown",
   "metadata": {},
   "source": [
    "This plot shows the relationship between one item of openness and neuroticism for all races. Most races seem to have no relationship between openness and neuroticism."
   ]
  },
  {
   "cell_type": "code",
   "execution_count": null,
   "metadata": {},
   "outputs": [],
   "source": [
    "sns.lmplot(df_raw, x='A2', y='C1', hue='race', scatter=False)"
   ]
  },
  {
   "cell_type": "markdown",
   "metadata": {},
   "source": [
    "This plot shows the relationship between one item of conscientiousness and agreeableness for all races. Most races seem to have a weak positive relationship between conscientiousness and agreeableness."
   ]
  },
  {
   "cell_type": "code",
   "execution_count": null,
   "metadata": {},
   "outputs": [],
   "source": [
    "sns.lmplot(df_raw, x='A2', y='O1', hue='race', scatter=False)"
   ]
  },
  {
   "cell_type": "markdown",
   "metadata": {},
   "source": [
    "This plot shows the relationship between one item of openness and agreeableness for all races. Most races seem to have no relationship between openness and agreeableness."
   ]
  },
  {
   "cell_type": "code",
   "execution_count": null,
   "metadata": {},
   "outputs": [],
   "source": [
    "sns.lmplot(df_raw, x='C1', y='O1', hue='race', scatter=False)"
   ]
  },
  {
   "cell_type": "markdown",
   "metadata": {},
   "source": [
    "This plot shows the relationship between one item of openness and conscientiousness for all races. Most races seem to have a weak positive relationship between openness and conscientiousness.\n",
    "\n",
    "I now have a good idea of the trends in the data relevant to my research question. There seems to be no significant relationship between personality traits and race."
   ]
  },
  {
   "cell_type": "markdown",
   "metadata": {},
   "source": [
    "## Task 2: Data Analysis Pipeline\n",
    "\n",
    "#### 1. Load Data (already done)\n",
    "#### 2. Clean Data\n",
    "\n",
    "Remove columns that are not relevant to my research question: age, engnat, gender, hand, source, country."
   ]
  },
  {
   "cell_type": "code",
   "execution_count": null,
   "metadata": {},
   "outputs": [],
   "source": [
    "df_new = df_raw.copy().drop(['age', 'engnat', 'gender', 'hand', 'source', 'country'], axis=1)"
   ]
  },
  {
   "cell_type": "markdown",
   "metadata": {},
   "source": [
    "Check for missing data: None and NaN values."
   ]
  },
  {
   "cell_type": "code",
   "execution_count": null,
   "metadata": {},
   "outputs": [],
   "source": [
    "pd.isnull(df_new).values.any()"
   ]
  },
  {
   "cell_type": "code",
   "execution_count": null,
   "metadata": {},
   "outputs": [],
   "source": [
    "np.isnan(df_new).values.any()"
   ]
  },
  {
   "cell_type": "markdown",
   "metadata": {},
   "source": [
    "There are neither None nor NaN values. Good!\n",
    "\n",
    "#### 3. Process Data\n",
    "According to the codebook, items were rated on a five-point scale where 1=Disagree, 3=Neutral, 5=Agree (0=missed). <br>\n",
    "Reverse score certain items: E2, E4, E6, E8, E10, N1, N3, N5, N6, N7, N8, N9, N10, A1, A3, A5, A7, C2, C4, C6, C8, O2, O4, O6."
   ]
  },
  {
   "cell_type": "code",
   "execution_count": null,
   "metadata": {},
   "outputs": [],
   "source": [
    "#Reverse Scored Items: E2, E4, E6, E8, E10, N1, N3, N5, N6, N7, N8, N9, N10, A1, A3, A5, A7, C2, C4, C6, C8, O2, O4, O6\n",
    "\n",
    "def reverseScoring(df, high, cols):\n",
    "    '''\n",
    "    Reverse scores on given column(s).\n",
    "    \n",
    "    Arguments:\n",
    "    df - the data frame\n",
    "    high - (int) the highest score available\n",
    "    cols - the column(s) to reverse\n",
    "    '''\n",
    "    df[cols] = high - df[cols]\n",
    "    return df"
   ]
  },
  {
   "cell_type": "code",
   "execution_count": null,
   "metadata": {},
   "outputs": [],
   "source": [
    "df_new = reverseScoring(df_new, 6, cols=['E2','E4','E6','E8','E10','N1','N3','N5','N6','N7','N8','N9','N10','A1','A3','A5','A7','C2','C4','C6','C8','O2','O4','O6'])"
   ]
  },
  {
   "cell_type": "markdown",
   "metadata": {},
   "source": [
    "Create factor total scores for big five personality traits: extroversion, neuroticism, agreeableness, conscientiousness, openness."
   ]
  },
  {
   "cell_type": "code",
   "execution_count": null,
   "metadata": {},
   "outputs": [],
   "source": [
    "df_new['E_Total'] = df_new.loc[:, 'E1':'E10'].sum(axis=1)\n",
    "df_new['N_Total'] = df_new.loc[:, 'N1':'N10'].sum(axis=1)\n",
    "df_new['A_Total'] = df_new.loc[:, 'A1':'A10'].sum(axis=1)\n",
    "df_new['C_Total'] = df_new.loc[:, 'C1':'C10'].sum(axis=1)\n",
    "df_new['O_Total'] = df_new.loc[:, 'O1':'O10'].sum(axis=1)"
   ]
  },
  {
   "cell_type": "markdown",
   "metadata": {},
   "source": [
    "This data contains 14 race values. According to the codebook, each code refers to:\n",
    "\n",
    "0 = Missing <br>\n",
    "1 = Mixed Race <br>\n",
    "2 = Arctic (Siberian, Eskimo) <br>\n",
    "3 = Caucasian (European) <br>\n",
    "4 = Caucasian (Indian) <br>\n",
    "5 = Caucasian (Middle East) <br>\n",
    "6 = Caucasian (North African, Other) <br>\n",
    "7 = Indigenous Australian <br>\n",
    "8 = Native American <br>\n",
    "9 = North East Asian (Mongol, Tibetan, Korean, Japanese, etc.) <br>\n",
    "10 = Pacific (Polynesian, Micronesian, etc.) <br>\n",
    "11 = South East Asian (Chinese, Thai, Malay, Filipino, etc.) <br>\n",
    "12 = West African, Bushmen <br>\n",
    "13 = Other\n",
    "\n",
    "Remove 0, 1 and 13 and categorize into 5 groups.\n",
    "\n",
    "0. American Indian or Alaska Native: 2,8\n",
    "1. Asian: 9,11\n",
    "2. Black or African American: 7,12\n",
    "3. Native Hawaiian or Other Pacific Islander: 10\n",
    "4. White: 3,4,5,6"
   ]
  },
  {
   "cell_type": "code",
   "execution_count": null,
   "metadata": {},
   "outputs": [],
   "source": [
    "df_new = df_new[df_new['race'] != 0]\n",
    "df_new = df_new[df_new['race'] != 1]\n",
    "df_new = df_new[df_new['race'] != 13]"
   ]
  },
  {
   "cell_type": "code",
   "execution_count": null,
   "metadata": {},
   "outputs": [],
   "source": [
    "df_new = df_new.replace({'race':2},100)\n",
    "df_new = df_new.replace({'race':8},100)\n",
    "df_new = df_new.replace({'race':9},101)\n",
    "df_new = df_new.replace({'race':11},101)\n",
    "df_new = df_new.replace({'race':7},102)\n",
    "df_new = df_new.replace({'race':12},102)\n",
    "df_new = df_new.replace({'race':10},103)\n",
    "df_new = df_new.replace({'race':3},104)\n",
    "df_new = df_new.replace({'race':4},104)\n",
    "df_new = df_new.replace({'race':5},104)\n",
    "df_new = df_new.replace({'race':6},104)"
   ]
  },
  {
   "cell_type": "code",
   "execution_count": null,
   "metadata": {},
   "outputs": [],
   "source": [
    "df_new = df_new.replace({'race':100},0)\n",
    "df_new = df_new.replace({'race':101},1)\n",
    "df_new = df_new.replace({'race':102},2)\n",
    "df_new = df_new.replace({'race':103},3)\n",
    "df_new = df_new.replace({'race':104},4)"
   ]
  },
  {
   "cell_type": "code",
   "execution_count": null,
   "metadata": {},
   "outputs": [],
   "source": [
    "df_new"
   ]
  },
  {
   "cell_type": "markdown",
   "metadata": {},
   "source": [
    "#### 4. Wrangle Data\n",
    "Create a data frame that only contains relevant to my research question:\n",
    "- Categorized race: American Indian or Alaska Native, Asian, Black or African American, Native Hawaiian or Other Pacific Islander, White.\n",
    "- Factor total scores for the big five personality traits: Extroversion, Neuroticism, Agreeableness, Conscientiousness, Openness."
   ]
  },
  {
   "cell_type": "code",
   "execution_count": null,
   "metadata": {},
   "outputs": [],
   "source": [
    "df_cleaned = df_new[['race', 'E_Total', 'N_Total', 'A_Total', 'C_Total', 'O_Total']]"
   ]
  },
  {
   "cell_type": "markdown",
   "metadata": {},
   "source": [
    "Rename columns for the big five personality traits and race."
   ]
  },
  {
   "cell_type": "code",
   "execution_count": null,
   "metadata": {},
   "outputs": [],
   "source": [
    "df_cleaned = df_cleaned.rename(columns={'E_Total':'Extraversion',\n",
    "                                       'N_Total':'Neuroticism',\n",
    "                                       'A_Total':'Agreeableness',\n",
    "                                       'C_Total':'Conscientiousness',\n",
    "                                       'O_Total':'Openness',\n",
    "                                       'race':'Race'})"
   ]
  },
  {
   "cell_type": "code",
   "execution_count": null,
   "metadata": {},
   "outputs": [],
   "source": [
    "df_cleaned = df_cleaned.replace({'Race':0}, 'American Indian or Alaska Native')\n",
    "df_cleaned = df_cleaned.replace({'Race':1}, 'Asian')\n",
    "df_cleaned = df_cleaned.replace({'Race':2}, 'Black or African American')\n",
    "df_cleaned = df_cleaned.replace({'Race':3}, 'Native Hawaiian or Other Pacific Islander')\n",
    "df_cleaned = df_cleaned.replace({'Race':4}, 'White')"
   ]
  },
  {
   "cell_type": "code",
   "execution_count": null,
   "metadata": {},
   "outputs": [],
   "source": [
    "df_cleaned"
   ]
  },
  {
   "cell_type": "markdown",
   "metadata": {},
   "source": [
    "## Task 3: Method Chaining and writing Python programs\n",
    "Step 1: Build and test the method chain(s). <br>\n",
    "Transfer the steps to load, clean, process, and wrangle the data in Task 2 into a .py file.\n",
    "#### Load package(s) and function(s):"
   ]
  },
  {
   "cell_type": "code",
   "execution_count": null,
   "metadata": {},
   "outputs": [],
   "source": [
    "import pandas as pd\n",
    "import project_functions3 as pf3"
   ]
  },
  {
   "cell_type": "markdown",
   "metadata": {},
   "source": [
    "#### Method Chain 1:\n",
    "Method chain to load a .csv file and drop unwanted columns."
   ]
  },
  {
   "cell_type": "code",
   "execution_count": null,
   "metadata": {},
   "outputs": [],
   "source": [
    "df_1 = (pd.read_csv(\"../data/raw/data.csv\", sep='\\t')\n",
    "        .copy().drop(['age', 'engnat', 'gender', 'hand', 'source', 'country'], axis=1))\n",
    "df_1"
   ]
  },
  {
   "cell_type": "markdown",
   "metadata": {},
   "source": [
    "#### Method Chain 2:\n",
    "Method chain to reverse score items that are reverse-coded and assign new columns containing factor total scores by summing scores on the constituent items for each factor."
   ]
  },
  {
   "cell_type": "code",
   "execution_count": null,
   "metadata": {},
   "outputs": [],
   "source": [
    "def reverseScoring(df, high, cols):\n",
    "    '''\n",
    "    Reverse scores on given column(s).\n",
    "    \n",
    "    Arguments:\n",
    "    df - the data frame\n",
    "    high - (int) the highest score available\n",
    "    cols - the column(s) to reverse\n",
    "    '''\n",
    "    df[cols] = high - df[cols]\n",
    "    return df\n",
    "\n",
    "df_1 = reverseScoring(df_1, 6, cols=['E2','E4','E6','E8','E10','N1','N3','N5','N6','N7','N8','N9','N10','A1','A3','A5','A7','C2','C4','C6','C8','O2','O4','O6'])\n",
    "\n",
    "df_2 = (pd.DataFrame(df_1)\n",
    "        .assign(E_Total=lambda x: df_1.loc[:, 'E1':'E10'].sum(axis=1))\n",
    "        .assign(N_Total=lambda x: df_1.loc[:, 'N1':'N10'].sum(axis=1))\n",
    "        .assign(A_Total=lambda x: df_1.loc[:, 'A1':'A10'].sum(axis=1))\n",
    "        .assign(C_Total=lambda x: df_1.loc[:, 'C1':'C10'].sum(axis=1))\n",
    "        .assign(O_Total=lambda x: df_1.loc[:, 'O1':'O10'].sum(axis=1)))\n",
    "\n",
    "df_2"
   ]
  },
  {
   "cell_type": "markdown",
   "metadata": {},
   "source": [
    "Step 2: Wrap the method chain(s) in a function."
   ]
  },
  {
   "cell_type": "code",
   "execution_count": null,
   "metadata": {},
   "outputs": [],
   "source": [
    "import project_functions3 as pf3\n",
    "df = pf3.load_and_process(\"../data/raw/data.csv\")\n",
    "df"
   ]
  },
  {
   "cell_type": "markdown",
   "metadata": {},
   "source": [
    "Nice and clean!\n",
    "## Task 4: Analysis for the Research Question(s)"
   ]
  },
  {
   "cell_type": "code",
   "execution_count": null,
   "metadata": {},
   "outputs": [],
   "source": [
    "import pandas as pd\n",
    "import numpy as np\n",
    "import matplotlib.pyplot as plt\n",
    "import seaborn as sns"
   ]
  },
  {
   "cell_type": "code",
   "execution_count": null,
   "metadata": {},
   "outputs": [],
   "source": [
    "import project_functions3 as pf3\n",
    "df = pf3.load_and_process(\"../data/raw/data.csv\")\n",
    "df"
   ]
  },
  {
   "cell_type": "code",
   "execution_count": null,
   "metadata": {},
   "outputs": [],
   "source": [
    "# I should have done this using method chaining; however, I could not find an effective way to do it.\n",
    "\n",
    "df = df[df['race'] != 0]\n",
    "df = df[df['race'] != 1]\n",
    "df = df[df['race'] != 13]\n",
    "\n",
    "df = df.replace({'race':2},'American Indian or Alaska Native')\n",
    "df = df.replace({'race':8},'American Indian or Alaska Native')\n",
    "df = df.replace({'race':9},'Asian')\n",
    "df = df.replace({'race':11},'Asian')\n",
    "df = df.replace({'race':7},'Black or African American')\n",
    "df = df.replace({'race':12},'Black or African American')\n",
    "df = df.replace({'race':10},'Native Hawaiian or Other Pacific Islander')\n",
    "df = df.replace({'race':3},'White')\n",
    "df = df.replace({'race':4},'White')\n",
    "df = df.replace({'race':5},'White')\n",
    "df = df.replace({'race':6},'White')\n",
    "\n",
    "df_cleaned = df[['race', 'E_Total', 'N_Total', 'A_Total', 'C_Total', 'O_Total']]\n",
    "df_cleaned = df_cleaned.rename(columns={'E_Total':'Extraversion',\n",
    "                                       'N_Total':'Neuroticism',\n",
    "                                       'A_Total':'Agreeableness',\n",
    "                                       'C_Total':'Conscientiousness',\n",
    "                                       'O_Total':'Openness',\n",
    "                                       'race':'Race'})\n",
    "\n",
    "df_cleaned"
   ]
  },
  {
   "cell_type": "markdown",
   "metadata": {},
   "source": [
    "#### My research question asks: Is there a relationship between personality traits and race?"
   ]
  },
  {
   "cell_type": "code",
   "execution_count": null,
   "metadata": {},
   "outputs": [],
   "source": [
    "df_cleaned.groupby('Race').mean().plot.bar(grid=True, width=.5, alpha=.90).set(title = 'Mean Factor Score by Race', xlabel = ' ',  ylabel = 'Mean Factor Score')\n",
    "plt.xticks(rotation=70)\n",
    "plt.ylim(0,50)\n",
    "plt.legend(bbox_to_anchor=(1.0,1.0), fontsize='8')\n",
    "\n",
    "#plt.savefig('../images/Race Bar Plot1.png', dpi = 300)"
   ]
  },
  {
   "cell_type": "markdown",
   "metadata": {},
   "source": [
    "### Figure 1\n",
    "This bar plot shows the mean factor scores for each of the five personality traits, separated by race. All races show higher scores on agreeableness and openness and lower scores on extraversion and neuroticism. Scores on conscientiousness are in the middle for all races."
   ]
  },
  {
   "cell_type": "code",
   "execution_count": null,
   "metadata": {},
   "outputs": [],
   "source": [
    "fig, axes = plt.subplots(5, 1, figsize=(17, 25), sharex=True, sharey = True)\n",
    "fig.suptitle('Comparison of Factor Scores by Race', fontsize = 20)\n",
    "sns.set_theme('notebook', \"whitegrid\", palette = \"pastel\")\n",
    "\n",
    "sns.barplot(ax=axes[0],x=\"Race\", y = \"Extraversion\", errorbar = (\"ci\", 98), errwidth = .95, capsize = .20,\n",
    "            data=df_cleaned).set(title = \"Extraversion\", xlabel = \"\", ylabel = \"\")\n",
    "sns.barplot(ax=axes[1],x=\"Race\", y = \"Neuroticism\",  errorbar = (\"ci\", 98), errwidth = .95, capsize = .20,\n",
    "            data=df_cleaned).set(title = \"Neuroticism\", xlabel = \"\", ylabel = \"\")\n",
    "sns.barplot(ax=axes[2],x=\"Race\", y = \"Agreeableness\", errorbar = (\"ci\", 98), errwidth = .95, capsize = .20,\n",
    "            data=df_cleaned).set(title = \"Agreeableness\", xlabel = \"\", ylabel = \"Mean Factor Score\")\n",
    "sns.barplot(ax=axes[3],x=\"Race\", y = \"Conscientiousness\", errorbar = (\"ci\", 98), errwidth = .95, capsize = .20,\n",
    "            data=df_cleaned).set(title = \"Conscientiousness\", xlabel = \"\", ylabel = \"\")\n",
    "sns.barplot(ax=axes[4],x=\"Race\", y = \"Openness\", errorbar = (\"ci\", 98), errwidth = .95, capsize = .20,\n",
    "            data=df_cleaned).set(title = \"Openness\", xlabel = \"\", ylabel = \"\")\n",
    "\n",
    "plt.ylim(0,50)\n",
    "#plt.savefig('../images/Race Bar Plot2.png', dpi = 300)"
   ]
  },
  {
   "cell_type": "markdown",
   "metadata": {},
   "source": [
    "### Figure 2\n",
    "This line plot shows the relationship between the personality traits, separated by race.\n",
    "\n",
    "All races show a positive relationship between Neuroticism and Extraversion, Agreeableness and Extraversion, Openness and Extraversion, Openness and Neuroticism, Conscientiousness and Agreeableness, Openness and Agreeableness, and Openness and Conscientiousness.\n",
    "\n",
    "Native Hawaiian or Other Pacific Islander and Black or African American show no relationship between Conscientiousness and Extraversion. Other races show a positive relationship between Conscientiousness and Extraversion. Native Hawaiian or Other Pacific Islander shows no relationship between Agreeableness and Neuroticism. Other races show a positive relationship between Agreeableness and Neuroticism. Native Hawaiian or Other Pacific Islander shows no relationship between Conscientiousness and Neuroticism. Other races show a positive relationship between Conscientiousness and Neuroticism."
   ]
  },
  {
   "cell_type": "code",
   "execution_count": null,
   "metadata": {},
   "outputs": [],
   "source": [
    "df_cleaned_american = df_cleaned[df_cleaned['Race'] == 'American Indian or Alaska Native']\n",
    "df_corr_american = df_cleaned_american.corr()\n",
    "\n",
    "df_cleaned_asian = df_cleaned[df_cleaned['Race'] == 'Asian']\n",
    "df_corr_asian = df_cleaned_asian.corr()\n",
    "\n",
    "df_cleaned_black = df_cleaned[df_cleaned['Race'] == 'Black or African American']\n",
    "df_corr_black = df_cleaned_black.corr()\n",
    "\n",
    "df_cleaned_native = df_cleaned[df_cleaned['Race'] == 'Native Hawaiian or Other Pacific Islander']\n",
    "df_corr_native = df_cleaned_native.corr()\n",
    "\n",
    "df_cleaned_white = df_cleaned[df_cleaned['Race'] == 'White']\n",
    "df_corr_white = df_cleaned_white.corr()"
   ]
  },
  {
   "cell_type": "code",
   "execution_count": null,
   "metadata": {},
   "outputs": [],
   "source": [
    "fig,(ax1,ax2,ax3,ax4,ax5) = plt.subplots(1,5, figsize=(20, 5), sharey=True)\n",
    "fig.suptitle('Correlations Among Big 5 Personality Traits by Race', fontsize=20)\n",
    "\n",
    "g1 = sns.heatmap(df_corr_american, annot=True, cmap='YlGnBu', cbar=False, ax=ax1)\n",
    "g1.set_title('American Indian or Alaska Native', fontsize=13)\n",
    "g1.set_ylabel('')\n",
    "g1.set_xlabel('')\n",
    "\n",
    "g2 = sns.heatmap(df_corr_asian, annot=True, cmap='YlGnBu', cbar=False, ax=ax2)\n",
    "g2.set_title('Asian', fontsize=13)\n",
    "g2.set_ylabel('')\n",
    "g2.set_xlabel('')\n",
    "\n",
    "g3 = sns.heatmap(df_corr_black, annot=True, cmap='YlGnBu',cbar=False, ax=ax3)\n",
    "g3.set_title('Black or African American', fontsize=13)\n",
    "g3.set_ylabel('')\n",
    "g3.set_xlabel('')\n",
    "\n",
    "g4 = sns.heatmap(df_corr_native, annot=True, cmap='YlGnBu', cbar=False, ax=ax4)\n",
    "g4.set_title('Native Hawaiian or Other Pacific Islander', fontsize=13)\n",
    "g4.set_ylabel('')\n",
    "g4.set_xlabel('')\n",
    "\n",
    "g5 = sns.heatmap(df_corr_white, annot=True, cmap='YlGnBu', ax=ax5, cbar_kws={'label':'Correlation Coefficient'})\n",
    "g5.set_title('White', fontsize=13)\n",
    "g5.set_ylabel('')\n",
    "g5.set_xlabel('')\n",
    "\n",
    "#plt.savefig('../images/Race Correlation.png', dpi = 300)"
   ]
  },
  {
   "cell_type": "markdown",
   "metadata": {},
   "source": [
    "### Figure 3\n",
    "This plot shows Pearson's correlation coefficient among the five personality traits for each race. The darker colours represent greater magnitude of correlation. All races show a weak positive correlation or no correlation among the five personality traits.\n",
    "\n",
    "The American Indian or Alaska Native shows the strongest correlation (r = .42) between Extraversion and Agreeableness and the weakest correlation (r = .10) between Neuroticism and Openness. Asian shows the strongest correlation (r = .35) between Extraversion and Agreeableness and the weakest correlation (r = .11) between Neuroticism and Openness. Black or African American shows the strongest correlation (r = .34) between Agreeableness and Conscientiousness and the weakest correlation (r = .049) between Extraversion and Conscientiousness. Native Hawaiian or Other Pacific Islander shows the strongest correlation (r = .33) between Agreeableness and Conscientiousness and the weakest correlation (r = .026) between Neuroticism and Agreeableness. White shows the strongest correlation (r = .34) between Extraversion and Agreeableness and the weakest correlation (r = .059) between Openness and Conscientiousness. No particular correlation between personality traits is strongest or weakest for all races.\n",
    "\n",
    "However, all races show a stronger correlation between Extraversion and Agreeableness compared to other correlations between personality traits. Moreover, all races show a weaker correlation between Neuroticism and Openness and between Conscientiousness and Openness compared to other correlations between personality traits."
   ]
  },
  {
   "cell_type": "markdown",
   "metadata": {},
   "source": [
    "## Conclusion"
   ]
  },
  {
   "cell_type": "markdown",
   "metadata": {},
   "source": [
    "I created three visualizations to examine the relationships between personality traits and race. I hypothesized that a particular race group would show higher scores on the big five personality traits (extraversion, neuroticism, agreeableness, conscientiousness, openness) than other race groups.\n",
    "\n",
    "According to Figure 1, all races show higher scores on agreeableness and openness and lower scores on extraversion and neuroticism. Also, scores on conscientiousness are in the middle for all races. The result indicates no differences in the big five personality traits among races, which does not support the hypothesis.\n",
    "\n",
    "According to Figure 2, there is no particular correlation between personality traits that are strongest or weakest for all races. However, all races show a stronger correlation between extraversion and agreeableness compared to other correlations between personality traits. Also, all races show a weaker correlation between neuroticism and openness and between conscientiousness and openness compared to other correlations between personality traits. The result indicates no differences in the big five personality traits among races, which does not support the hypothesis.\n",
    "\n",
    "According to Figure 3, some races show no relationship between personality traits; however, most races tend to show a positive relationship between personality traits. The result indicates no differences in the big five personality traits among races, which does not support the hypothesis.\n",
    "\n",
    "In conclusion, there is no significant relationship between personality traits and race."
   ]
  }
 ],
 "metadata": {
  "kernelspec": {
   "display_name": "Python 3 (ipykernel)",
   "language": "python",
   "name": "python3"
  }
 },
 "nbformat": 4,
 "nbformat_minor": 4
}
